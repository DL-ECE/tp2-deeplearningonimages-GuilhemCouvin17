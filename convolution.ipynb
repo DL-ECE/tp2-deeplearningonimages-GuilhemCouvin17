{
  "nbformat": 4,
  "nbformat_minor": 0,
  "metadata": {
    "accelerator": "GPU",
    "colab": {
      "name": "convolution.ipynb",
      "provenance": [],
      "collapsed_sections": [
        "R2JALA0rnGE1",
        "q7Ucg7xRQDwn"
      ],
      "include_colab_link": true
    },
    "jupytext": {
      "cell_metadata_filter": "-all",
      "main_language": "python",
      "notebook_metadata_filter": "-all"
    },
    "kernelspec": {
      "display_name": "Python 3",
      "language": "python",
      "name": "python3"
    },
    "language_info": {
      "codemirror_mode": {
        "name": "ipython",
        "version": 3
      },
      "file_extension": ".py",
      "mimetype": "text/x-python",
      "name": "python",
      "nbconvert_exporter": "python",
      "pygments_lexer": "ipython3",
      "version": "3.6.9-final"
    },
    "widgets": {
      "application/vnd.jupyter.widget-state+json": {
        "a6ea760dc7bb449cb71ebb0da5afc624": {
          "model_module": "@jupyter-widgets/controls",
          "model_name": "HBoxModel",
          "state": {
            "_view_name": "HBoxView",
            "_dom_classes": [],
            "_model_name": "HBoxModel",
            "_view_module": "@jupyter-widgets/controls",
            "_model_module_version": "1.5.0",
            "_view_count": null,
            "_view_module_version": "1.5.0",
            "box_style": "",
            "layout": "IPY_MODEL_f588511acb074851a8118db7e5839961",
            "_model_module": "@jupyter-widgets/controls",
            "children": [
              "IPY_MODEL_816ab005a5ef441baad58f230d449e3c",
              "IPY_MODEL_d8f78b9b70d4426bbbff4bceda826c65"
            ]
          }
        },
        "f588511acb074851a8118db7e5839961": {
          "model_module": "@jupyter-widgets/base",
          "model_name": "LayoutModel",
          "state": {
            "_view_name": "LayoutView",
            "grid_template_rows": null,
            "right": null,
            "justify_content": null,
            "_view_module": "@jupyter-widgets/base",
            "overflow": null,
            "_model_module_version": "1.2.0",
            "_view_count": null,
            "flex_flow": null,
            "width": null,
            "min_width": null,
            "border": null,
            "align_items": null,
            "bottom": null,
            "_model_module": "@jupyter-widgets/base",
            "top": null,
            "grid_column": null,
            "overflow_y": null,
            "overflow_x": null,
            "grid_auto_flow": null,
            "grid_area": null,
            "grid_template_columns": null,
            "flex": null,
            "_model_name": "LayoutModel",
            "justify_items": null,
            "grid_row": null,
            "max_height": null,
            "align_content": null,
            "visibility": null,
            "align_self": null,
            "height": null,
            "min_height": null,
            "padding": null,
            "grid_auto_rows": null,
            "grid_gap": null,
            "max_width": null,
            "order": null,
            "_view_module_version": "1.2.0",
            "grid_template_areas": null,
            "object_position": null,
            "object_fit": null,
            "grid_auto_columns": null,
            "margin": null,
            "display": null,
            "left": null
          }
        },
        "816ab005a5ef441baad58f230d449e3c": {
          "model_module": "@jupyter-widgets/controls",
          "model_name": "FloatProgressModel",
          "state": {
            "_view_name": "ProgressView",
            "style": "IPY_MODEL_85c7500ec73446d1a0fca6458e3ee802",
            "_dom_classes": [],
            "description": "",
            "_model_name": "FloatProgressModel",
            "bar_style": "info",
            "max": 1,
            "_view_module": "@jupyter-widgets/controls",
            "_model_module_version": "1.5.0",
            "value": 1,
            "_view_count": null,
            "_view_module_version": "1.5.0",
            "orientation": "horizontal",
            "min": 0,
            "description_tooltip": null,
            "_model_module": "@jupyter-widgets/controls",
            "layout": "IPY_MODEL_89576db90e134b27b2bcaa699af8e9e7"
          }
        },
        "d8f78b9b70d4426bbbff4bceda826c65": {
          "model_module": "@jupyter-widgets/controls",
          "model_name": "HTMLModel",
          "state": {
            "_view_name": "HTMLView",
            "style": "IPY_MODEL_fa6cc6c77d2247139a4ab99098385f6d",
            "_dom_classes": [],
            "description": "",
            "_model_name": "HTMLModel",
            "placeholder": "​",
            "_view_module": "@jupyter-widgets/controls",
            "_model_module_version": "1.5.0",
            "value": " 9920512/? [00:20&lt;00:00, 180067.38it/s]",
            "_view_count": null,
            "_view_module_version": "1.5.0",
            "description_tooltip": null,
            "_model_module": "@jupyter-widgets/controls",
            "layout": "IPY_MODEL_9c7664921ec74662be78862e9c40e977"
          }
        },
        "85c7500ec73446d1a0fca6458e3ee802": {
          "model_module": "@jupyter-widgets/controls",
          "model_name": "ProgressStyleModel",
          "state": {
            "_view_name": "StyleView",
            "_model_name": "ProgressStyleModel",
            "description_width": "initial",
            "_view_module": "@jupyter-widgets/base",
            "_model_module_version": "1.5.0",
            "_view_count": null,
            "_view_module_version": "1.2.0",
            "bar_color": null,
            "_model_module": "@jupyter-widgets/controls"
          }
        },
        "89576db90e134b27b2bcaa699af8e9e7": {
          "model_module": "@jupyter-widgets/base",
          "model_name": "LayoutModel",
          "state": {
            "_view_name": "LayoutView",
            "grid_template_rows": null,
            "right": null,
            "justify_content": null,
            "_view_module": "@jupyter-widgets/base",
            "overflow": null,
            "_model_module_version": "1.2.0",
            "_view_count": null,
            "flex_flow": null,
            "width": null,
            "min_width": null,
            "border": null,
            "align_items": null,
            "bottom": null,
            "_model_module": "@jupyter-widgets/base",
            "top": null,
            "grid_column": null,
            "overflow_y": null,
            "overflow_x": null,
            "grid_auto_flow": null,
            "grid_area": null,
            "grid_template_columns": null,
            "flex": null,
            "_model_name": "LayoutModel",
            "justify_items": null,
            "grid_row": null,
            "max_height": null,
            "align_content": null,
            "visibility": null,
            "align_self": null,
            "height": null,
            "min_height": null,
            "padding": null,
            "grid_auto_rows": null,
            "grid_gap": null,
            "max_width": null,
            "order": null,
            "_view_module_version": "1.2.0",
            "grid_template_areas": null,
            "object_position": null,
            "object_fit": null,
            "grid_auto_columns": null,
            "margin": null,
            "display": null,
            "left": null
          }
        },
        "fa6cc6c77d2247139a4ab99098385f6d": {
          "model_module": "@jupyter-widgets/controls",
          "model_name": "DescriptionStyleModel",
          "state": {
            "_view_name": "StyleView",
            "_model_name": "DescriptionStyleModel",
            "description_width": "",
            "_view_module": "@jupyter-widgets/base",
            "_model_module_version": "1.5.0",
            "_view_count": null,
            "_view_module_version": "1.2.0",
            "_model_module": "@jupyter-widgets/controls"
          }
        },
        "9c7664921ec74662be78862e9c40e977": {
          "model_module": "@jupyter-widgets/base",
          "model_name": "LayoutModel",
          "state": {
            "_view_name": "LayoutView",
            "grid_template_rows": null,
            "right": null,
            "justify_content": null,
            "_view_module": "@jupyter-widgets/base",
            "overflow": null,
            "_model_module_version": "1.2.0",
            "_view_count": null,
            "flex_flow": null,
            "width": null,
            "min_width": null,
            "border": null,
            "align_items": null,
            "bottom": null,
            "_model_module": "@jupyter-widgets/base",
            "top": null,
            "grid_column": null,
            "overflow_y": null,
            "overflow_x": null,
            "grid_auto_flow": null,
            "grid_area": null,
            "grid_template_columns": null,
            "flex": null,
            "_model_name": "LayoutModel",
            "justify_items": null,
            "grid_row": null,
            "max_height": null,
            "align_content": null,
            "visibility": null,
            "align_self": null,
            "height": null,
            "min_height": null,
            "padding": null,
            "grid_auto_rows": null,
            "grid_gap": null,
            "max_width": null,
            "order": null,
            "_view_module_version": "1.2.0",
            "grid_template_areas": null,
            "object_position": null,
            "object_fit": null,
            "grid_auto_columns": null,
            "margin": null,
            "display": null,
            "left": null
          }
        },
        "142516ee9f1c4bdd85d1b9dd8420971f": {
          "model_module": "@jupyter-widgets/controls",
          "model_name": "HBoxModel",
          "state": {
            "_view_name": "HBoxView",
            "_dom_classes": [],
            "_model_name": "HBoxModel",
            "_view_module": "@jupyter-widgets/controls",
            "_model_module_version": "1.5.0",
            "_view_count": null,
            "_view_module_version": "1.5.0",
            "box_style": "",
            "layout": "IPY_MODEL_67991610869b41cda3c69451504d55d6",
            "_model_module": "@jupyter-widgets/controls",
            "children": [
              "IPY_MODEL_07dd650a0e1c495fae9acb515ba98016",
              "IPY_MODEL_494615eb12f74932a1ab40af853f91f9"
            ]
          }
        },
        "67991610869b41cda3c69451504d55d6": {
          "model_module": "@jupyter-widgets/base",
          "model_name": "LayoutModel",
          "state": {
            "_view_name": "LayoutView",
            "grid_template_rows": null,
            "right": null,
            "justify_content": null,
            "_view_module": "@jupyter-widgets/base",
            "overflow": null,
            "_model_module_version": "1.2.0",
            "_view_count": null,
            "flex_flow": null,
            "width": null,
            "min_width": null,
            "border": null,
            "align_items": null,
            "bottom": null,
            "_model_module": "@jupyter-widgets/base",
            "top": null,
            "grid_column": null,
            "overflow_y": null,
            "overflow_x": null,
            "grid_auto_flow": null,
            "grid_area": null,
            "grid_template_columns": null,
            "flex": null,
            "_model_name": "LayoutModel",
            "justify_items": null,
            "grid_row": null,
            "max_height": null,
            "align_content": null,
            "visibility": null,
            "align_self": null,
            "height": null,
            "min_height": null,
            "padding": null,
            "grid_auto_rows": null,
            "grid_gap": null,
            "max_width": null,
            "order": null,
            "_view_module_version": "1.2.0",
            "grid_template_areas": null,
            "object_position": null,
            "object_fit": null,
            "grid_auto_columns": null,
            "margin": null,
            "display": null,
            "left": null
          }
        },
        "07dd650a0e1c495fae9acb515ba98016": {
          "model_module": "@jupyter-widgets/controls",
          "model_name": "FloatProgressModel",
          "state": {
            "_view_name": "ProgressView",
            "style": "IPY_MODEL_fc52f0b1ee8c4516b2a74d83facf0804",
            "_dom_classes": [],
            "description": "",
            "_model_name": "FloatProgressModel",
            "bar_style": "success",
            "max": 1,
            "_view_module": "@jupyter-widgets/controls",
            "_model_module_version": "1.5.0",
            "value": 1,
            "_view_count": null,
            "_view_module_version": "1.5.0",
            "orientation": "horizontal",
            "min": 0,
            "description_tooltip": null,
            "_model_module": "@jupyter-widgets/controls",
            "layout": "IPY_MODEL_9da0008a56a3454aaf13c2a2d4e8a5e6"
          }
        },
        "494615eb12f74932a1ab40af853f91f9": {
          "model_module": "@jupyter-widgets/controls",
          "model_name": "HTMLModel",
          "state": {
            "_view_name": "HTMLView",
            "style": "IPY_MODEL_d1cc9fbee8b044cc960ade3957d4d34a",
            "_dom_classes": [],
            "description": "",
            "_model_name": "HTMLModel",
            "placeholder": "​",
            "_view_module": "@jupyter-widgets/controls",
            "_model_module_version": "1.5.0",
            "value": " 32768/? [00:00&lt;00:00, 59640.99it/s]",
            "_view_count": null,
            "_view_module_version": "1.5.0",
            "description_tooltip": null,
            "_model_module": "@jupyter-widgets/controls",
            "layout": "IPY_MODEL_d292ba441e0c4fe4b8d0b53d09711536"
          }
        },
        "fc52f0b1ee8c4516b2a74d83facf0804": {
          "model_module": "@jupyter-widgets/controls",
          "model_name": "ProgressStyleModel",
          "state": {
            "_view_name": "StyleView",
            "_model_name": "ProgressStyleModel",
            "description_width": "initial",
            "_view_module": "@jupyter-widgets/base",
            "_model_module_version": "1.5.0",
            "_view_count": null,
            "_view_module_version": "1.2.0",
            "bar_color": null,
            "_model_module": "@jupyter-widgets/controls"
          }
        },
        "9da0008a56a3454aaf13c2a2d4e8a5e6": {
          "model_module": "@jupyter-widgets/base",
          "model_name": "LayoutModel",
          "state": {
            "_view_name": "LayoutView",
            "grid_template_rows": null,
            "right": null,
            "justify_content": null,
            "_view_module": "@jupyter-widgets/base",
            "overflow": null,
            "_model_module_version": "1.2.0",
            "_view_count": null,
            "flex_flow": null,
            "width": null,
            "min_width": null,
            "border": null,
            "align_items": null,
            "bottom": null,
            "_model_module": "@jupyter-widgets/base",
            "top": null,
            "grid_column": null,
            "overflow_y": null,
            "overflow_x": null,
            "grid_auto_flow": null,
            "grid_area": null,
            "grid_template_columns": null,
            "flex": null,
            "_model_name": "LayoutModel",
            "justify_items": null,
            "grid_row": null,
            "max_height": null,
            "align_content": null,
            "visibility": null,
            "align_self": null,
            "height": null,
            "min_height": null,
            "padding": null,
            "grid_auto_rows": null,
            "grid_gap": null,
            "max_width": null,
            "order": null,
            "_view_module_version": "1.2.0",
            "grid_template_areas": null,
            "object_position": null,
            "object_fit": null,
            "grid_auto_columns": null,
            "margin": null,
            "display": null,
            "left": null
          }
        },
        "d1cc9fbee8b044cc960ade3957d4d34a": {
          "model_module": "@jupyter-widgets/controls",
          "model_name": "DescriptionStyleModel",
          "state": {
            "_view_name": "StyleView",
            "_model_name": "DescriptionStyleModel",
            "description_width": "",
            "_view_module": "@jupyter-widgets/base",
            "_model_module_version": "1.5.0",
            "_view_count": null,
            "_view_module_version": "1.2.0",
            "_model_module": "@jupyter-widgets/controls"
          }
        },
        "d292ba441e0c4fe4b8d0b53d09711536": {
          "model_module": "@jupyter-widgets/base",
          "model_name": "LayoutModel",
          "state": {
            "_view_name": "LayoutView",
            "grid_template_rows": null,
            "right": null,
            "justify_content": null,
            "_view_module": "@jupyter-widgets/base",
            "overflow": null,
            "_model_module_version": "1.2.0",
            "_view_count": null,
            "flex_flow": null,
            "width": null,
            "min_width": null,
            "border": null,
            "align_items": null,
            "bottom": null,
            "_model_module": "@jupyter-widgets/base",
            "top": null,
            "grid_column": null,
            "overflow_y": null,
            "overflow_x": null,
            "grid_auto_flow": null,
            "grid_area": null,
            "grid_template_columns": null,
            "flex": null,
            "_model_name": "LayoutModel",
            "justify_items": null,
            "grid_row": null,
            "max_height": null,
            "align_content": null,
            "visibility": null,
            "align_self": null,
            "height": null,
            "min_height": null,
            "padding": null,
            "grid_auto_rows": null,
            "grid_gap": null,
            "max_width": null,
            "order": null,
            "_view_module_version": "1.2.0",
            "grid_template_areas": null,
            "object_position": null,
            "object_fit": null,
            "grid_auto_columns": null,
            "margin": null,
            "display": null,
            "left": null
          }
        },
        "82c794259a1c4cf38628226082b2c717": {
          "model_module": "@jupyter-widgets/controls",
          "model_name": "HBoxModel",
          "state": {
            "_view_name": "HBoxView",
            "_dom_classes": [],
            "_model_name": "HBoxModel",
            "_view_module": "@jupyter-widgets/controls",
            "_model_module_version": "1.5.0",
            "_view_count": null,
            "_view_module_version": "1.5.0",
            "box_style": "",
            "layout": "IPY_MODEL_c51960e603514495938a94a2a0f1e902",
            "_model_module": "@jupyter-widgets/controls",
            "children": [
              "IPY_MODEL_6f50405974454f678f5a6565e09971f1",
              "IPY_MODEL_34a2f4c6929f4230b5d915076b38af31"
            ]
          }
        },
        "c51960e603514495938a94a2a0f1e902": {
          "model_module": "@jupyter-widgets/base",
          "model_name": "LayoutModel",
          "state": {
            "_view_name": "LayoutView",
            "grid_template_rows": null,
            "right": null,
            "justify_content": null,
            "_view_module": "@jupyter-widgets/base",
            "overflow": null,
            "_model_module_version": "1.2.0",
            "_view_count": null,
            "flex_flow": null,
            "width": null,
            "min_width": null,
            "border": null,
            "align_items": null,
            "bottom": null,
            "_model_module": "@jupyter-widgets/base",
            "top": null,
            "grid_column": null,
            "overflow_y": null,
            "overflow_x": null,
            "grid_auto_flow": null,
            "grid_area": null,
            "grid_template_columns": null,
            "flex": null,
            "_model_name": "LayoutModel",
            "justify_items": null,
            "grid_row": null,
            "max_height": null,
            "align_content": null,
            "visibility": null,
            "align_self": null,
            "height": null,
            "min_height": null,
            "padding": null,
            "grid_auto_rows": null,
            "grid_gap": null,
            "max_width": null,
            "order": null,
            "_view_module_version": "1.2.0",
            "grid_template_areas": null,
            "object_position": null,
            "object_fit": null,
            "grid_auto_columns": null,
            "margin": null,
            "display": null,
            "left": null
          }
        },
        "6f50405974454f678f5a6565e09971f1": {
          "model_module": "@jupyter-widgets/controls",
          "model_name": "FloatProgressModel",
          "state": {
            "_view_name": "ProgressView",
            "style": "IPY_MODEL_b80ead7fd4d545ae8db33c748effd97f",
            "_dom_classes": [],
            "description": "",
            "_model_name": "FloatProgressModel",
            "bar_style": "success",
            "max": 1,
            "_view_module": "@jupyter-widgets/controls",
            "_model_module_version": "1.5.0",
            "value": 1,
            "_view_count": null,
            "_view_module_version": "1.5.0",
            "orientation": "horizontal",
            "min": 0,
            "description_tooltip": null,
            "_model_module": "@jupyter-widgets/controls",
            "layout": "IPY_MODEL_d35127233904470893ee29b83a7acab5"
          }
        },
        "34a2f4c6929f4230b5d915076b38af31": {
          "model_module": "@jupyter-widgets/controls",
          "model_name": "HTMLModel",
          "state": {
            "_view_name": "HTMLView",
            "style": "IPY_MODEL_0bbbc14bb2d44b9f99279483d2f449ff",
            "_dom_classes": [],
            "description": "",
            "_model_name": "HTMLModel",
            "placeholder": "​",
            "_view_module": "@jupyter-widgets/controls",
            "_model_module_version": "1.5.0",
            "value": " 1654784/? [00:00&lt;00:00, 3470980.91it/s]",
            "_view_count": null,
            "_view_module_version": "1.5.0",
            "description_tooltip": null,
            "_model_module": "@jupyter-widgets/controls",
            "layout": "IPY_MODEL_e8cb91d2fcd84c3992f43fd1e539a9e0"
          }
        },
        "b80ead7fd4d545ae8db33c748effd97f": {
          "model_module": "@jupyter-widgets/controls",
          "model_name": "ProgressStyleModel",
          "state": {
            "_view_name": "StyleView",
            "_model_name": "ProgressStyleModel",
            "description_width": "initial",
            "_view_module": "@jupyter-widgets/base",
            "_model_module_version": "1.5.0",
            "_view_count": null,
            "_view_module_version": "1.2.0",
            "bar_color": null,
            "_model_module": "@jupyter-widgets/controls"
          }
        },
        "d35127233904470893ee29b83a7acab5": {
          "model_module": "@jupyter-widgets/base",
          "model_name": "LayoutModel",
          "state": {
            "_view_name": "LayoutView",
            "grid_template_rows": null,
            "right": null,
            "justify_content": null,
            "_view_module": "@jupyter-widgets/base",
            "overflow": null,
            "_model_module_version": "1.2.0",
            "_view_count": null,
            "flex_flow": null,
            "width": null,
            "min_width": null,
            "border": null,
            "align_items": null,
            "bottom": null,
            "_model_module": "@jupyter-widgets/base",
            "top": null,
            "grid_column": null,
            "overflow_y": null,
            "overflow_x": null,
            "grid_auto_flow": null,
            "grid_area": null,
            "grid_template_columns": null,
            "flex": null,
            "_model_name": "LayoutModel",
            "justify_items": null,
            "grid_row": null,
            "max_height": null,
            "align_content": null,
            "visibility": null,
            "align_self": null,
            "height": null,
            "min_height": null,
            "padding": null,
            "grid_auto_rows": null,
            "grid_gap": null,
            "max_width": null,
            "order": null,
            "_view_module_version": "1.2.0",
            "grid_template_areas": null,
            "object_position": null,
            "object_fit": null,
            "grid_auto_columns": null,
            "margin": null,
            "display": null,
            "left": null
          }
        },
        "0bbbc14bb2d44b9f99279483d2f449ff": {
          "model_module": "@jupyter-widgets/controls",
          "model_name": "DescriptionStyleModel",
          "state": {
            "_view_name": "StyleView",
            "_model_name": "DescriptionStyleModel",
            "description_width": "",
            "_view_module": "@jupyter-widgets/base",
            "_model_module_version": "1.5.0",
            "_view_count": null,
            "_view_module_version": "1.2.0",
            "_model_module": "@jupyter-widgets/controls"
          }
        },
        "e8cb91d2fcd84c3992f43fd1e539a9e0": {
          "model_module": "@jupyter-widgets/base",
          "model_name": "LayoutModel",
          "state": {
            "_view_name": "LayoutView",
            "grid_template_rows": null,
            "right": null,
            "justify_content": null,
            "_view_module": "@jupyter-widgets/base",
            "overflow": null,
            "_model_module_version": "1.2.0",
            "_view_count": null,
            "flex_flow": null,
            "width": null,
            "min_width": null,
            "border": null,
            "align_items": null,
            "bottom": null,
            "_model_module": "@jupyter-widgets/base",
            "top": null,
            "grid_column": null,
            "overflow_y": null,
            "overflow_x": null,
            "grid_auto_flow": null,
            "grid_area": null,
            "grid_template_columns": null,
            "flex": null,
            "_model_name": "LayoutModel",
            "justify_items": null,
            "grid_row": null,
            "max_height": null,
            "align_content": null,
            "visibility": null,
            "align_self": null,
            "height": null,
            "min_height": null,
            "padding": null,
            "grid_auto_rows": null,
            "grid_gap": null,
            "max_width": null,
            "order": null,
            "_view_module_version": "1.2.0",
            "grid_template_areas": null,
            "object_position": null,
            "object_fit": null,
            "grid_auto_columns": null,
            "margin": null,
            "display": null,
            "left": null
          }
        },
        "d181bd0c1b3848c087846d1040c99a1d": {
          "model_module": "@jupyter-widgets/controls",
          "model_name": "HBoxModel",
          "state": {
            "_view_name": "HBoxView",
            "_dom_classes": [],
            "_model_name": "HBoxModel",
            "_view_module": "@jupyter-widgets/controls",
            "_model_module_version": "1.5.0",
            "_view_count": null,
            "_view_module_version": "1.5.0",
            "box_style": "",
            "layout": "IPY_MODEL_c741db60685b49c5a8b1d5d9165948b7",
            "_model_module": "@jupyter-widgets/controls",
            "children": [
              "IPY_MODEL_1bb0663c8d0047838e8c9431e50e3d51",
              "IPY_MODEL_65751414a6ef47c886bedb35b9d2b1bd"
            ]
          }
        },
        "c741db60685b49c5a8b1d5d9165948b7": {
          "model_module": "@jupyter-widgets/base",
          "model_name": "LayoutModel",
          "state": {
            "_view_name": "LayoutView",
            "grid_template_rows": null,
            "right": null,
            "justify_content": null,
            "_view_module": "@jupyter-widgets/base",
            "overflow": null,
            "_model_module_version": "1.2.0",
            "_view_count": null,
            "flex_flow": null,
            "width": null,
            "min_width": null,
            "border": null,
            "align_items": null,
            "bottom": null,
            "_model_module": "@jupyter-widgets/base",
            "top": null,
            "grid_column": null,
            "overflow_y": null,
            "overflow_x": null,
            "grid_auto_flow": null,
            "grid_area": null,
            "grid_template_columns": null,
            "flex": null,
            "_model_name": "LayoutModel",
            "justify_items": null,
            "grid_row": null,
            "max_height": null,
            "align_content": null,
            "visibility": null,
            "align_self": null,
            "height": null,
            "min_height": null,
            "padding": null,
            "grid_auto_rows": null,
            "grid_gap": null,
            "max_width": null,
            "order": null,
            "_view_module_version": "1.2.0",
            "grid_template_areas": null,
            "object_position": null,
            "object_fit": null,
            "grid_auto_columns": null,
            "margin": null,
            "display": null,
            "left": null
          }
        },
        "1bb0663c8d0047838e8c9431e50e3d51": {
          "model_module": "@jupyter-widgets/controls",
          "model_name": "FloatProgressModel",
          "state": {
            "_view_name": "ProgressView",
            "style": "IPY_MODEL_18de14a497af45329a2d9d3bd054b194",
            "_dom_classes": [],
            "description": "",
            "_model_name": "FloatProgressModel",
            "bar_style": "success",
            "max": 1,
            "_view_module": "@jupyter-widgets/controls",
            "_model_module_version": "1.5.0",
            "value": 1,
            "_view_count": null,
            "_view_module_version": "1.5.0",
            "orientation": "horizontal",
            "min": 0,
            "description_tooltip": null,
            "_model_module": "@jupyter-widgets/controls",
            "layout": "IPY_MODEL_be5b672640824860a7af22566f33b007"
          }
        },
        "65751414a6ef47c886bedb35b9d2b1bd": {
          "model_module": "@jupyter-widgets/controls",
          "model_name": "HTMLModel",
          "state": {
            "_view_name": "HTMLView",
            "style": "IPY_MODEL_156194f36e77405eba5aa42422e2d454",
            "_dom_classes": [],
            "description": "",
            "_model_name": "HTMLModel",
            "placeholder": "​",
            "_view_module": "@jupyter-widgets/controls",
            "_model_module_version": "1.5.0",
            "value": " 8192/? [00:00&lt;00:00, 36191.96it/s]",
            "_view_count": null,
            "_view_module_version": "1.5.0",
            "description_tooltip": null,
            "_model_module": "@jupyter-widgets/controls",
            "layout": "IPY_MODEL_66b40b1c76d54f8bb0ec819a06214a49"
          }
        },
        "18de14a497af45329a2d9d3bd054b194": {
          "model_module": "@jupyter-widgets/controls",
          "model_name": "ProgressStyleModel",
          "state": {
            "_view_name": "StyleView",
            "_model_name": "ProgressStyleModel",
            "description_width": "initial",
            "_view_module": "@jupyter-widgets/base",
            "_model_module_version": "1.5.0",
            "_view_count": null,
            "_view_module_version": "1.2.0",
            "bar_color": null,
            "_model_module": "@jupyter-widgets/controls"
          }
        },
        "be5b672640824860a7af22566f33b007": {
          "model_module": "@jupyter-widgets/base",
          "model_name": "LayoutModel",
          "state": {
            "_view_name": "LayoutView",
            "grid_template_rows": null,
            "right": null,
            "justify_content": null,
            "_view_module": "@jupyter-widgets/base",
            "overflow": null,
            "_model_module_version": "1.2.0",
            "_view_count": null,
            "flex_flow": null,
            "width": null,
            "min_width": null,
            "border": null,
            "align_items": null,
            "bottom": null,
            "_model_module": "@jupyter-widgets/base",
            "top": null,
            "grid_column": null,
            "overflow_y": null,
            "overflow_x": null,
            "grid_auto_flow": null,
            "grid_area": null,
            "grid_template_columns": null,
            "flex": null,
            "_model_name": "LayoutModel",
            "justify_items": null,
            "grid_row": null,
            "max_height": null,
            "align_content": null,
            "visibility": null,
            "align_self": null,
            "height": null,
            "min_height": null,
            "padding": null,
            "grid_auto_rows": null,
            "grid_gap": null,
            "max_width": null,
            "order": null,
            "_view_module_version": "1.2.0",
            "grid_template_areas": null,
            "object_position": null,
            "object_fit": null,
            "grid_auto_columns": null,
            "margin": null,
            "display": null,
            "left": null
          }
        },
        "156194f36e77405eba5aa42422e2d454": {
          "model_module": "@jupyter-widgets/controls",
          "model_name": "DescriptionStyleModel",
          "state": {
            "_view_name": "StyleView",
            "_model_name": "DescriptionStyleModel",
            "description_width": "",
            "_view_module": "@jupyter-widgets/base",
            "_model_module_version": "1.5.0",
            "_view_count": null,
            "_view_module_version": "1.2.0",
            "_model_module": "@jupyter-widgets/controls"
          }
        },
        "66b40b1c76d54f8bb0ec819a06214a49": {
          "model_module": "@jupyter-widgets/base",
          "model_name": "LayoutModel",
          "state": {
            "_view_name": "LayoutView",
            "grid_template_rows": null,
            "right": null,
            "justify_content": null,
            "_view_module": "@jupyter-widgets/base",
            "overflow": null,
            "_model_module_version": "1.2.0",
            "_view_count": null,
            "flex_flow": null,
            "width": null,
            "min_width": null,
            "border": null,
            "align_items": null,
            "bottom": null,
            "_model_module": "@jupyter-widgets/base",
            "top": null,
            "grid_column": null,
            "overflow_y": null,
            "overflow_x": null,
            "grid_auto_flow": null,
            "grid_area": null,
            "grid_template_columns": null,
            "flex": null,
            "_model_name": "LayoutModel",
            "justify_items": null,
            "grid_row": null,
            "max_height": null,
            "align_content": null,
            "visibility": null,
            "align_self": null,
            "height": null,
            "min_height": null,
            "padding": null,
            "grid_auto_rows": null,
            "grid_gap": null,
            "max_width": null,
            "order": null,
            "_view_module_version": "1.2.0",
            "grid_template_areas": null,
            "object_position": null,
            "object_fit": null,
            "grid_auto_columns": null,
            "margin": null,
            "display": null,
            "left": null
          }
        },
        "29648fedebae434e8699361b27b161f6": {
          "model_module": "@jupyter-widgets/controls",
          "model_name": "HBoxModel",
          "state": {
            "_view_name": "HBoxView",
            "_dom_classes": [],
            "_model_name": "HBoxModel",
            "_view_module": "@jupyter-widgets/controls",
            "_model_module_version": "1.5.0",
            "_view_count": null,
            "_view_module_version": "1.5.0",
            "box_style": "",
            "layout": "IPY_MODEL_c6295614b3a24376ab19bcab5ec4cc96",
            "_model_module": "@jupyter-widgets/controls",
            "children": [
              "IPY_MODEL_b747a6c4200e4b8a90c8e0f0c96ba6fd",
              "IPY_MODEL_0cd9630234034cb3825a7f40acbafff8"
            ]
          }
        },
        "c6295614b3a24376ab19bcab5ec4cc96": {
          "model_module": "@jupyter-widgets/base",
          "model_name": "LayoutModel",
          "state": {
            "_view_name": "LayoutView",
            "grid_template_rows": null,
            "right": null,
            "justify_content": null,
            "_view_module": "@jupyter-widgets/base",
            "overflow": null,
            "_model_module_version": "1.2.0",
            "_view_count": null,
            "flex_flow": null,
            "width": null,
            "min_width": null,
            "border": null,
            "align_items": null,
            "bottom": null,
            "_model_module": "@jupyter-widgets/base",
            "top": null,
            "grid_column": null,
            "overflow_y": null,
            "overflow_x": null,
            "grid_auto_flow": null,
            "grid_area": null,
            "grid_template_columns": null,
            "flex": null,
            "_model_name": "LayoutModel",
            "justify_items": null,
            "grid_row": null,
            "max_height": null,
            "align_content": null,
            "visibility": null,
            "align_self": null,
            "height": null,
            "min_height": null,
            "padding": null,
            "grid_auto_rows": null,
            "grid_gap": null,
            "max_width": null,
            "order": null,
            "_view_module_version": "1.2.0",
            "grid_template_areas": null,
            "object_position": null,
            "object_fit": null,
            "grid_auto_columns": null,
            "margin": null,
            "display": null,
            "left": null
          }
        },
        "b747a6c4200e4b8a90c8e0f0c96ba6fd": {
          "model_module": "@jupyter-widgets/controls",
          "model_name": "FloatProgressModel",
          "state": {
            "_view_name": "ProgressView",
            "style": "IPY_MODEL_7e5c21885e89495290d0ba0354f8f099",
            "_dom_classes": [],
            "description": "",
            "_model_name": "FloatProgressModel",
            "bar_style": "success",
            "max": 312.5,
            "_view_module": "@jupyter-widgets/controls",
            "_model_module_version": "1.5.0",
            "value": 312.5,
            "_view_count": null,
            "_view_module_version": "1.5.0",
            "orientation": "horizontal",
            "min": 0,
            "description_tooltip": null,
            "_model_module": "@jupyter-widgets/controls",
            "layout": "IPY_MODEL_9e99322ec66f4b07ada6ae2cc1266a6b"
          }
        },
        "0cd9630234034cb3825a7f40acbafff8": {
          "model_module": "@jupyter-widgets/controls",
          "model_name": "HTMLModel",
          "state": {
            "_view_name": "HTMLView",
            "style": "IPY_MODEL_55e546d932e74e18ad9efa19e7b5b8ea",
            "_dom_classes": [],
            "description": "",
            "_model_name": "HTMLModel",
            "placeholder": "​",
            "_view_module": "@jupyter-widgets/controls",
            "_model_module_version": "1.5.0",
            "value": " 313/? [00:14&lt;00:00, 22.10it/s]",
            "_view_count": null,
            "_view_module_version": "1.5.0",
            "description_tooltip": null,
            "_model_module": "@jupyter-widgets/controls",
            "layout": "IPY_MODEL_fbd9d0b6184f4395ac37e32a10ed9426"
          }
        },
        "7e5c21885e89495290d0ba0354f8f099": {
          "model_module": "@jupyter-widgets/controls",
          "model_name": "ProgressStyleModel",
          "state": {
            "_view_name": "StyleView",
            "_model_name": "ProgressStyleModel",
            "description_width": "initial",
            "_view_module": "@jupyter-widgets/base",
            "_model_module_version": "1.5.0",
            "_view_count": null,
            "_view_module_version": "1.2.0",
            "bar_color": null,
            "_model_module": "@jupyter-widgets/controls"
          }
        },
        "9e99322ec66f4b07ada6ae2cc1266a6b": {
          "model_module": "@jupyter-widgets/base",
          "model_name": "LayoutModel",
          "state": {
            "_view_name": "LayoutView",
            "grid_template_rows": null,
            "right": null,
            "justify_content": null,
            "_view_module": "@jupyter-widgets/base",
            "overflow": null,
            "_model_module_version": "1.2.0",
            "_view_count": null,
            "flex_flow": null,
            "width": null,
            "min_width": null,
            "border": null,
            "align_items": null,
            "bottom": null,
            "_model_module": "@jupyter-widgets/base",
            "top": null,
            "grid_column": null,
            "overflow_y": null,
            "overflow_x": null,
            "grid_auto_flow": null,
            "grid_area": null,
            "grid_template_columns": null,
            "flex": null,
            "_model_name": "LayoutModel",
            "justify_items": null,
            "grid_row": null,
            "max_height": null,
            "align_content": null,
            "visibility": null,
            "align_self": null,
            "height": null,
            "min_height": null,
            "padding": null,
            "grid_auto_rows": null,
            "grid_gap": null,
            "max_width": null,
            "order": null,
            "_view_module_version": "1.2.0",
            "grid_template_areas": null,
            "object_position": null,
            "object_fit": null,
            "grid_auto_columns": null,
            "margin": null,
            "display": null,
            "left": null
          }
        },
        "55e546d932e74e18ad9efa19e7b5b8ea": {
          "model_module": "@jupyter-widgets/controls",
          "model_name": "DescriptionStyleModel",
          "state": {
            "_view_name": "StyleView",
            "_model_name": "DescriptionStyleModel",
            "description_width": "",
            "_view_module": "@jupyter-widgets/base",
            "_model_module_version": "1.5.0",
            "_view_count": null,
            "_view_module_version": "1.2.0",
            "_model_module": "@jupyter-widgets/controls"
          }
        },
        "fbd9d0b6184f4395ac37e32a10ed9426": {
          "model_module": "@jupyter-widgets/base",
          "model_name": "LayoutModel",
          "state": {
            "_view_name": "LayoutView",
            "grid_template_rows": null,
            "right": null,
            "justify_content": null,
            "_view_module": "@jupyter-widgets/base",
            "overflow": null,
            "_model_module_version": "1.2.0",
            "_view_count": null,
            "flex_flow": null,
            "width": null,
            "min_width": null,
            "border": null,
            "align_items": null,
            "bottom": null,
            "_model_module": "@jupyter-widgets/base",
            "top": null,
            "grid_column": null,
            "overflow_y": null,
            "overflow_x": null,
            "grid_auto_flow": null,
            "grid_area": null,
            "grid_template_columns": null,
            "flex": null,
            "_model_name": "LayoutModel",
            "justify_items": null,
            "grid_row": null,
            "max_height": null,
            "align_content": null,
            "visibility": null,
            "align_self": null,
            "height": null,
            "min_height": null,
            "padding": null,
            "grid_auto_rows": null,
            "grid_gap": null,
            "max_width": null,
            "order": null,
            "_view_module_version": "1.2.0",
            "grid_template_areas": null,
            "object_position": null,
            "object_fit": null,
            "grid_auto_columns": null,
            "margin": null,
            "display": null,
            "left": null
          }
        },
        "150ca9574bcb47d49facf687ede8b4bb": {
          "model_module": "@jupyter-widgets/controls",
          "model_name": "HBoxModel",
          "state": {
            "_view_name": "HBoxView",
            "_dom_classes": [],
            "_model_name": "HBoxModel",
            "_view_module": "@jupyter-widgets/controls",
            "_model_module_version": "1.5.0",
            "_view_count": null,
            "_view_module_version": "1.5.0",
            "box_style": "",
            "layout": "IPY_MODEL_ca595fa28d9841939f40e4187647ea39",
            "_model_module": "@jupyter-widgets/controls",
            "children": [
              "IPY_MODEL_17df1c6b61024c81aa6591a56334669d",
              "IPY_MODEL_94e030f7b07745eeb39e1a02ac84db25"
            ]
          }
        },
        "ca595fa28d9841939f40e4187647ea39": {
          "model_module": "@jupyter-widgets/base",
          "model_name": "LayoutModel",
          "state": {
            "_view_name": "LayoutView",
            "grid_template_rows": null,
            "right": null,
            "justify_content": null,
            "_view_module": "@jupyter-widgets/base",
            "overflow": null,
            "_model_module_version": "1.2.0",
            "_view_count": null,
            "flex_flow": null,
            "width": null,
            "min_width": null,
            "border": null,
            "align_items": null,
            "bottom": null,
            "_model_module": "@jupyter-widgets/base",
            "top": null,
            "grid_column": null,
            "overflow_y": null,
            "overflow_x": null,
            "grid_auto_flow": null,
            "grid_area": null,
            "grid_template_columns": null,
            "flex": null,
            "_model_name": "LayoutModel",
            "justify_items": null,
            "grid_row": null,
            "max_height": null,
            "align_content": null,
            "visibility": null,
            "align_self": null,
            "height": null,
            "min_height": null,
            "padding": null,
            "grid_auto_rows": null,
            "grid_gap": null,
            "max_width": null,
            "order": null,
            "_view_module_version": "1.2.0",
            "grid_template_areas": null,
            "object_position": null,
            "object_fit": null,
            "grid_auto_columns": null,
            "margin": null,
            "display": null,
            "left": null
          }
        },
        "17df1c6b61024c81aa6591a56334669d": {
          "model_module": "@jupyter-widgets/controls",
          "model_name": "FloatProgressModel",
          "state": {
            "_view_name": "ProgressView",
            "style": "IPY_MODEL_8d56ad8684004fa6b6faa1c3594874f7",
            "_dom_classes": [],
            "description": "100%",
            "_model_name": "FloatProgressModel",
            "bar_style": "success",
            "max": 1875,
            "_view_module": "@jupyter-widgets/controls",
            "_model_module_version": "1.5.0",
            "value": 1875,
            "_view_count": null,
            "_view_module_version": "1.5.0",
            "orientation": "horizontal",
            "min": 0,
            "description_tooltip": null,
            "_model_module": "@jupyter-widgets/controls",
            "layout": "IPY_MODEL_540ceb7a229e40799ddd1e7c362333c9"
          }
        },
        "94e030f7b07745eeb39e1a02ac84db25": {
          "model_module": "@jupyter-widgets/controls",
          "model_name": "HTMLModel",
          "state": {
            "_view_name": "HTMLView",
            "style": "IPY_MODEL_af0cc310ef774f7bb25cd27e12918ea5",
            "_dom_classes": [],
            "description": "",
            "_model_name": "HTMLModel",
            "placeholder": "​",
            "_view_module": "@jupyter-widgets/controls",
            "_model_module_version": "1.5.0",
            "value": " 1875/1875.0 [02:41&lt;00:00, 11.64it/s]",
            "_view_count": null,
            "_view_module_version": "1.5.0",
            "description_tooltip": null,
            "_model_module": "@jupyter-widgets/controls",
            "layout": "IPY_MODEL_e72abb2c350e417e97f5fbfe7bc3a81f"
          }
        },
        "8d56ad8684004fa6b6faa1c3594874f7": {
          "model_module": "@jupyter-widgets/controls",
          "model_name": "ProgressStyleModel",
          "state": {
            "_view_name": "StyleView",
            "_model_name": "ProgressStyleModel",
            "description_width": "initial",
            "_view_module": "@jupyter-widgets/base",
            "_model_module_version": "1.5.0",
            "_view_count": null,
            "_view_module_version": "1.2.0",
            "bar_color": null,
            "_model_module": "@jupyter-widgets/controls"
          }
        },
        "540ceb7a229e40799ddd1e7c362333c9": {
          "model_module": "@jupyter-widgets/base",
          "model_name": "LayoutModel",
          "state": {
            "_view_name": "LayoutView",
            "grid_template_rows": null,
            "right": null,
            "justify_content": null,
            "_view_module": "@jupyter-widgets/base",
            "overflow": null,
            "_model_module_version": "1.2.0",
            "_view_count": null,
            "flex_flow": null,
            "width": null,
            "min_width": null,
            "border": null,
            "align_items": null,
            "bottom": null,
            "_model_module": "@jupyter-widgets/base",
            "top": null,
            "grid_column": null,
            "overflow_y": null,
            "overflow_x": null,
            "grid_auto_flow": null,
            "grid_area": null,
            "grid_template_columns": null,
            "flex": null,
            "_model_name": "LayoutModel",
            "justify_items": null,
            "grid_row": null,
            "max_height": null,
            "align_content": null,
            "visibility": null,
            "align_self": null,
            "height": null,
            "min_height": null,
            "padding": null,
            "grid_auto_rows": null,
            "grid_gap": null,
            "max_width": null,
            "order": null,
            "_view_module_version": "1.2.0",
            "grid_template_areas": null,
            "object_position": null,
            "object_fit": null,
            "grid_auto_columns": null,
            "margin": null,
            "display": null,
            "left": null
          }
        },
        "af0cc310ef774f7bb25cd27e12918ea5": {
          "model_module": "@jupyter-widgets/controls",
          "model_name": "DescriptionStyleModel",
          "state": {
            "_view_name": "StyleView",
            "_model_name": "DescriptionStyleModel",
            "description_width": "",
            "_view_module": "@jupyter-widgets/base",
            "_model_module_version": "1.5.0",
            "_view_count": null,
            "_view_module_version": "1.2.0",
            "_model_module": "@jupyter-widgets/controls"
          }
        },
        "e72abb2c350e417e97f5fbfe7bc3a81f": {
          "model_module": "@jupyter-widgets/base",
          "model_name": "LayoutModel",
          "state": {
            "_view_name": "LayoutView",
            "grid_template_rows": null,
            "right": null,
            "justify_content": null,
            "_view_module": "@jupyter-widgets/base",
            "overflow": null,
            "_model_module_version": "1.2.0",
            "_view_count": null,
            "flex_flow": null,
            "width": null,
            "min_width": null,
            "border": null,
            "align_items": null,
            "bottom": null,
            "_model_module": "@jupyter-widgets/base",
            "top": null,
            "grid_column": null,
            "overflow_y": null,
            "overflow_x": null,
            "grid_auto_flow": null,
            "grid_area": null,
            "grid_template_columns": null,
            "flex": null,
            "_model_name": "LayoutModel",
            "justify_items": null,
            "grid_row": null,
            "max_height": null,
            "align_content": null,
            "visibility": null,
            "align_self": null,
            "height": null,
            "min_height": null,
            "padding": null,
            "grid_auto_rows": null,
            "grid_gap": null,
            "max_width": null,
            "order": null,
            "_view_module_version": "1.2.0",
            "grid_template_areas": null,
            "object_position": null,
            "object_fit": null,
            "grid_auto_columns": null,
            "margin": null,
            "display": null,
            "left": null
          }
        },
        "57ce21376da34ab3a6df6fc3357f1cdd": {
          "model_module": "@jupyter-widgets/controls",
          "model_name": "HBoxModel",
          "state": {
            "_view_name": "HBoxView",
            "_dom_classes": [],
            "_model_name": "HBoxModel",
            "_view_module": "@jupyter-widgets/controls",
            "_model_module_version": "1.5.0",
            "_view_count": null,
            "_view_module_version": "1.5.0",
            "box_style": "",
            "layout": "IPY_MODEL_3e036eeae5344d318601d992c3ebb486",
            "_model_module": "@jupyter-widgets/controls",
            "children": [
              "IPY_MODEL_02a317bfaf65489890278d9d27084f80",
              "IPY_MODEL_1508b484ff8a493ea90184912f8485cc"
            ]
          }
        },
        "3e036eeae5344d318601d992c3ebb486": {
          "model_module": "@jupyter-widgets/base",
          "model_name": "LayoutModel",
          "state": {
            "_view_name": "LayoutView",
            "grid_template_rows": null,
            "right": null,
            "justify_content": null,
            "_view_module": "@jupyter-widgets/base",
            "overflow": null,
            "_model_module_version": "1.2.0",
            "_view_count": null,
            "flex_flow": null,
            "width": null,
            "min_width": null,
            "border": null,
            "align_items": null,
            "bottom": null,
            "_model_module": "@jupyter-widgets/base",
            "top": null,
            "grid_column": null,
            "overflow_y": null,
            "overflow_x": null,
            "grid_auto_flow": null,
            "grid_area": null,
            "grid_template_columns": null,
            "flex": null,
            "_model_name": "LayoutModel",
            "justify_items": null,
            "grid_row": null,
            "max_height": null,
            "align_content": null,
            "visibility": null,
            "align_self": null,
            "height": null,
            "min_height": null,
            "padding": null,
            "grid_auto_rows": null,
            "grid_gap": null,
            "max_width": null,
            "order": null,
            "_view_module_version": "1.2.0",
            "grid_template_areas": null,
            "object_position": null,
            "object_fit": null,
            "grid_auto_columns": null,
            "margin": null,
            "display": null,
            "left": null
          }
        },
        "02a317bfaf65489890278d9d27084f80": {
          "model_module": "@jupyter-widgets/controls",
          "model_name": "FloatProgressModel",
          "state": {
            "_view_name": "ProgressView",
            "style": "IPY_MODEL_9b51cb1d4ae0412ebc8c12fbb9607997",
            "_dom_classes": [],
            "description": "",
            "_model_name": "FloatProgressModel",
            "bar_style": "success",
            "max": 312.5,
            "_view_module": "@jupyter-widgets/controls",
            "_model_module_version": "1.5.0",
            "value": 312.5,
            "_view_count": null,
            "_view_module_version": "1.5.0",
            "orientation": "horizontal",
            "min": 0,
            "description_tooltip": null,
            "_model_module": "@jupyter-widgets/controls",
            "layout": "IPY_MODEL_c61a524b6b1b475fb13c1423dc47a27b"
          }
        },
        "1508b484ff8a493ea90184912f8485cc": {
          "model_module": "@jupyter-widgets/controls",
          "model_name": "HTMLModel",
          "state": {
            "_view_name": "HTMLView",
            "style": "IPY_MODEL_288abbbcd0084d6b817e50a8a9e10379",
            "_dom_classes": [],
            "description": "",
            "_model_name": "HTMLModel",
            "placeholder": "​",
            "_view_module": "@jupyter-widgets/controls",
            "_model_module_version": "1.5.0",
            "value": " 313/? [00:01&lt;00:00, 165.25it/s]",
            "_view_count": null,
            "_view_module_version": "1.5.0",
            "description_tooltip": null,
            "_model_module": "@jupyter-widgets/controls",
            "layout": "IPY_MODEL_21ae3087b4904ea6a07f00268d22d619"
          }
        },
        "9b51cb1d4ae0412ebc8c12fbb9607997": {
          "model_module": "@jupyter-widgets/controls",
          "model_name": "ProgressStyleModel",
          "state": {
            "_view_name": "StyleView",
            "_model_name": "ProgressStyleModel",
            "description_width": "initial",
            "_view_module": "@jupyter-widgets/base",
            "_model_module_version": "1.5.0",
            "_view_count": null,
            "_view_module_version": "1.2.0",
            "bar_color": null,
            "_model_module": "@jupyter-widgets/controls"
          }
        },
        "c61a524b6b1b475fb13c1423dc47a27b": {
          "model_module": "@jupyter-widgets/base",
          "model_name": "LayoutModel",
          "state": {
            "_view_name": "LayoutView",
            "grid_template_rows": null,
            "right": null,
            "justify_content": null,
            "_view_module": "@jupyter-widgets/base",
            "overflow": null,
            "_model_module_version": "1.2.0",
            "_view_count": null,
            "flex_flow": null,
            "width": null,
            "min_width": null,
            "border": null,
            "align_items": null,
            "bottom": null,
            "_model_module": "@jupyter-widgets/base",
            "top": null,
            "grid_column": null,
            "overflow_y": null,
            "overflow_x": null,
            "grid_auto_flow": null,
            "grid_area": null,
            "grid_template_columns": null,
            "flex": null,
            "_model_name": "LayoutModel",
            "justify_items": null,
            "grid_row": null,
            "max_height": null,
            "align_content": null,
            "visibility": null,
            "align_self": null,
            "height": null,
            "min_height": null,
            "padding": null,
            "grid_auto_rows": null,
            "grid_gap": null,
            "max_width": null,
            "order": null,
            "_view_module_version": "1.2.0",
            "grid_template_areas": null,
            "object_position": null,
            "object_fit": null,
            "grid_auto_columns": null,
            "margin": null,
            "display": null,
            "left": null
          }
        },
        "288abbbcd0084d6b817e50a8a9e10379": {
          "model_module": "@jupyter-widgets/controls",
          "model_name": "DescriptionStyleModel",
          "state": {
            "_view_name": "StyleView",
            "_model_name": "DescriptionStyleModel",
            "description_width": "",
            "_view_module": "@jupyter-widgets/base",
            "_model_module_version": "1.5.0",
            "_view_count": null,
            "_view_module_version": "1.2.0",
            "_model_module": "@jupyter-widgets/controls"
          }
        },
        "21ae3087b4904ea6a07f00268d22d619": {
          "model_module": "@jupyter-widgets/base",
          "model_name": "LayoutModel",
          "state": {
            "_view_name": "LayoutView",
            "grid_template_rows": null,
            "right": null,
            "justify_content": null,
            "_view_module": "@jupyter-widgets/base",
            "overflow": null,
            "_model_module_version": "1.2.0",
            "_view_count": null,
            "flex_flow": null,
            "width": null,
            "min_width": null,
            "border": null,
            "align_items": null,
            "bottom": null,
            "_model_module": "@jupyter-widgets/base",
            "top": null,
            "grid_column": null,
            "overflow_y": null,
            "overflow_x": null,
            "grid_auto_flow": null,
            "grid_area": null,
            "grid_template_columns": null,
            "flex": null,
            "_model_name": "LayoutModel",
            "justify_items": null,
            "grid_row": null,
            "max_height": null,
            "align_content": null,
            "visibility": null,
            "align_self": null,
            "height": null,
            "min_height": null,
            "padding": null,
            "grid_auto_rows": null,
            "grid_gap": null,
            "max_width": null,
            "order": null,
            "_view_module_version": "1.2.0",
            "grid_template_areas": null,
            "object_position": null,
            "object_fit": null,
            "grid_auto_columns": null,
            "margin": null,
            "display": null,
            "left": null
          }
        },
        "83de009ea0b44688a59bd53c6fbfe681": {
          "model_module": "@jupyter-widgets/controls",
          "model_name": "HBoxModel",
          "state": {
            "_view_name": "HBoxView",
            "_dom_classes": [],
            "_model_name": "HBoxModel",
            "_view_module": "@jupyter-widgets/controls",
            "_model_module_version": "1.5.0",
            "_view_count": null,
            "_view_module_version": "1.5.0",
            "box_style": "",
            "layout": "IPY_MODEL_efbeb6212d3844adb7621d1f39316a24",
            "_model_module": "@jupyter-widgets/controls",
            "children": [
              "IPY_MODEL_15703781494a4404b00b077856b9a4a6",
              "IPY_MODEL_cabdaaf7ebf64c18963413ed60da54a3"
            ]
          }
        },
        "efbeb6212d3844adb7621d1f39316a24": {
          "model_module": "@jupyter-widgets/base",
          "model_name": "LayoutModel",
          "state": {
            "_view_name": "LayoutView",
            "grid_template_rows": null,
            "right": null,
            "justify_content": null,
            "_view_module": "@jupyter-widgets/base",
            "overflow": null,
            "_model_module_version": "1.2.0",
            "_view_count": null,
            "flex_flow": null,
            "width": null,
            "min_width": null,
            "border": null,
            "align_items": null,
            "bottom": null,
            "_model_module": "@jupyter-widgets/base",
            "top": null,
            "grid_column": null,
            "overflow_y": null,
            "overflow_x": null,
            "grid_auto_flow": null,
            "grid_area": null,
            "grid_template_columns": null,
            "flex": null,
            "_model_name": "LayoutModel",
            "justify_items": null,
            "grid_row": null,
            "max_height": null,
            "align_content": null,
            "visibility": null,
            "align_self": null,
            "height": null,
            "min_height": null,
            "padding": null,
            "grid_auto_rows": null,
            "grid_gap": null,
            "max_width": null,
            "order": null,
            "_view_module_version": "1.2.0",
            "grid_template_areas": null,
            "object_position": null,
            "object_fit": null,
            "grid_auto_columns": null,
            "margin": null,
            "display": null,
            "left": null
          }
        },
        "15703781494a4404b00b077856b9a4a6": {
          "model_module": "@jupyter-widgets/controls",
          "model_name": "FloatProgressModel",
          "state": {
            "_view_name": "ProgressView",
            "style": "IPY_MODEL_53c3c0bff3b84ffb9f11f94a286fefde",
            "_dom_classes": [],
            "description": "100%",
            "_model_name": "FloatProgressModel",
            "bar_style": "success",
            "max": 1875,
            "_view_module": "@jupyter-widgets/controls",
            "_model_module_version": "1.5.0",
            "value": 1875,
            "_view_count": null,
            "_view_module_version": "1.5.0",
            "orientation": "horizontal",
            "min": 0,
            "description_tooltip": null,
            "_model_module": "@jupyter-widgets/controls",
            "layout": "IPY_MODEL_d749f48c62ec41e191737503d22d3137"
          }
        },
        "cabdaaf7ebf64c18963413ed60da54a3": {
          "model_module": "@jupyter-widgets/controls",
          "model_name": "HTMLModel",
          "state": {
            "_view_name": "HTMLView",
            "style": "IPY_MODEL_e039b868a16e4cfb87cfa849dbebafcb",
            "_dom_classes": [],
            "description": "",
            "_model_name": "HTMLModel",
            "placeholder": "​",
            "_view_module": "@jupyter-widgets/controls",
            "_model_module_version": "1.5.0",
            "value": " 1875/1875.0 [02:28&lt;00:00, 12.59it/s]",
            "_view_count": null,
            "_view_module_version": "1.5.0",
            "description_tooltip": null,
            "_model_module": "@jupyter-widgets/controls",
            "layout": "IPY_MODEL_8ab4c2f4f988453d934b2e0727ad772f"
          }
        },
        "53c3c0bff3b84ffb9f11f94a286fefde": {
          "model_module": "@jupyter-widgets/controls",
          "model_name": "ProgressStyleModel",
          "state": {
            "_view_name": "StyleView",
            "_model_name": "ProgressStyleModel",
            "description_width": "initial",
            "_view_module": "@jupyter-widgets/base",
            "_model_module_version": "1.5.0",
            "_view_count": null,
            "_view_module_version": "1.2.0",
            "bar_color": null,
            "_model_module": "@jupyter-widgets/controls"
          }
        },
        "d749f48c62ec41e191737503d22d3137": {
          "model_module": "@jupyter-widgets/base",
          "model_name": "LayoutModel",
          "state": {
            "_view_name": "LayoutView",
            "grid_template_rows": null,
            "right": null,
            "justify_content": null,
            "_view_module": "@jupyter-widgets/base",
            "overflow": null,
            "_model_module_version": "1.2.0",
            "_view_count": null,
            "flex_flow": null,
            "width": null,
            "min_width": null,
            "border": null,
            "align_items": null,
            "bottom": null,
            "_model_module": "@jupyter-widgets/base",
            "top": null,
            "grid_column": null,
            "overflow_y": null,
            "overflow_x": null,
            "grid_auto_flow": null,
            "grid_area": null,
            "grid_template_columns": null,
            "flex": null,
            "_model_name": "LayoutModel",
            "justify_items": null,
            "grid_row": null,
            "max_height": null,
            "align_content": null,
            "visibility": null,
            "align_self": null,
            "height": null,
            "min_height": null,
            "padding": null,
            "grid_auto_rows": null,
            "grid_gap": null,
            "max_width": null,
            "order": null,
            "_view_module_version": "1.2.0",
            "grid_template_areas": null,
            "object_position": null,
            "object_fit": null,
            "grid_auto_columns": null,
            "margin": null,
            "display": null,
            "left": null
          }
        },
        "e039b868a16e4cfb87cfa849dbebafcb": {
          "model_module": "@jupyter-widgets/controls",
          "model_name": "DescriptionStyleModel",
          "state": {
            "_view_name": "StyleView",
            "_model_name": "DescriptionStyleModel",
            "description_width": "",
            "_view_module": "@jupyter-widgets/base",
            "_model_module_version": "1.5.0",
            "_view_count": null,
            "_view_module_version": "1.2.0",
            "_model_module": "@jupyter-widgets/controls"
          }
        },
        "8ab4c2f4f988453d934b2e0727ad772f": {
          "model_module": "@jupyter-widgets/base",
          "model_name": "LayoutModel",
          "state": {
            "_view_name": "LayoutView",
            "grid_template_rows": null,
            "right": null,
            "justify_content": null,
            "_view_module": "@jupyter-widgets/base",
            "overflow": null,
            "_model_module_version": "1.2.0",
            "_view_count": null,
            "flex_flow": null,
            "width": null,
            "min_width": null,
            "border": null,
            "align_items": null,
            "bottom": null,
            "_model_module": "@jupyter-widgets/base",
            "top": null,
            "grid_column": null,
            "overflow_y": null,
            "overflow_x": null,
            "grid_auto_flow": null,
            "grid_area": null,
            "grid_template_columns": null,
            "flex": null,
            "_model_name": "LayoutModel",
            "justify_items": null,
            "grid_row": null,
            "max_height": null,
            "align_content": null,
            "visibility": null,
            "align_self": null,
            "height": null,
            "min_height": null,
            "padding": null,
            "grid_auto_rows": null,
            "grid_gap": null,
            "max_width": null,
            "order": null,
            "_view_module_version": "1.2.0",
            "grid_template_areas": null,
            "object_position": null,
            "object_fit": null,
            "grid_auto_columns": null,
            "margin": null,
            "display": null,
            "left": null
          }
        },
        "3d06e93941ef4e2ca77990dffbf96f58": {
          "model_module": "@jupyter-widgets/controls",
          "model_name": "HBoxModel",
          "state": {
            "_view_name": "HBoxView",
            "_dom_classes": [],
            "_model_name": "HBoxModel",
            "_view_module": "@jupyter-widgets/controls",
            "_model_module_version": "1.5.0",
            "_view_count": null,
            "_view_module_version": "1.5.0",
            "box_style": "",
            "layout": "IPY_MODEL_0e999d37f3f64bdeaeef95f58634c026",
            "_model_module": "@jupyter-widgets/controls",
            "children": [
              "IPY_MODEL_cf3e8f16bfda421b9d904a9c05935848",
              "IPY_MODEL_104f5ec4533a44b4af30a7c9a64ae65e"
            ]
          }
        },
        "0e999d37f3f64bdeaeef95f58634c026": {
          "model_module": "@jupyter-widgets/base",
          "model_name": "LayoutModel",
          "state": {
            "_view_name": "LayoutView",
            "grid_template_rows": null,
            "right": null,
            "justify_content": null,
            "_view_module": "@jupyter-widgets/base",
            "overflow": null,
            "_model_module_version": "1.2.0",
            "_view_count": null,
            "flex_flow": null,
            "width": null,
            "min_width": null,
            "border": null,
            "align_items": null,
            "bottom": null,
            "_model_module": "@jupyter-widgets/base",
            "top": null,
            "grid_column": null,
            "overflow_y": null,
            "overflow_x": null,
            "grid_auto_flow": null,
            "grid_area": null,
            "grid_template_columns": null,
            "flex": null,
            "_model_name": "LayoutModel",
            "justify_items": null,
            "grid_row": null,
            "max_height": null,
            "align_content": null,
            "visibility": null,
            "align_self": null,
            "height": null,
            "min_height": null,
            "padding": null,
            "grid_auto_rows": null,
            "grid_gap": null,
            "max_width": null,
            "order": null,
            "_view_module_version": "1.2.0",
            "grid_template_areas": null,
            "object_position": null,
            "object_fit": null,
            "grid_auto_columns": null,
            "margin": null,
            "display": null,
            "left": null
          }
        },
        "cf3e8f16bfda421b9d904a9c05935848": {
          "model_module": "@jupyter-widgets/controls",
          "model_name": "FloatProgressModel",
          "state": {
            "_view_name": "ProgressView",
            "style": "IPY_MODEL_5d54f2425d1846339658040ce038aee2",
            "_dom_classes": [],
            "description": "",
            "_model_name": "FloatProgressModel",
            "bar_style": "success",
            "max": 312.5,
            "_view_module": "@jupyter-widgets/controls",
            "_model_module_version": "1.5.0",
            "value": 312.5,
            "_view_count": null,
            "_view_module_version": "1.5.0",
            "orientation": "horizontal",
            "min": 0,
            "description_tooltip": null,
            "_model_module": "@jupyter-widgets/controls",
            "layout": "IPY_MODEL_eeb75bf5b6ea4d4c98e6a15255d2d437"
          }
        },
        "104f5ec4533a44b4af30a7c9a64ae65e": {
          "model_module": "@jupyter-widgets/controls",
          "model_name": "HTMLModel",
          "state": {
            "_view_name": "HTMLView",
            "style": "IPY_MODEL_a0196c0607eb4b1db77e74cbee8d5fe9",
            "_dom_classes": [],
            "description": "",
            "_model_name": "HTMLModel",
            "placeholder": "​",
            "_view_module": "@jupyter-widgets/controls",
            "_model_module_version": "1.5.0",
            "value": " 313/? [00:01&lt;00:00, 184.38it/s]",
            "_view_count": null,
            "_view_module_version": "1.5.0",
            "description_tooltip": null,
            "_model_module": "@jupyter-widgets/controls",
            "layout": "IPY_MODEL_cf9a5a1290ca4d7495d84556f440f315"
          }
        },
        "5d54f2425d1846339658040ce038aee2": {
          "model_module": "@jupyter-widgets/controls",
          "model_name": "ProgressStyleModel",
          "state": {
            "_view_name": "StyleView",
            "_model_name": "ProgressStyleModel",
            "description_width": "initial",
            "_view_module": "@jupyter-widgets/base",
            "_model_module_version": "1.5.0",
            "_view_count": null,
            "_view_module_version": "1.2.0",
            "bar_color": null,
            "_model_module": "@jupyter-widgets/controls"
          }
        },
        "eeb75bf5b6ea4d4c98e6a15255d2d437": {
          "model_module": "@jupyter-widgets/base",
          "model_name": "LayoutModel",
          "state": {
            "_view_name": "LayoutView",
            "grid_template_rows": null,
            "right": null,
            "justify_content": null,
            "_view_module": "@jupyter-widgets/base",
            "overflow": null,
            "_model_module_version": "1.2.0",
            "_view_count": null,
            "flex_flow": null,
            "width": null,
            "min_width": null,
            "border": null,
            "align_items": null,
            "bottom": null,
            "_model_module": "@jupyter-widgets/base",
            "top": null,
            "grid_column": null,
            "overflow_y": null,
            "overflow_x": null,
            "grid_auto_flow": null,
            "grid_area": null,
            "grid_template_columns": null,
            "flex": null,
            "_model_name": "LayoutModel",
            "justify_items": null,
            "grid_row": null,
            "max_height": null,
            "align_content": null,
            "visibility": null,
            "align_self": null,
            "height": null,
            "min_height": null,
            "padding": null,
            "grid_auto_rows": null,
            "grid_gap": null,
            "max_width": null,
            "order": null,
            "_view_module_version": "1.2.0",
            "grid_template_areas": null,
            "object_position": null,
            "object_fit": null,
            "grid_auto_columns": null,
            "margin": null,
            "display": null,
            "left": null
          }
        },
        "a0196c0607eb4b1db77e74cbee8d5fe9": {
          "model_module": "@jupyter-widgets/controls",
          "model_name": "DescriptionStyleModel",
          "state": {
            "_view_name": "StyleView",
            "_model_name": "DescriptionStyleModel",
            "description_width": "",
            "_view_module": "@jupyter-widgets/base",
            "_model_module_version": "1.5.0",
            "_view_count": null,
            "_view_module_version": "1.2.0",
            "_model_module": "@jupyter-widgets/controls"
          }
        },
        "cf9a5a1290ca4d7495d84556f440f315": {
          "model_module": "@jupyter-widgets/base",
          "model_name": "LayoutModel",
          "state": {
            "_view_name": "LayoutView",
            "grid_template_rows": null,
            "right": null,
            "justify_content": null,
            "_view_module": "@jupyter-widgets/base",
            "overflow": null,
            "_model_module_version": "1.2.0",
            "_view_count": null,
            "flex_flow": null,
            "width": null,
            "min_width": null,
            "border": null,
            "align_items": null,
            "bottom": null,
            "_model_module": "@jupyter-widgets/base",
            "top": null,
            "grid_column": null,
            "overflow_y": null,
            "overflow_x": null,
            "grid_auto_flow": null,
            "grid_area": null,
            "grid_template_columns": null,
            "flex": null,
            "_model_name": "LayoutModel",
            "justify_items": null,
            "grid_row": null,
            "max_height": null,
            "align_content": null,
            "visibility": null,
            "align_self": null,
            "height": null,
            "min_height": null,
            "padding": null,
            "grid_auto_rows": null,
            "grid_gap": null,
            "max_width": null,
            "order": null,
            "_view_module_version": "1.2.0",
            "grid_template_areas": null,
            "object_position": null,
            "object_fit": null,
            "grid_auto_columns": null,
            "margin": null,
            "display": null,
            "left": null
          }
        },
        "c03c5e9a3e01403fa02f6fe5a26f5a36": {
          "model_module": "@jupyter-widgets/controls",
          "model_name": "HBoxModel",
          "state": {
            "_view_name": "HBoxView",
            "_dom_classes": [],
            "_model_name": "HBoxModel",
            "_view_module": "@jupyter-widgets/controls",
            "_model_module_version": "1.5.0",
            "_view_count": null,
            "_view_module_version": "1.5.0",
            "box_style": "",
            "layout": "IPY_MODEL_cc90da98468a4d77b91cceb5ef6c2307",
            "_model_module": "@jupyter-widgets/controls",
            "children": [
              "IPY_MODEL_7c4038aa23be4428ae99d595a0a56d22",
              "IPY_MODEL_66a0e5a90f264514b522e10570a511e6"
            ]
          }
        },
        "cc90da98468a4d77b91cceb5ef6c2307": {
          "model_module": "@jupyter-widgets/base",
          "model_name": "LayoutModel",
          "state": {
            "_view_name": "LayoutView",
            "grid_template_rows": null,
            "right": null,
            "justify_content": null,
            "_view_module": "@jupyter-widgets/base",
            "overflow": null,
            "_model_module_version": "1.2.0",
            "_view_count": null,
            "flex_flow": null,
            "width": null,
            "min_width": null,
            "border": null,
            "align_items": null,
            "bottom": null,
            "_model_module": "@jupyter-widgets/base",
            "top": null,
            "grid_column": null,
            "overflow_y": null,
            "overflow_x": null,
            "grid_auto_flow": null,
            "grid_area": null,
            "grid_template_columns": null,
            "flex": null,
            "_model_name": "LayoutModel",
            "justify_items": null,
            "grid_row": null,
            "max_height": null,
            "align_content": null,
            "visibility": null,
            "align_self": null,
            "height": null,
            "min_height": null,
            "padding": null,
            "grid_auto_rows": null,
            "grid_gap": null,
            "max_width": null,
            "order": null,
            "_view_module_version": "1.2.0",
            "grid_template_areas": null,
            "object_position": null,
            "object_fit": null,
            "grid_auto_columns": null,
            "margin": null,
            "display": null,
            "left": null
          }
        },
        "7c4038aa23be4428ae99d595a0a56d22": {
          "model_module": "@jupyter-widgets/controls",
          "model_name": "FloatProgressModel",
          "state": {
            "_view_name": "ProgressView",
            "style": "IPY_MODEL_f8ee0f266f674faf9357a1c916baab08",
            "_dom_classes": [],
            "description": "100%",
            "_model_name": "FloatProgressModel",
            "bar_style": "success",
            "max": 1875,
            "_view_module": "@jupyter-widgets/controls",
            "_model_module_version": "1.5.0",
            "value": 1875,
            "_view_count": null,
            "_view_module_version": "1.5.0",
            "orientation": "horizontal",
            "min": 0,
            "description_tooltip": null,
            "_model_module": "@jupyter-widgets/controls",
            "layout": "IPY_MODEL_af43ba8512374ee2b5e392cbe828249a"
          }
        },
        "66a0e5a90f264514b522e10570a511e6": {
          "model_module": "@jupyter-widgets/controls",
          "model_name": "HTMLModel",
          "state": {
            "_view_name": "HTMLView",
            "style": "IPY_MODEL_38a9bea573be495c96d8c9118d9a02bd",
            "_dom_classes": [],
            "description": "",
            "_model_name": "HTMLModel",
            "placeholder": "​",
            "_view_module": "@jupyter-widgets/controls",
            "_model_module_version": "1.5.0",
            "value": " 1875/1875.0 [01:11&lt;00:00, 26.28it/s]",
            "_view_count": null,
            "_view_module_version": "1.5.0",
            "description_tooltip": null,
            "_model_module": "@jupyter-widgets/controls",
            "layout": "IPY_MODEL_1f107fc6cb36402fbc04545ed8e328e1"
          }
        },
        "f8ee0f266f674faf9357a1c916baab08": {
          "model_module": "@jupyter-widgets/controls",
          "model_name": "ProgressStyleModel",
          "state": {
            "_view_name": "StyleView",
            "_model_name": "ProgressStyleModel",
            "description_width": "initial",
            "_view_module": "@jupyter-widgets/base",
            "_model_module_version": "1.5.0",
            "_view_count": null,
            "_view_module_version": "1.2.0",
            "bar_color": null,
            "_model_module": "@jupyter-widgets/controls"
          }
        },
        "af43ba8512374ee2b5e392cbe828249a": {
          "model_module": "@jupyter-widgets/base",
          "model_name": "LayoutModel",
          "state": {
            "_view_name": "LayoutView",
            "grid_template_rows": null,
            "right": null,
            "justify_content": null,
            "_view_module": "@jupyter-widgets/base",
            "overflow": null,
            "_model_module_version": "1.2.0",
            "_view_count": null,
            "flex_flow": null,
            "width": null,
            "min_width": null,
            "border": null,
            "align_items": null,
            "bottom": null,
            "_model_module": "@jupyter-widgets/base",
            "top": null,
            "grid_column": null,
            "overflow_y": null,
            "overflow_x": null,
            "grid_auto_flow": null,
            "grid_area": null,
            "grid_template_columns": null,
            "flex": null,
            "_model_name": "LayoutModel",
            "justify_items": null,
            "grid_row": null,
            "max_height": null,
            "align_content": null,
            "visibility": null,
            "align_self": null,
            "height": null,
            "min_height": null,
            "padding": null,
            "grid_auto_rows": null,
            "grid_gap": null,
            "max_width": null,
            "order": null,
            "_view_module_version": "1.2.0",
            "grid_template_areas": null,
            "object_position": null,
            "object_fit": null,
            "grid_auto_columns": null,
            "margin": null,
            "display": null,
            "left": null
          }
        },
        "38a9bea573be495c96d8c9118d9a02bd": {
          "model_module": "@jupyter-widgets/controls",
          "model_name": "DescriptionStyleModel",
          "state": {
            "_view_name": "StyleView",
            "_model_name": "DescriptionStyleModel",
            "description_width": "",
            "_view_module": "@jupyter-widgets/base",
            "_model_module_version": "1.5.0",
            "_view_count": null,
            "_view_module_version": "1.2.0",
            "_model_module": "@jupyter-widgets/controls"
          }
        },
        "1f107fc6cb36402fbc04545ed8e328e1": {
          "model_module": "@jupyter-widgets/base",
          "model_name": "LayoutModel",
          "state": {
            "_view_name": "LayoutView",
            "grid_template_rows": null,
            "right": null,
            "justify_content": null,
            "_view_module": "@jupyter-widgets/base",
            "overflow": null,
            "_model_module_version": "1.2.0",
            "_view_count": null,
            "flex_flow": null,
            "width": null,
            "min_width": null,
            "border": null,
            "align_items": null,
            "bottom": null,
            "_model_module": "@jupyter-widgets/base",
            "top": null,
            "grid_column": null,
            "overflow_y": null,
            "overflow_x": null,
            "grid_auto_flow": null,
            "grid_area": null,
            "grid_template_columns": null,
            "flex": null,
            "_model_name": "LayoutModel",
            "justify_items": null,
            "grid_row": null,
            "max_height": null,
            "align_content": null,
            "visibility": null,
            "align_self": null,
            "height": null,
            "min_height": null,
            "padding": null,
            "grid_auto_rows": null,
            "grid_gap": null,
            "max_width": null,
            "order": null,
            "_view_module_version": "1.2.0",
            "grid_template_areas": null,
            "object_position": null,
            "object_fit": null,
            "grid_auto_columns": null,
            "margin": null,
            "display": null,
            "left": null
          }
        },
        "857fd4e3fe2b46fd8315b5f31db9eb99": {
          "model_module": "@jupyter-widgets/controls",
          "model_name": "HBoxModel",
          "state": {
            "_view_name": "HBoxView",
            "_dom_classes": [],
            "_model_name": "HBoxModel",
            "_view_module": "@jupyter-widgets/controls",
            "_model_module_version": "1.5.0",
            "_view_count": null,
            "_view_module_version": "1.5.0",
            "box_style": "",
            "layout": "IPY_MODEL_642451ee5d004e28b08538e7547bdf9f",
            "_model_module": "@jupyter-widgets/controls",
            "children": [
              "IPY_MODEL_8a512856c09d4af68fe83932208769a3",
              "IPY_MODEL_0f0e092b17e24548bc53eb443ba09286"
            ]
          }
        },
        "642451ee5d004e28b08538e7547bdf9f": {
          "model_module": "@jupyter-widgets/base",
          "model_name": "LayoutModel",
          "state": {
            "_view_name": "LayoutView",
            "grid_template_rows": null,
            "right": null,
            "justify_content": null,
            "_view_module": "@jupyter-widgets/base",
            "overflow": null,
            "_model_module_version": "1.2.0",
            "_view_count": null,
            "flex_flow": null,
            "width": null,
            "min_width": null,
            "border": null,
            "align_items": null,
            "bottom": null,
            "_model_module": "@jupyter-widgets/base",
            "top": null,
            "grid_column": null,
            "overflow_y": null,
            "overflow_x": null,
            "grid_auto_flow": null,
            "grid_area": null,
            "grid_template_columns": null,
            "flex": null,
            "_model_name": "LayoutModel",
            "justify_items": null,
            "grid_row": null,
            "max_height": null,
            "align_content": null,
            "visibility": null,
            "align_self": null,
            "height": null,
            "min_height": null,
            "padding": null,
            "grid_auto_rows": null,
            "grid_gap": null,
            "max_width": null,
            "order": null,
            "_view_module_version": "1.2.0",
            "grid_template_areas": null,
            "object_position": null,
            "object_fit": null,
            "grid_auto_columns": null,
            "margin": null,
            "display": null,
            "left": null
          }
        },
        "8a512856c09d4af68fe83932208769a3": {
          "model_module": "@jupyter-widgets/controls",
          "model_name": "FloatProgressModel",
          "state": {
            "_view_name": "ProgressView",
            "style": "IPY_MODEL_6029fffb130d4f05a7df8ee7b45d14f2",
            "_dom_classes": [],
            "description": "",
            "_model_name": "FloatProgressModel",
            "bar_style": "success",
            "max": 312.5,
            "_view_module": "@jupyter-widgets/controls",
            "_model_module_version": "1.5.0",
            "value": 312.5,
            "_view_count": null,
            "_view_module_version": "1.5.0",
            "orientation": "horizontal",
            "min": 0,
            "description_tooltip": null,
            "_model_module": "@jupyter-widgets/controls",
            "layout": "IPY_MODEL_78d79230a2924fe48041d10b02f48af3"
          }
        },
        "0f0e092b17e24548bc53eb443ba09286": {
          "model_module": "@jupyter-widgets/controls",
          "model_name": "HTMLModel",
          "state": {
            "_view_name": "HTMLView",
            "style": "IPY_MODEL_4291ee24211b48799f7aa52256b241ab",
            "_dom_classes": [],
            "description": "",
            "_model_name": "HTMLModel",
            "placeholder": "​",
            "_view_module": "@jupyter-widgets/controls",
            "_model_module_version": "1.5.0",
            "value": " 313/? [01:00&lt;00:00,  5.15it/s]",
            "_view_count": null,
            "_view_module_version": "1.5.0",
            "description_tooltip": null,
            "_model_module": "@jupyter-widgets/controls",
            "layout": "IPY_MODEL_02160f355c17478b90966a8bb9d2a417"
          }
        },
        "6029fffb130d4f05a7df8ee7b45d14f2": {
          "model_module": "@jupyter-widgets/controls",
          "model_name": "ProgressStyleModel",
          "state": {
            "_view_name": "StyleView",
            "_model_name": "ProgressStyleModel",
            "description_width": "initial",
            "_view_module": "@jupyter-widgets/base",
            "_model_module_version": "1.5.0",
            "_view_count": null,
            "_view_module_version": "1.2.0",
            "bar_color": null,
            "_model_module": "@jupyter-widgets/controls"
          }
        },
        "78d79230a2924fe48041d10b02f48af3": {
          "model_module": "@jupyter-widgets/base",
          "model_name": "LayoutModel",
          "state": {
            "_view_name": "LayoutView",
            "grid_template_rows": null,
            "right": null,
            "justify_content": null,
            "_view_module": "@jupyter-widgets/base",
            "overflow": null,
            "_model_module_version": "1.2.0",
            "_view_count": null,
            "flex_flow": null,
            "width": null,
            "min_width": null,
            "border": null,
            "align_items": null,
            "bottom": null,
            "_model_module": "@jupyter-widgets/base",
            "top": null,
            "grid_column": null,
            "overflow_y": null,
            "overflow_x": null,
            "grid_auto_flow": null,
            "grid_area": null,
            "grid_template_columns": null,
            "flex": null,
            "_model_name": "LayoutModel",
            "justify_items": null,
            "grid_row": null,
            "max_height": null,
            "align_content": null,
            "visibility": null,
            "align_self": null,
            "height": null,
            "min_height": null,
            "padding": null,
            "grid_auto_rows": null,
            "grid_gap": null,
            "max_width": null,
            "order": null,
            "_view_module_version": "1.2.0",
            "grid_template_areas": null,
            "object_position": null,
            "object_fit": null,
            "grid_auto_columns": null,
            "margin": null,
            "display": null,
            "left": null
          }
        },
        "4291ee24211b48799f7aa52256b241ab": {
          "model_module": "@jupyter-widgets/controls",
          "model_name": "DescriptionStyleModel",
          "state": {
            "_view_name": "StyleView",
            "_model_name": "DescriptionStyleModel",
            "description_width": "",
            "_view_module": "@jupyter-widgets/base",
            "_model_module_version": "1.5.0",
            "_view_count": null,
            "_view_module_version": "1.2.0",
            "_model_module": "@jupyter-widgets/controls"
          }
        },
        "02160f355c17478b90966a8bb9d2a417": {
          "model_module": "@jupyter-widgets/base",
          "model_name": "LayoutModel",
          "state": {
            "_view_name": "LayoutView",
            "grid_template_rows": null,
            "right": null,
            "justify_content": null,
            "_view_module": "@jupyter-widgets/base",
            "overflow": null,
            "_model_module_version": "1.2.0",
            "_view_count": null,
            "flex_flow": null,
            "width": null,
            "min_width": null,
            "border": null,
            "align_items": null,
            "bottom": null,
            "_model_module": "@jupyter-widgets/base",
            "top": null,
            "grid_column": null,
            "overflow_y": null,
            "overflow_x": null,
            "grid_auto_flow": null,
            "grid_area": null,
            "grid_template_columns": null,
            "flex": null,
            "_model_name": "LayoutModel",
            "justify_items": null,
            "grid_row": null,
            "max_height": null,
            "align_content": null,
            "visibility": null,
            "align_self": null,
            "height": null,
            "min_height": null,
            "padding": null,
            "grid_auto_rows": null,
            "grid_gap": null,
            "max_width": null,
            "order": null,
            "_view_module_version": "1.2.0",
            "grid_template_areas": null,
            "object_position": null,
            "object_fit": null,
            "grid_auto_columns": null,
            "margin": null,
            "display": null,
            "left": null
          }
        },
        "4b7a6125380e485690983ec8bb9c5e08": {
          "model_module": "@jupyter-widgets/controls",
          "model_name": "HBoxModel",
          "state": {
            "_view_name": "HBoxView",
            "_dom_classes": [],
            "_model_name": "HBoxModel",
            "_view_module": "@jupyter-widgets/controls",
            "_model_module_version": "1.5.0",
            "_view_count": null,
            "_view_module_version": "1.5.0",
            "box_style": "",
            "layout": "IPY_MODEL_f5c2f731d3124b638c261b4cd5afe137",
            "_model_module": "@jupyter-widgets/controls",
            "children": [
              "IPY_MODEL_7d2db77cd49541aab16fa48905680a9e",
              "IPY_MODEL_d028a5213605471ca0213fb6f242997e"
            ]
          }
        },
        "f5c2f731d3124b638c261b4cd5afe137": {
          "model_module": "@jupyter-widgets/base",
          "model_name": "LayoutModel",
          "state": {
            "_view_name": "LayoutView",
            "grid_template_rows": null,
            "right": null,
            "justify_content": null,
            "_view_module": "@jupyter-widgets/base",
            "overflow": null,
            "_model_module_version": "1.2.0",
            "_view_count": null,
            "flex_flow": null,
            "width": null,
            "min_width": null,
            "border": null,
            "align_items": null,
            "bottom": null,
            "_model_module": "@jupyter-widgets/base",
            "top": null,
            "grid_column": null,
            "overflow_y": null,
            "overflow_x": null,
            "grid_auto_flow": null,
            "grid_area": null,
            "grid_template_columns": null,
            "flex": null,
            "_model_name": "LayoutModel",
            "justify_items": null,
            "grid_row": null,
            "max_height": null,
            "align_content": null,
            "visibility": null,
            "align_self": null,
            "height": null,
            "min_height": null,
            "padding": null,
            "grid_auto_rows": null,
            "grid_gap": null,
            "max_width": null,
            "order": null,
            "_view_module_version": "1.2.0",
            "grid_template_areas": null,
            "object_position": null,
            "object_fit": null,
            "grid_auto_columns": null,
            "margin": null,
            "display": null,
            "left": null
          }
        },
        "7d2db77cd49541aab16fa48905680a9e": {
          "model_module": "@jupyter-widgets/controls",
          "model_name": "FloatProgressModel",
          "state": {
            "_view_name": "ProgressView",
            "style": "IPY_MODEL_fd943350affe4407ba9756a725dd1883",
            "_dom_classes": [],
            "description": "100%",
            "_model_name": "FloatProgressModel",
            "bar_style": "success",
            "max": 1875,
            "_view_module": "@jupyter-widgets/controls",
            "_model_module_version": "1.5.0",
            "value": 1875,
            "_view_count": null,
            "_view_module_version": "1.5.0",
            "orientation": "horizontal",
            "min": 0,
            "description_tooltip": null,
            "_model_module": "@jupyter-widgets/controls",
            "layout": "IPY_MODEL_eff5ff14e4fb47fbbd77a6b1e5dd9768"
          }
        },
        "d028a5213605471ca0213fb6f242997e": {
          "model_module": "@jupyter-widgets/controls",
          "model_name": "HTMLModel",
          "state": {
            "_view_name": "HTMLView",
            "style": "IPY_MODEL_4ca4269851394af7a5adb82c138fed86",
            "_dom_classes": [],
            "description": "",
            "_model_name": "HTMLModel",
            "placeholder": "​",
            "_view_module": "@jupyter-widgets/controls",
            "_model_module_version": "1.5.0",
            "value": " 1875/1875.0 [00:59&lt;00:00, 31.71it/s]",
            "_view_count": null,
            "_view_module_version": "1.5.0",
            "description_tooltip": null,
            "_model_module": "@jupyter-widgets/controls",
            "layout": "IPY_MODEL_6b6b66f287f34996809fcaea75e58ed6"
          }
        },
        "fd943350affe4407ba9756a725dd1883": {
          "model_module": "@jupyter-widgets/controls",
          "model_name": "ProgressStyleModel",
          "state": {
            "_view_name": "StyleView",
            "_model_name": "ProgressStyleModel",
            "description_width": "initial",
            "_view_module": "@jupyter-widgets/base",
            "_model_module_version": "1.5.0",
            "_view_count": null,
            "_view_module_version": "1.2.0",
            "bar_color": null,
            "_model_module": "@jupyter-widgets/controls"
          }
        },
        "eff5ff14e4fb47fbbd77a6b1e5dd9768": {
          "model_module": "@jupyter-widgets/base",
          "model_name": "LayoutModel",
          "state": {
            "_view_name": "LayoutView",
            "grid_template_rows": null,
            "right": null,
            "justify_content": null,
            "_view_module": "@jupyter-widgets/base",
            "overflow": null,
            "_model_module_version": "1.2.0",
            "_view_count": null,
            "flex_flow": null,
            "width": null,
            "min_width": null,
            "border": null,
            "align_items": null,
            "bottom": null,
            "_model_module": "@jupyter-widgets/base",
            "top": null,
            "grid_column": null,
            "overflow_y": null,
            "overflow_x": null,
            "grid_auto_flow": null,
            "grid_area": null,
            "grid_template_columns": null,
            "flex": null,
            "_model_name": "LayoutModel",
            "justify_items": null,
            "grid_row": null,
            "max_height": null,
            "align_content": null,
            "visibility": null,
            "align_self": null,
            "height": null,
            "min_height": null,
            "padding": null,
            "grid_auto_rows": null,
            "grid_gap": null,
            "max_width": null,
            "order": null,
            "_view_module_version": "1.2.0",
            "grid_template_areas": null,
            "object_position": null,
            "object_fit": null,
            "grid_auto_columns": null,
            "margin": null,
            "display": null,
            "left": null
          }
        },
        "4ca4269851394af7a5adb82c138fed86": {
          "model_module": "@jupyter-widgets/controls",
          "model_name": "DescriptionStyleModel",
          "state": {
            "_view_name": "StyleView",
            "_model_name": "DescriptionStyleModel",
            "description_width": "",
            "_view_module": "@jupyter-widgets/base",
            "_model_module_version": "1.5.0",
            "_view_count": null,
            "_view_module_version": "1.2.0",
            "_model_module": "@jupyter-widgets/controls"
          }
        },
        "6b6b66f287f34996809fcaea75e58ed6": {
          "model_module": "@jupyter-widgets/base",
          "model_name": "LayoutModel",
          "state": {
            "_view_name": "LayoutView",
            "grid_template_rows": null,
            "right": null,
            "justify_content": null,
            "_view_module": "@jupyter-widgets/base",
            "overflow": null,
            "_model_module_version": "1.2.0",
            "_view_count": null,
            "flex_flow": null,
            "width": null,
            "min_width": null,
            "border": null,
            "align_items": null,
            "bottom": null,
            "_model_module": "@jupyter-widgets/base",
            "top": null,
            "grid_column": null,
            "overflow_y": null,
            "overflow_x": null,
            "grid_auto_flow": null,
            "grid_area": null,
            "grid_template_columns": null,
            "flex": null,
            "_model_name": "LayoutModel",
            "justify_items": null,
            "grid_row": null,
            "max_height": null,
            "align_content": null,
            "visibility": null,
            "align_self": null,
            "height": null,
            "min_height": null,
            "padding": null,
            "grid_auto_rows": null,
            "grid_gap": null,
            "max_width": null,
            "order": null,
            "_view_module_version": "1.2.0",
            "grid_template_areas": null,
            "object_position": null,
            "object_fit": null,
            "grid_auto_columns": null,
            "margin": null,
            "display": null,
            "left": null
          }
        },
        "f688494665a74b1285e39517f58d585b": {
          "model_module": "@jupyter-widgets/controls",
          "model_name": "HBoxModel",
          "state": {
            "_view_name": "HBoxView",
            "_dom_classes": [],
            "_model_name": "HBoxModel",
            "_view_module": "@jupyter-widgets/controls",
            "_model_module_version": "1.5.0",
            "_view_count": null,
            "_view_module_version": "1.5.0",
            "box_style": "",
            "layout": "IPY_MODEL_30e2c50d263a4cfb843f600ab79ed5bc",
            "_model_module": "@jupyter-widgets/controls",
            "children": [
              "IPY_MODEL_8f50f4100e1946c488b2d4ebfba3cfcf",
              "IPY_MODEL_db060f9c233a460d8e43ad97fd2e9188"
            ]
          }
        },
        "30e2c50d263a4cfb843f600ab79ed5bc": {
          "model_module": "@jupyter-widgets/base",
          "model_name": "LayoutModel",
          "state": {
            "_view_name": "LayoutView",
            "grid_template_rows": null,
            "right": null,
            "justify_content": null,
            "_view_module": "@jupyter-widgets/base",
            "overflow": null,
            "_model_module_version": "1.2.0",
            "_view_count": null,
            "flex_flow": null,
            "width": null,
            "min_width": null,
            "border": null,
            "align_items": null,
            "bottom": null,
            "_model_module": "@jupyter-widgets/base",
            "top": null,
            "grid_column": null,
            "overflow_y": null,
            "overflow_x": null,
            "grid_auto_flow": null,
            "grid_area": null,
            "grid_template_columns": null,
            "flex": null,
            "_model_name": "LayoutModel",
            "justify_items": null,
            "grid_row": null,
            "max_height": null,
            "align_content": null,
            "visibility": null,
            "align_self": null,
            "height": null,
            "min_height": null,
            "padding": null,
            "grid_auto_rows": null,
            "grid_gap": null,
            "max_width": null,
            "order": null,
            "_view_module_version": "1.2.0",
            "grid_template_areas": null,
            "object_position": null,
            "object_fit": null,
            "grid_auto_columns": null,
            "margin": null,
            "display": null,
            "left": null
          }
        },
        "8f50f4100e1946c488b2d4ebfba3cfcf": {
          "model_module": "@jupyter-widgets/controls",
          "model_name": "FloatProgressModel",
          "state": {
            "_view_name": "ProgressView",
            "style": "IPY_MODEL_14061d7c8d224dba8cc27f12bab4a55b",
            "_dom_classes": [],
            "description": "",
            "_model_name": "FloatProgressModel",
            "bar_style": "success",
            "max": 312.5,
            "_view_module": "@jupyter-widgets/controls",
            "_model_module_version": "1.5.0",
            "value": 312.5,
            "_view_count": null,
            "_view_module_version": "1.5.0",
            "orientation": "horizontal",
            "min": 0,
            "description_tooltip": null,
            "_model_module": "@jupyter-widgets/controls",
            "layout": "IPY_MODEL_ae37777227ef42d7a3579a299d36229f"
          }
        },
        "db060f9c233a460d8e43ad97fd2e9188": {
          "model_module": "@jupyter-widgets/controls",
          "model_name": "HTMLModel",
          "state": {
            "_view_name": "HTMLView",
            "style": "IPY_MODEL_02c2f6ee69c548b996882425340cc2c0",
            "_dom_classes": [],
            "description": "",
            "_model_name": "HTMLModel",
            "placeholder": "​",
            "_view_module": "@jupyter-widgets/controls",
            "_model_module_version": "1.5.0",
            "value": " 313/? [00:48&lt;00:00,  6.42it/s]",
            "_view_count": null,
            "_view_module_version": "1.5.0",
            "description_tooltip": null,
            "_model_module": "@jupyter-widgets/controls",
            "layout": "IPY_MODEL_78f9fb39ffe34cda852d8c3681dcc254"
          }
        },
        "14061d7c8d224dba8cc27f12bab4a55b": {
          "model_module": "@jupyter-widgets/controls",
          "model_name": "ProgressStyleModel",
          "state": {
            "_view_name": "StyleView",
            "_model_name": "ProgressStyleModel",
            "description_width": "initial",
            "_view_module": "@jupyter-widgets/base",
            "_model_module_version": "1.5.0",
            "_view_count": null,
            "_view_module_version": "1.2.0",
            "bar_color": null,
            "_model_module": "@jupyter-widgets/controls"
          }
        },
        "ae37777227ef42d7a3579a299d36229f": {
          "model_module": "@jupyter-widgets/base",
          "model_name": "LayoutModel",
          "state": {
            "_view_name": "LayoutView",
            "grid_template_rows": null,
            "right": null,
            "justify_content": null,
            "_view_module": "@jupyter-widgets/base",
            "overflow": null,
            "_model_module_version": "1.2.0",
            "_view_count": null,
            "flex_flow": null,
            "width": null,
            "min_width": null,
            "border": null,
            "align_items": null,
            "bottom": null,
            "_model_module": "@jupyter-widgets/base",
            "top": null,
            "grid_column": null,
            "overflow_y": null,
            "overflow_x": null,
            "grid_auto_flow": null,
            "grid_area": null,
            "grid_template_columns": null,
            "flex": null,
            "_model_name": "LayoutModel",
            "justify_items": null,
            "grid_row": null,
            "max_height": null,
            "align_content": null,
            "visibility": null,
            "align_self": null,
            "height": null,
            "min_height": null,
            "padding": null,
            "grid_auto_rows": null,
            "grid_gap": null,
            "max_width": null,
            "order": null,
            "_view_module_version": "1.2.0",
            "grid_template_areas": null,
            "object_position": null,
            "object_fit": null,
            "grid_auto_columns": null,
            "margin": null,
            "display": null,
            "left": null
          }
        },
        "02c2f6ee69c548b996882425340cc2c0": {
          "model_module": "@jupyter-widgets/controls",
          "model_name": "DescriptionStyleModel",
          "state": {
            "_view_name": "StyleView",
            "_model_name": "DescriptionStyleModel",
            "description_width": "",
            "_view_module": "@jupyter-widgets/base",
            "_model_module_version": "1.5.0",
            "_view_count": null,
            "_view_module_version": "1.2.0",
            "_model_module": "@jupyter-widgets/controls"
          }
        },
        "78f9fb39ffe34cda852d8c3681dcc254": {
          "model_module": "@jupyter-widgets/base",
          "model_name": "LayoutModel",
          "state": {
            "_view_name": "LayoutView",
            "grid_template_rows": null,
            "right": null,
            "justify_content": null,
            "_view_module": "@jupyter-widgets/base",
            "overflow": null,
            "_model_module_version": "1.2.0",
            "_view_count": null,
            "flex_flow": null,
            "width": null,
            "min_width": null,
            "border": null,
            "align_items": null,
            "bottom": null,
            "_model_module": "@jupyter-widgets/base",
            "top": null,
            "grid_column": null,
            "overflow_y": null,
            "overflow_x": null,
            "grid_auto_flow": null,
            "grid_area": null,
            "grid_template_columns": null,
            "flex": null,
            "_model_name": "LayoutModel",
            "justify_items": null,
            "grid_row": null,
            "max_height": null,
            "align_content": null,
            "visibility": null,
            "align_self": null,
            "height": null,
            "min_height": null,
            "padding": null,
            "grid_auto_rows": null,
            "grid_gap": null,
            "max_width": null,
            "order": null,
            "_view_module_version": "1.2.0",
            "grid_template_areas": null,
            "object_position": null,
            "object_fit": null,
            "grid_auto_columns": null,
            "margin": null,
            "display": null,
            "left": null
          }
        },
        "44ba9926715e41ef8db4819fe8c98ffe": {
          "model_module": "@jupyter-widgets/controls",
          "model_name": "HBoxModel",
          "state": {
            "_view_name": "HBoxView",
            "_dom_classes": [],
            "_model_name": "HBoxModel",
            "_view_module": "@jupyter-widgets/controls",
            "_model_module_version": "1.5.0",
            "_view_count": null,
            "_view_module_version": "1.5.0",
            "box_style": "",
            "layout": "IPY_MODEL_7a6538f6d8494a369871af9513b11551",
            "_model_module": "@jupyter-widgets/controls",
            "children": [
              "IPY_MODEL_411a392e2fa843e4bc3bb07364f31c9f",
              "IPY_MODEL_d61e70156a04499698b1ba2a10b5139a"
            ]
          }
        },
        "7a6538f6d8494a369871af9513b11551": {
          "model_module": "@jupyter-widgets/base",
          "model_name": "LayoutModel",
          "state": {
            "_view_name": "LayoutView",
            "grid_template_rows": null,
            "right": null,
            "justify_content": null,
            "_view_module": "@jupyter-widgets/base",
            "overflow": null,
            "_model_module_version": "1.2.0",
            "_view_count": null,
            "flex_flow": null,
            "width": null,
            "min_width": null,
            "border": null,
            "align_items": null,
            "bottom": null,
            "_model_module": "@jupyter-widgets/base",
            "top": null,
            "grid_column": null,
            "overflow_y": null,
            "overflow_x": null,
            "grid_auto_flow": null,
            "grid_area": null,
            "grid_template_columns": null,
            "flex": null,
            "_model_name": "LayoutModel",
            "justify_items": null,
            "grid_row": null,
            "max_height": null,
            "align_content": null,
            "visibility": null,
            "align_self": null,
            "height": null,
            "min_height": null,
            "padding": null,
            "grid_auto_rows": null,
            "grid_gap": null,
            "max_width": null,
            "order": null,
            "_view_module_version": "1.2.0",
            "grid_template_areas": null,
            "object_position": null,
            "object_fit": null,
            "grid_auto_columns": null,
            "margin": null,
            "display": null,
            "left": null
          }
        },
        "411a392e2fa843e4bc3bb07364f31c9f": {
          "model_module": "@jupyter-widgets/controls",
          "model_name": "FloatProgressModel",
          "state": {
            "_view_name": "ProgressView",
            "style": "IPY_MODEL_8b4525d261b8434691c47b2f73bb7a19",
            "_dom_classes": [],
            "description": "100%",
            "_model_name": "FloatProgressModel",
            "bar_style": "success",
            "max": 1875,
            "_view_module": "@jupyter-widgets/controls",
            "_model_module_version": "1.5.0",
            "value": 1875,
            "_view_count": null,
            "_view_module_version": "1.5.0",
            "orientation": "horizontal",
            "min": 0,
            "description_tooltip": null,
            "_model_module": "@jupyter-widgets/controls",
            "layout": "IPY_MODEL_2f208fe95079411b844d98f64c65acc0"
          }
        },
        "d61e70156a04499698b1ba2a10b5139a": {
          "model_module": "@jupyter-widgets/controls",
          "model_name": "HTMLModel",
          "state": {
            "_view_name": "HTMLView",
            "style": "IPY_MODEL_f308b351c5c943c2b3207e8af04a4c26",
            "_dom_classes": [],
            "description": "",
            "_model_name": "HTMLModel",
            "placeholder": "​",
            "_view_module": "@jupyter-widgets/controls",
            "_model_module_version": "1.5.0",
            "value": " 1875/1875.0 [00:47&lt;00:00, 39.83it/s]",
            "_view_count": null,
            "_view_module_version": "1.5.0",
            "description_tooltip": null,
            "_model_module": "@jupyter-widgets/controls",
            "layout": "IPY_MODEL_0383b2ff6e3e4cff90d177d147563522"
          }
        },
        "8b4525d261b8434691c47b2f73bb7a19": {
          "model_module": "@jupyter-widgets/controls",
          "model_name": "ProgressStyleModel",
          "state": {
            "_view_name": "StyleView",
            "_model_name": "ProgressStyleModel",
            "description_width": "initial",
            "_view_module": "@jupyter-widgets/base",
            "_model_module_version": "1.5.0",
            "_view_count": null,
            "_view_module_version": "1.2.0",
            "bar_color": null,
            "_model_module": "@jupyter-widgets/controls"
          }
        },
        "2f208fe95079411b844d98f64c65acc0": {
          "model_module": "@jupyter-widgets/base",
          "model_name": "LayoutModel",
          "state": {
            "_view_name": "LayoutView",
            "grid_template_rows": null,
            "right": null,
            "justify_content": null,
            "_view_module": "@jupyter-widgets/base",
            "overflow": null,
            "_model_module_version": "1.2.0",
            "_view_count": null,
            "flex_flow": null,
            "width": null,
            "min_width": null,
            "border": null,
            "align_items": null,
            "bottom": null,
            "_model_module": "@jupyter-widgets/base",
            "top": null,
            "grid_column": null,
            "overflow_y": null,
            "overflow_x": null,
            "grid_auto_flow": null,
            "grid_area": null,
            "grid_template_columns": null,
            "flex": null,
            "_model_name": "LayoutModel",
            "justify_items": null,
            "grid_row": null,
            "max_height": null,
            "align_content": null,
            "visibility": null,
            "align_self": null,
            "height": null,
            "min_height": null,
            "padding": null,
            "grid_auto_rows": null,
            "grid_gap": null,
            "max_width": null,
            "order": null,
            "_view_module_version": "1.2.0",
            "grid_template_areas": null,
            "object_position": null,
            "object_fit": null,
            "grid_auto_columns": null,
            "margin": null,
            "display": null,
            "left": null
          }
        },
        "f308b351c5c943c2b3207e8af04a4c26": {
          "model_module": "@jupyter-widgets/controls",
          "model_name": "DescriptionStyleModel",
          "state": {
            "_view_name": "StyleView",
            "_model_name": "DescriptionStyleModel",
            "description_width": "",
            "_view_module": "@jupyter-widgets/base",
            "_model_module_version": "1.5.0",
            "_view_count": null,
            "_view_module_version": "1.2.0",
            "_model_module": "@jupyter-widgets/controls"
          }
        },
        "0383b2ff6e3e4cff90d177d147563522": {
          "model_module": "@jupyter-widgets/base",
          "model_name": "LayoutModel",
          "state": {
            "_view_name": "LayoutView",
            "grid_template_rows": null,
            "right": null,
            "justify_content": null,
            "_view_module": "@jupyter-widgets/base",
            "overflow": null,
            "_model_module_version": "1.2.0",
            "_view_count": null,
            "flex_flow": null,
            "width": null,
            "min_width": null,
            "border": null,
            "align_items": null,
            "bottom": null,
            "_model_module": "@jupyter-widgets/base",
            "top": null,
            "grid_column": null,
            "overflow_y": null,
            "overflow_x": null,
            "grid_auto_flow": null,
            "grid_area": null,
            "grid_template_columns": null,
            "flex": null,
            "_model_name": "LayoutModel",
            "justify_items": null,
            "grid_row": null,
            "max_height": null,
            "align_content": null,
            "visibility": null,
            "align_self": null,
            "height": null,
            "min_height": null,
            "padding": null,
            "grid_auto_rows": null,
            "grid_gap": null,
            "max_width": null,
            "order": null,
            "_view_module_version": "1.2.0",
            "grid_template_areas": null,
            "object_position": null,
            "object_fit": null,
            "grid_auto_columns": null,
            "margin": null,
            "display": null,
            "left": null
          }
        },
        "4640b913ebaf434fb7ab63a6a473e84d": {
          "model_module": "@jupyter-widgets/controls",
          "model_name": "HBoxModel",
          "state": {
            "_view_name": "HBoxView",
            "_dom_classes": [],
            "_model_name": "HBoxModel",
            "_view_module": "@jupyter-widgets/controls",
            "_model_module_version": "1.5.0",
            "_view_count": null,
            "_view_module_version": "1.5.0",
            "box_style": "",
            "layout": "IPY_MODEL_26bdafdffde943d6879ae6689f2c15b8",
            "_model_module": "@jupyter-widgets/controls",
            "children": [
              "IPY_MODEL_359329cd48ce42bc97ea2e23f9f944da",
              "IPY_MODEL_681cbcef9c9547f0853603d0011c2bb6"
            ]
          }
        },
        "26bdafdffde943d6879ae6689f2c15b8": {
          "model_module": "@jupyter-widgets/base",
          "model_name": "LayoutModel",
          "state": {
            "_view_name": "LayoutView",
            "grid_template_rows": null,
            "right": null,
            "justify_content": null,
            "_view_module": "@jupyter-widgets/base",
            "overflow": null,
            "_model_module_version": "1.2.0",
            "_view_count": null,
            "flex_flow": null,
            "width": null,
            "min_width": null,
            "border": null,
            "align_items": null,
            "bottom": null,
            "_model_module": "@jupyter-widgets/base",
            "top": null,
            "grid_column": null,
            "overflow_y": null,
            "overflow_x": null,
            "grid_auto_flow": null,
            "grid_area": null,
            "grid_template_columns": null,
            "flex": null,
            "_model_name": "LayoutModel",
            "justify_items": null,
            "grid_row": null,
            "max_height": null,
            "align_content": null,
            "visibility": null,
            "align_self": null,
            "height": null,
            "min_height": null,
            "padding": null,
            "grid_auto_rows": null,
            "grid_gap": null,
            "max_width": null,
            "order": null,
            "_view_module_version": "1.2.0",
            "grid_template_areas": null,
            "object_position": null,
            "object_fit": null,
            "grid_auto_columns": null,
            "margin": null,
            "display": null,
            "left": null
          }
        },
        "359329cd48ce42bc97ea2e23f9f944da": {
          "model_module": "@jupyter-widgets/controls",
          "model_name": "FloatProgressModel",
          "state": {
            "_view_name": "ProgressView",
            "style": "IPY_MODEL_f45403c16d134f1d9f5d769bab81b8e4",
            "_dom_classes": [],
            "description": "",
            "_model_name": "FloatProgressModel",
            "bar_style": "success",
            "max": 312.5,
            "_view_module": "@jupyter-widgets/controls",
            "_model_module_version": "1.5.0",
            "value": 312.5,
            "_view_count": null,
            "_view_module_version": "1.5.0",
            "orientation": "horizontal",
            "min": 0,
            "description_tooltip": null,
            "_model_module": "@jupyter-widgets/controls",
            "layout": "IPY_MODEL_ddaf3865e1594d178424f01916762fb4"
          }
        },
        "681cbcef9c9547f0853603d0011c2bb6": {
          "model_module": "@jupyter-widgets/controls",
          "model_name": "HTMLModel",
          "state": {
            "_view_name": "HTMLView",
            "style": "IPY_MODEL_c6205c37ef784dcb9235caaad4f45234",
            "_dom_classes": [],
            "description": "",
            "_model_name": "HTMLModel",
            "placeholder": "​",
            "_view_module": "@jupyter-widgets/controls",
            "_model_module_version": "1.5.0",
            "value": " 313/? [00:36&lt;00:00,  8.55it/s]",
            "_view_count": null,
            "_view_module_version": "1.5.0",
            "description_tooltip": null,
            "_model_module": "@jupyter-widgets/controls",
            "layout": "IPY_MODEL_f8ceabbd1afc49dcb297a5a4f9cebf7b"
          }
        },
        "f45403c16d134f1d9f5d769bab81b8e4": {
          "model_module": "@jupyter-widgets/controls",
          "model_name": "ProgressStyleModel",
          "state": {
            "_view_name": "StyleView",
            "_model_name": "ProgressStyleModel",
            "description_width": "initial",
            "_view_module": "@jupyter-widgets/base",
            "_model_module_version": "1.5.0",
            "_view_count": null,
            "_view_module_version": "1.2.0",
            "bar_color": null,
            "_model_module": "@jupyter-widgets/controls"
          }
        },
        "ddaf3865e1594d178424f01916762fb4": {
          "model_module": "@jupyter-widgets/base",
          "model_name": "LayoutModel",
          "state": {
            "_view_name": "LayoutView",
            "grid_template_rows": null,
            "right": null,
            "justify_content": null,
            "_view_module": "@jupyter-widgets/base",
            "overflow": null,
            "_model_module_version": "1.2.0",
            "_view_count": null,
            "flex_flow": null,
            "width": null,
            "min_width": null,
            "border": null,
            "align_items": null,
            "bottom": null,
            "_model_module": "@jupyter-widgets/base",
            "top": null,
            "grid_column": null,
            "overflow_y": null,
            "overflow_x": null,
            "grid_auto_flow": null,
            "grid_area": null,
            "grid_template_columns": null,
            "flex": null,
            "_model_name": "LayoutModel",
            "justify_items": null,
            "grid_row": null,
            "max_height": null,
            "align_content": null,
            "visibility": null,
            "align_self": null,
            "height": null,
            "min_height": null,
            "padding": null,
            "grid_auto_rows": null,
            "grid_gap": null,
            "max_width": null,
            "order": null,
            "_view_module_version": "1.2.0",
            "grid_template_areas": null,
            "object_position": null,
            "object_fit": null,
            "grid_auto_columns": null,
            "margin": null,
            "display": null,
            "left": null
          }
        },
        "c6205c37ef784dcb9235caaad4f45234": {
          "model_module": "@jupyter-widgets/controls",
          "model_name": "DescriptionStyleModel",
          "state": {
            "_view_name": "StyleView",
            "_model_name": "DescriptionStyleModel",
            "description_width": "",
            "_view_module": "@jupyter-widgets/base",
            "_model_module_version": "1.5.0",
            "_view_count": null,
            "_view_module_version": "1.2.0",
            "_model_module": "@jupyter-widgets/controls"
          }
        },
        "f8ceabbd1afc49dcb297a5a4f9cebf7b": {
          "model_module": "@jupyter-widgets/base",
          "model_name": "LayoutModel",
          "state": {
            "_view_name": "LayoutView",
            "grid_template_rows": null,
            "right": null,
            "justify_content": null,
            "_view_module": "@jupyter-widgets/base",
            "overflow": null,
            "_model_module_version": "1.2.0",
            "_view_count": null,
            "flex_flow": null,
            "width": null,
            "min_width": null,
            "border": null,
            "align_items": null,
            "bottom": null,
            "_model_module": "@jupyter-widgets/base",
            "top": null,
            "grid_column": null,
            "overflow_y": null,
            "overflow_x": null,
            "grid_auto_flow": null,
            "grid_area": null,
            "grid_template_columns": null,
            "flex": null,
            "_model_name": "LayoutModel",
            "justify_items": null,
            "grid_row": null,
            "max_height": null,
            "align_content": null,
            "visibility": null,
            "align_self": null,
            "height": null,
            "min_height": null,
            "padding": null,
            "grid_auto_rows": null,
            "grid_gap": null,
            "max_width": null,
            "order": null,
            "_view_module_version": "1.2.0",
            "grid_template_areas": null,
            "object_position": null,
            "object_fit": null,
            "grid_auto_columns": null,
            "margin": null,
            "display": null,
            "left": null
          }
        },
        "5699891374274d5aa6db224618ed9104": {
          "model_module": "@jupyter-widgets/controls",
          "model_name": "HBoxModel",
          "state": {
            "_view_name": "HBoxView",
            "_dom_classes": [],
            "_model_name": "HBoxModel",
            "_view_module": "@jupyter-widgets/controls",
            "_model_module_version": "1.5.0",
            "_view_count": null,
            "_view_module_version": "1.5.0",
            "box_style": "",
            "layout": "IPY_MODEL_6ee4cbcf498f40a48073ad55a6f2e20f",
            "_model_module": "@jupyter-widgets/controls",
            "children": [
              "IPY_MODEL_f8fe409bdde1437fb56025945a0058b0",
              "IPY_MODEL_d7ca9ecf218e4d63ba6c085546910868"
            ]
          }
        },
        "6ee4cbcf498f40a48073ad55a6f2e20f": {
          "model_module": "@jupyter-widgets/base",
          "model_name": "LayoutModel",
          "state": {
            "_view_name": "LayoutView",
            "grid_template_rows": null,
            "right": null,
            "justify_content": null,
            "_view_module": "@jupyter-widgets/base",
            "overflow": null,
            "_model_module_version": "1.2.0",
            "_view_count": null,
            "flex_flow": null,
            "width": null,
            "min_width": null,
            "border": null,
            "align_items": null,
            "bottom": null,
            "_model_module": "@jupyter-widgets/base",
            "top": null,
            "grid_column": null,
            "overflow_y": null,
            "overflow_x": null,
            "grid_auto_flow": null,
            "grid_area": null,
            "grid_template_columns": null,
            "flex": null,
            "_model_name": "LayoutModel",
            "justify_items": null,
            "grid_row": null,
            "max_height": null,
            "align_content": null,
            "visibility": null,
            "align_self": null,
            "height": null,
            "min_height": null,
            "padding": null,
            "grid_auto_rows": null,
            "grid_gap": null,
            "max_width": null,
            "order": null,
            "_view_module_version": "1.2.0",
            "grid_template_areas": null,
            "object_position": null,
            "object_fit": null,
            "grid_auto_columns": null,
            "margin": null,
            "display": null,
            "left": null
          }
        },
        "f8fe409bdde1437fb56025945a0058b0": {
          "model_module": "@jupyter-widgets/controls",
          "model_name": "FloatProgressModel",
          "state": {
            "_view_name": "ProgressView",
            "style": "IPY_MODEL_ce09962a1f7e48e3bd1e5154dd746e42",
            "_dom_classes": [],
            "description": "100%",
            "_model_name": "FloatProgressModel",
            "bar_style": "success",
            "max": 1875,
            "_view_module": "@jupyter-widgets/controls",
            "_model_module_version": "1.5.0",
            "value": 1875,
            "_view_count": null,
            "_view_module_version": "1.5.0",
            "orientation": "horizontal",
            "min": 0,
            "description_tooltip": null,
            "_model_module": "@jupyter-widgets/controls",
            "layout": "IPY_MODEL_f8bffe4a3aa14b0f90d508d6543b41c8"
          }
        },
        "d7ca9ecf218e4d63ba6c085546910868": {
          "model_module": "@jupyter-widgets/controls",
          "model_name": "HTMLModel",
          "state": {
            "_view_name": "HTMLView",
            "style": "IPY_MODEL_116ea98e50e547af8acc30b23136737d",
            "_dom_classes": [],
            "description": "",
            "_model_name": "HTMLModel",
            "placeholder": "​",
            "_view_module": "@jupyter-widgets/controls",
            "_model_module_version": "1.5.0",
            "value": " 1875/1875.0 [00:34&lt;00:00, 53.75it/s]",
            "_view_count": null,
            "_view_module_version": "1.5.0",
            "description_tooltip": null,
            "_model_module": "@jupyter-widgets/controls",
            "layout": "IPY_MODEL_2dc02f2877fd4e26ac9d706107068172"
          }
        },
        "ce09962a1f7e48e3bd1e5154dd746e42": {
          "model_module": "@jupyter-widgets/controls",
          "model_name": "ProgressStyleModel",
          "state": {
            "_view_name": "StyleView",
            "_model_name": "ProgressStyleModel",
            "description_width": "initial",
            "_view_module": "@jupyter-widgets/base",
            "_model_module_version": "1.5.0",
            "_view_count": null,
            "_view_module_version": "1.2.0",
            "bar_color": null,
            "_model_module": "@jupyter-widgets/controls"
          }
        },
        "f8bffe4a3aa14b0f90d508d6543b41c8": {
          "model_module": "@jupyter-widgets/base",
          "model_name": "LayoutModel",
          "state": {
            "_view_name": "LayoutView",
            "grid_template_rows": null,
            "right": null,
            "justify_content": null,
            "_view_module": "@jupyter-widgets/base",
            "overflow": null,
            "_model_module_version": "1.2.0",
            "_view_count": null,
            "flex_flow": null,
            "width": null,
            "min_width": null,
            "border": null,
            "align_items": null,
            "bottom": null,
            "_model_module": "@jupyter-widgets/base",
            "top": null,
            "grid_column": null,
            "overflow_y": null,
            "overflow_x": null,
            "grid_auto_flow": null,
            "grid_area": null,
            "grid_template_columns": null,
            "flex": null,
            "_model_name": "LayoutModel",
            "justify_items": null,
            "grid_row": null,
            "max_height": null,
            "align_content": null,
            "visibility": null,
            "align_self": null,
            "height": null,
            "min_height": null,
            "padding": null,
            "grid_auto_rows": null,
            "grid_gap": null,
            "max_width": null,
            "order": null,
            "_view_module_version": "1.2.0",
            "grid_template_areas": null,
            "object_position": null,
            "object_fit": null,
            "grid_auto_columns": null,
            "margin": null,
            "display": null,
            "left": null
          }
        },
        "116ea98e50e547af8acc30b23136737d": {
          "model_module": "@jupyter-widgets/controls",
          "model_name": "DescriptionStyleModel",
          "state": {
            "_view_name": "StyleView",
            "_model_name": "DescriptionStyleModel",
            "description_width": "",
            "_view_module": "@jupyter-widgets/base",
            "_model_module_version": "1.5.0",
            "_view_count": null,
            "_view_module_version": "1.2.0",
            "_model_module": "@jupyter-widgets/controls"
          }
        },
        "2dc02f2877fd4e26ac9d706107068172": {
          "model_module": "@jupyter-widgets/base",
          "model_name": "LayoutModel",
          "state": {
            "_view_name": "LayoutView",
            "grid_template_rows": null,
            "right": null,
            "justify_content": null,
            "_view_module": "@jupyter-widgets/base",
            "overflow": null,
            "_model_module_version": "1.2.0",
            "_view_count": null,
            "flex_flow": null,
            "width": null,
            "min_width": null,
            "border": null,
            "align_items": null,
            "bottom": null,
            "_model_module": "@jupyter-widgets/base",
            "top": null,
            "grid_column": null,
            "overflow_y": null,
            "overflow_x": null,
            "grid_auto_flow": null,
            "grid_area": null,
            "grid_template_columns": null,
            "flex": null,
            "_model_name": "LayoutModel",
            "justify_items": null,
            "grid_row": null,
            "max_height": null,
            "align_content": null,
            "visibility": null,
            "align_self": null,
            "height": null,
            "min_height": null,
            "padding": null,
            "grid_auto_rows": null,
            "grid_gap": null,
            "max_width": null,
            "order": null,
            "_view_module_version": "1.2.0",
            "grid_template_areas": null,
            "object_position": null,
            "object_fit": null,
            "grid_auto_columns": null,
            "margin": null,
            "display": null,
            "left": null
          }
        },
        "21878697fa4d484688a9c3a6a24e95fc": {
          "model_module": "@jupyter-widgets/controls",
          "model_name": "HBoxModel",
          "state": {
            "_view_name": "HBoxView",
            "_dom_classes": [],
            "_model_name": "HBoxModel",
            "_view_module": "@jupyter-widgets/controls",
            "_model_module_version": "1.5.0",
            "_view_count": null,
            "_view_module_version": "1.5.0",
            "box_style": "",
            "layout": "IPY_MODEL_89e534e8c754445fb07a7c683b3d382f",
            "_model_module": "@jupyter-widgets/controls",
            "children": [
              "IPY_MODEL_70b0e790f2eb432bb8632b2526095665",
              "IPY_MODEL_a5614401bb354af0a035161bb1777e8d"
            ]
          }
        },
        "89e534e8c754445fb07a7c683b3d382f": {
          "model_module": "@jupyter-widgets/base",
          "model_name": "LayoutModel",
          "state": {
            "_view_name": "LayoutView",
            "grid_template_rows": null,
            "right": null,
            "justify_content": null,
            "_view_module": "@jupyter-widgets/base",
            "overflow": null,
            "_model_module_version": "1.2.0",
            "_view_count": null,
            "flex_flow": null,
            "width": null,
            "min_width": null,
            "border": null,
            "align_items": null,
            "bottom": null,
            "_model_module": "@jupyter-widgets/base",
            "top": null,
            "grid_column": null,
            "overflow_y": null,
            "overflow_x": null,
            "grid_auto_flow": null,
            "grid_area": null,
            "grid_template_columns": null,
            "flex": null,
            "_model_name": "LayoutModel",
            "justify_items": null,
            "grid_row": null,
            "max_height": null,
            "align_content": null,
            "visibility": null,
            "align_self": null,
            "height": null,
            "min_height": null,
            "padding": null,
            "grid_auto_rows": null,
            "grid_gap": null,
            "max_width": null,
            "order": null,
            "_view_module_version": "1.2.0",
            "grid_template_areas": null,
            "object_position": null,
            "object_fit": null,
            "grid_auto_columns": null,
            "margin": null,
            "display": null,
            "left": null
          }
        },
        "70b0e790f2eb432bb8632b2526095665": {
          "model_module": "@jupyter-widgets/controls",
          "model_name": "FloatProgressModel",
          "state": {
            "_view_name": "ProgressView",
            "style": "IPY_MODEL_c6271241a39c46c0a204489cf3fbf66b",
            "_dom_classes": [],
            "description": "",
            "_model_name": "FloatProgressModel",
            "bar_style": "success",
            "max": 312.5,
            "_view_module": "@jupyter-widgets/controls",
            "_model_module_version": "1.5.0",
            "value": 312.5,
            "_view_count": null,
            "_view_module_version": "1.5.0",
            "orientation": "horizontal",
            "min": 0,
            "description_tooltip": null,
            "_model_module": "@jupyter-widgets/controls",
            "layout": "IPY_MODEL_9c725c2fd74e4169ad2a641a63c4f38f"
          }
        },
        "a5614401bb354af0a035161bb1777e8d": {
          "model_module": "@jupyter-widgets/controls",
          "model_name": "HTMLModel",
          "state": {
            "_view_name": "HTMLView",
            "style": "IPY_MODEL_21579b61e6064f95935b8d32277bdf91",
            "_dom_classes": [],
            "description": "",
            "_model_name": "HTMLModel",
            "placeholder": "​",
            "_view_module": "@jupyter-widgets/controls",
            "_model_module_version": "1.5.0",
            "value": " 313/? [00:24&lt;00:00, 12.80it/s]",
            "_view_count": null,
            "_view_module_version": "1.5.0",
            "description_tooltip": null,
            "_model_module": "@jupyter-widgets/controls",
            "layout": "IPY_MODEL_e247aee8af3d432d9f70c97e2efc32b6"
          }
        },
        "c6271241a39c46c0a204489cf3fbf66b": {
          "model_module": "@jupyter-widgets/controls",
          "model_name": "ProgressStyleModel",
          "state": {
            "_view_name": "StyleView",
            "_model_name": "ProgressStyleModel",
            "description_width": "initial",
            "_view_module": "@jupyter-widgets/base",
            "_model_module_version": "1.5.0",
            "_view_count": null,
            "_view_module_version": "1.2.0",
            "bar_color": null,
            "_model_module": "@jupyter-widgets/controls"
          }
        },
        "9c725c2fd74e4169ad2a641a63c4f38f": {
          "model_module": "@jupyter-widgets/base",
          "model_name": "LayoutModel",
          "state": {
            "_view_name": "LayoutView",
            "grid_template_rows": null,
            "right": null,
            "justify_content": null,
            "_view_module": "@jupyter-widgets/base",
            "overflow": null,
            "_model_module_version": "1.2.0",
            "_view_count": null,
            "flex_flow": null,
            "width": null,
            "min_width": null,
            "border": null,
            "align_items": null,
            "bottom": null,
            "_model_module": "@jupyter-widgets/base",
            "top": null,
            "grid_column": null,
            "overflow_y": null,
            "overflow_x": null,
            "grid_auto_flow": null,
            "grid_area": null,
            "grid_template_columns": null,
            "flex": null,
            "_model_name": "LayoutModel",
            "justify_items": null,
            "grid_row": null,
            "max_height": null,
            "align_content": null,
            "visibility": null,
            "align_self": null,
            "height": null,
            "min_height": null,
            "padding": null,
            "grid_auto_rows": null,
            "grid_gap": null,
            "max_width": null,
            "order": null,
            "_view_module_version": "1.2.0",
            "grid_template_areas": null,
            "object_position": null,
            "object_fit": null,
            "grid_auto_columns": null,
            "margin": null,
            "display": null,
            "left": null
          }
        },
        "21579b61e6064f95935b8d32277bdf91": {
          "model_module": "@jupyter-widgets/controls",
          "model_name": "DescriptionStyleModel",
          "state": {
            "_view_name": "StyleView",
            "_model_name": "DescriptionStyleModel",
            "description_width": "",
            "_view_module": "@jupyter-widgets/base",
            "_model_module_version": "1.5.0",
            "_view_count": null,
            "_view_module_version": "1.2.0",
            "_model_module": "@jupyter-widgets/controls"
          }
        },
        "e247aee8af3d432d9f70c97e2efc32b6": {
          "model_module": "@jupyter-widgets/base",
          "model_name": "LayoutModel",
          "state": {
            "_view_name": "LayoutView",
            "grid_template_rows": null,
            "right": null,
            "justify_content": null,
            "_view_module": "@jupyter-widgets/base",
            "overflow": null,
            "_model_module_version": "1.2.0",
            "_view_count": null,
            "flex_flow": null,
            "width": null,
            "min_width": null,
            "border": null,
            "align_items": null,
            "bottom": null,
            "_model_module": "@jupyter-widgets/base",
            "top": null,
            "grid_column": null,
            "overflow_y": null,
            "overflow_x": null,
            "grid_auto_flow": null,
            "grid_area": null,
            "grid_template_columns": null,
            "flex": null,
            "_model_name": "LayoutModel",
            "justify_items": null,
            "grid_row": null,
            "max_height": null,
            "align_content": null,
            "visibility": null,
            "align_self": null,
            "height": null,
            "min_height": null,
            "padding": null,
            "grid_auto_rows": null,
            "grid_gap": null,
            "max_width": null,
            "order": null,
            "_view_module_version": "1.2.0",
            "grid_template_areas": null,
            "object_position": null,
            "object_fit": null,
            "grid_auto_columns": null,
            "margin": null,
            "display": null,
            "left": null
          }
        },
        "cadb8f0c6d3d427888b457c42e1cd2cb": {
          "model_module": "@jupyter-widgets/controls",
          "model_name": "HBoxModel",
          "state": {
            "_view_name": "HBoxView",
            "_dom_classes": [],
            "_model_name": "HBoxModel",
            "_view_module": "@jupyter-widgets/controls",
            "_model_module_version": "1.5.0",
            "_view_count": null,
            "_view_module_version": "1.5.0",
            "box_style": "",
            "layout": "IPY_MODEL_719486e6095141fab22d5d1d4a89849c",
            "_model_module": "@jupyter-widgets/controls",
            "children": [
              "IPY_MODEL_9d9ba9a8c3534437ad31757511fdf698",
              "IPY_MODEL_b8333804f2c5497592df6e3b9f82a636"
            ]
          }
        },
        "719486e6095141fab22d5d1d4a89849c": {
          "model_module": "@jupyter-widgets/base",
          "model_name": "LayoutModel",
          "state": {
            "_view_name": "LayoutView",
            "grid_template_rows": null,
            "right": null,
            "justify_content": null,
            "_view_module": "@jupyter-widgets/base",
            "overflow": null,
            "_model_module_version": "1.2.0",
            "_view_count": null,
            "flex_flow": null,
            "width": null,
            "min_width": null,
            "border": null,
            "align_items": null,
            "bottom": null,
            "_model_module": "@jupyter-widgets/base",
            "top": null,
            "grid_column": null,
            "overflow_y": null,
            "overflow_x": null,
            "grid_auto_flow": null,
            "grid_area": null,
            "grid_template_columns": null,
            "flex": null,
            "_model_name": "LayoutModel",
            "justify_items": null,
            "grid_row": null,
            "max_height": null,
            "align_content": null,
            "visibility": null,
            "align_self": null,
            "height": null,
            "min_height": null,
            "padding": null,
            "grid_auto_rows": null,
            "grid_gap": null,
            "max_width": null,
            "order": null,
            "_view_module_version": "1.2.0",
            "grid_template_areas": null,
            "object_position": null,
            "object_fit": null,
            "grid_auto_columns": null,
            "margin": null,
            "display": null,
            "left": null
          }
        },
        "9d9ba9a8c3534437ad31757511fdf698": {
          "model_module": "@jupyter-widgets/controls",
          "model_name": "FloatProgressModel",
          "state": {
            "_view_name": "ProgressView",
            "style": "IPY_MODEL_8d510c857bf440a3937e2fe3c850b4b2",
            "_dom_classes": [],
            "description": "100%",
            "_model_name": "FloatProgressModel",
            "bar_style": "success",
            "max": 1875,
            "_view_module": "@jupyter-widgets/controls",
            "_model_module_version": "1.5.0",
            "value": 1875,
            "_view_count": null,
            "_view_module_version": "1.5.0",
            "orientation": "horizontal",
            "min": 0,
            "description_tooltip": null,
            "_model_module": "@jupyter-widgets/controls",
            "layout": "IPY_MODEL_3f68282ec5a144078c195736f0483461"
          }
        },
        "b8333804f2c5497592df6e3b9f82a636": {
          "model_module": "@jupyter-widgets/controls",
          "model_name": "HTMLModel",
          "state": {
            "_view_name": "HTMLView",
            "style": "IPY_MODEL_1f9aa8b633dc42efb352f8d19b743cda",
            "_dom_classes": [],
            "description": "",
            "_model_name": "HTMLModel",
            "placeholder": "​",
            "_view_module": "@jupyter-widgets/controls",
            "_model_module_version": "1.5.0",
            "value": " 1875/1875.0 [00:22&lt;00:00, 82.37it/s]",
            "_view_count": null,
            "_view_module_version": "1.5.0",
            "description_tooltip": null,
            "_model_module": "@jupyter-widgets/controls",
            "layout": "IPY_MODEL_aece8147ae404a0ebb9567e0578683cb"
          }
        },
        "8d510c857bf440a3937e2fe3c850b4b2": {
          "model_module": "@jupyter-widgets/controls",
          "model_name": "ProgressStyleModel",
          "state": {
            "_view_name": "StyleView",
            "_model_name": "ProgressStyleModel",
            "description_width": "initial",
            "_view_module": "@jupyter-widgets/base",
            "_model_module_version": "1.5.0",
            "_view_count": null,
            "_view_module_version": "1.2.0",
            "bar_color": null,
            "_model_module": "@jupyter-widgets/controls"
          }
        },
        "3f68282ec5a144078c195736f0483461": {
          "model_module": "@jupyter-widgets/base",
          "model_name": "LayoutModel",
          "state": {
            "_view_name": "LayoutView",
            "grid_template_rows": null,
            "right": null,
            "justify_content": null,
            "_view_module": "@jupyter-widgets/base",
            "overflow": null,
            "_model_module_version": "1.2.0",
            "_view_count": null,
            "flex_flow": null,
            "width": null,
            "min_width": null,
            "border": null,
            "align_items": null,
            "bottom": null,
            "_model_module": "@jupyter-widgets/base",
            "top": null,
            "grid_column": null,
            "overflow_y": null,
            "overflow_x": null,
            "grid_auto_flow": null,
            "grid_area": null,
            "grid_template_columns": null,
            "flex": null,
            "_model_name": "LayoutModel",
            "justify_items": null,
            "grid_row": null,
            "max_height": null,
            "align_content": null,
            "visibility": null,
            "align_self": null,
            "height": null,
            "min_height": null,
            "padding": null,
            "grid_auto_rows": null,
            "grid_gap": null,
            "max_width": null,
            "order": null,
            "_view_module_version": "1.2.0",
            "grid_template_areas": null,
            "object_position": null,
            "object_fit": null,
            "grid_auto_columns": null,
            "margin": null,
            "display": null,
            "left": null
          }
        },
        "1f9aa8b633dc42efb352f8d19b743cda": {
          "model_module": "@jupyter-widgets/controls",
          "model_name": "DescriptionStyleModel",
          "state": {
            "_view_name": "StyleView",
            "_model_name": "DescriptionStyleModel",
            "description_width": "",
            "_view_module": "@jupyter-widgets/base",
            "_model_module_version": "1.5.0",
            "_view_count": null,
            "_view_module_version": "1.2.0",
            "_model_module": "@jupyter-widgets/controls"
          }
        },
        "aece8147ae404a0ebb9567e0578683cb": {
          "model_module": "@jupyter-widgets/base",
          "model_name": "LayoutModel",
          "state": {
            "_view_name": "LayoutView",
            "grid_template_rows": null,
            "right": null,
            "justify_content": null,
            "_view_module": "@jupyter-widgets/base",
            "overflow": null,
            "_model_module_version": "1.2.0",
            "_view_count": null,
            "flex_flow": null,
            "width": null,
            "min_width": null,
            "border": null,
            "align_items": null,
            "bottom": null,
            "_model_module": "@jupyter-widgets/base",
            "top": null,
            "grid_column": null,
            "overflow_y": null,
            "overflow_x": null,
            "grid_auto_flow": null,
            "grid_area": null,
            "grid_template_columns": null,
            "flex": null,
            "_model_name": "LayoutModel",
            "justify_items": null,
            "grid_row": null,
            "max_height": null,
            "align_content": null,
            "visibility": null,
            "align_self": null,
            "height": null,
            "min_height": null,
            "padding": null,
            "grid_auto_rows": null,
            "grid_gap": null,
            "max_width": null,
            "order": null,
            "_view_module_version": "1.2.0",
            "grid_template_areas": null,
            "object_position": null,
            "object_fit": null,
            "grid_auto_columns": null,
            "margin": null,
            "display": null,
            "left": null
          }
        },
        "c5e9321c690740b6b9be7b1cd10518da": {
          "model_module": "@jupyter-widgets/controls",
          "model_name": "HBoxModel",
          "state": {
            "_view_name": "HBoxView",
            "_dom_classes": [],
            "_model_name": "HBoxModel",
            "_view_module": "@jupyter-widgets/controls",
            "_model_module_version": "1.5.0",
            "_view_count": null,
            "_view_module_version": "1.5.0",
            "box_style": "",
            "layout": "IPY_MODEL_9e10ace8d52042d682172e78b7c497f5",
            "_model_module": "@jupyter-widgets/controls",
            "children": [
              "IPY_MODEL_9cb66c6969c744a09adec0a2d75b5617",
              "IPY_MODEL_e9e7bd47e48b4c0890bc1a380f768b6d"
            ]
          }
        },
        "9e10ace8d52042d682172e78b7c497f5": {
          "model_module": "@jupyter-widgets/base",
          "model_name": "LayoutModel",
          "state": {
            "_view_name": "LayoutView",
            "grid_template_rows": null,
            "right": null,
            "justify_content": null,
            "_view_module": "@jupyter-widgets/base",
            "overflow": null,
            "_model_module_version": "1.2.0",
            "_view_count": null,
            "flex_flow": null,
            "width": null,
            "min_width": null,
            "border": null,
            "align_items": null,
            "bottom": null,
            "_model_module": "@jupyter-widgets/base",
            "top": null,
            "grid_column": null,
            "overflow_y": null,
            "overflow_x": null,
            "grid_auto_flow": null,
            "grid_area": null,
            "grid_template_columns": null,
            "flex": null,
            "_model_name": "LayoutModel",
            "justify_items": null,
            "grid_row": null,
            "max_height": null,
            "align_content": null,
            "visibility": null,
            "align_self": null,
            "height": null,
            "min_height": null,
            "padding": null,
            "grid_auto_rows": null,
            "grid_gap": null,
            "max_width": null,
            "order": null,
            "_view_module_version": "1.2.0",
            "grid_template_areas": null,
            "object_position": null,
            "object_fit": null,
            "grid_auto_columns": null,
            "margin": null,
            "display": null,
            "left": null
          }
        },
        "9cb66c6969c744a09adec0a2d75b5617": {
          "model_module": "@jupyter-widgets/controls",
          "model_name": "FloatProgressModel",
          "state": {
            "_view_name": "ProgressView",
            "style": "IPY_MODEL_f758ba5c641f4a8ab2ddb9d0d1489162",
            "_dom_classes": [],
            "description": "",
            "_model_name": "FloatProgressModel",
            "bar_style": "success",
            "max": 312.5,
            "_view_module": "@jupyter-widgets/controls",
            "_model_module_version": "1.5.0",
            "value": 312.5,
            "_view_count": null,
            "_view_module_version": "1.5.0",
            "orientation": "horizontal",
            "min": 0,
            "description_tooltip": null,
            "_model_module": "@jupyter-widgets/controls",
            "layout": "IPY_MODEL_32820aa4a4084beeb6e36adcf2814203"
          }
        },
        "e9e7bd47e48b4c0890bc1a380f768b6d": {
          "model_module": "@jupyter-widgets/controls",
          "model_name": "HTMLModel",
          "state": {
            "_view_name": "HTMLView",
            "style": "IPY_MODEL_571e7c31611b49f99011cd6739133906",
            "_dom_classes": [],
            "description": "",
            "_model_name": "HTMLModel",
            "placeholder": "​",
            "_view_module": "@jupyter-widgets/controls",
            "_model_module_version": "1.5.0",
            "value": " 313/? [00:12&lt;00:00, 25.56it/s]",
            "_view_count": null,
            "_view_module_version": "1.5.0",
            "description_tooltip": null,
            "_model_module": "@jupyter-widgets/controls",
            "layout": "IPY_MODEL_9d40ee1a3a8f42f7ba2efd10433a8a1e"
          }
        },
        "f758ba5c641f4a8ab2ddb9d0d1489162": {
          "model_module": "@jupyter-widgets/controls",
          "model_name": "ProgressStyleModel",
          "state": {
            "_view_name": "StyleView",
            "_model_name": "ProgressStyleModel",
            "description_width": "initial",
            "_view_module": "@jupyter-widgets/base",
            "_model_module_version": "1.5.0",
            "_view_count": null,
            "_view_module_version": "1.2.0",
            "bar_color": null,
            "_model_module": "@jupyter-widgets/controls"
          }
        },
        "32820aa4a4084beeb6e36adcf2814203": {
          "model_module": "@jupyter-widgets/base",
          "model_name": "LayoutModel",
          "state": {
            "_view_name": "LayoutView",
            "grid_template_rows": null,
            "right": null,
            "justify_content": null,
            "_view_module": "@jupyter-widgets/base",
            "overflow": null,
            "_model_module_version": "1.2.0",
            "_view_count": null,
            "flex_flow": null,
            "width": null,
            "min_width": null,
            "border": null,
            "align_items": null,
            "bottom": null,
            "_model_module": "@jupyter-widgets/base",
            "top": null,
            "grid_column": null,
            "overflow_y": null,
            "overflow_x": null,
            "grid_auto_flow": null,
            "grid_area": null,
            "grid_template_columns": null,
            "flex": null,
            "_model_name": "LayoutModel",
            "justify_items": null,
            "grid_row": null,
            "max_height": null,
            "align_content": null,
            "visibility": null,
            "align_self": null,
            "height": null,
            "min_height": null,
            "padding": null,
            "grid_auto_rows": null,
            "grid_gap": null,
            "max_width": null,
            "order": null,
            "_view_module_version": "1.2.0",
            "grid_template_areas": null,
            "object_position": null,
            "object_fit": null,
            "grid_auto_columns": null,
            "margin": null,
            "display": null,
            "left": null
          }
        },
        "571e7c31611b49f99011cd6739133906": {
          "model_module": "@jupyter-widgets/controls",
          "model_name": "DescriptionStyleModel",
          "state": {
            "_view_name": "StyleView",
            "_model_name": "DescriptionStyleModel",
            "description_width": "",
            "_view_module": "@jupyter-widgets/base",
            "_model_module_version": "1.5.0",
            "_view_count": null,
            "_view_module_version": "1.2.0",
            "_model_module": "@jupyter-widgets/controls"
          }
        },
        "9d40ee1a3a8f42f7ba2efd10433a8a1e": {
          "model_module": "@jupyter-widgets/base",
          "model_name": "LayoutModel",
          "state": {
            "_view_name": "LayoutView",
            "grid_template_rows": null,
            "right": null,
            "justify_content": null,
            "_view_module": "@jupyter-widgets/base",
            "overflow": null,
            "_model_module_version": "1.2.0",
            "_view_count": null,
            "flex_flow": null,
            "width": null,
            "min_width": null,
            "border": null,
            "align_items": null,
            "bottom": null,
            "_model_module": "@jupyter-widgets/base",
            "top": null,
            "grid_column": null,
            "overflow_y": null,
            "overflow_x": null,
            "grid_auto_flow": null,
            "grid_area": null,
            "grid_template_columns": null,
            "flex": null,
            "_model_name": "LayoutModel",
            "justify_items": null,
            "grid_row": null,
            "max_height": null,
            "align_content": null,
            "visibility": null,
            "align_self": null,
            "height": null,
            "min_height": null,
            "padding": null,
            "grid_auto_rows": null,
            "grid_gap": null,
            "max_width": null,
            "order": null,
            "_view_module_version": "1.2.0",
            "grid_template_areas": null,
            "object_position": null,
            "object_fit": null,
            "grid_auto_columns": null,
            "margin": null,
            "display": null,
            "left": null
          }
        },
        "357f36c9255d4f33926619923f3b6432": {
          "model_module": "@jupyter-widgets/controls",
          "model_name": "HBoxModel",
          "state": {
            "_view_name": "HBoxView",
            "_dom_classes": [],
            "_model_name": "HBoxModel",
            "_view_module": "@jupyter-widgets/controls",
            "_model_module_version": "1.5.0",
            "_view_count": null,
            "_view_module_version": "1.5.0",
            "box_style": "",
            "layout": "IPY_MODEL_a2ab23d1a39d44abbc014530aa61d991",
            "_model_module": "@jupyter-widgets/controls",
            "children": [
              "IPY_MODEL_99ed7f49a8f740c4b134bf9dc5abe8b3",
              "IPY_MODEL_19bd954e0d044fdc80b7e32810fd2627"
            ]
          }
        },
        "a2ab23d1a39d44abbc014530aa61d991": {
          "model_module": "@jupyter-widgets/base",
          "model_name": "LayoutModel",
          "state": {
            "_view_name": "LayoutView",
            "grid_template_rows": null,
            "right": null,
            "justify_content": null,
            "_view_module": "@jupyter-widgets/base",
            "overflow": null,
            "_model_module_version": "1.2.0",
            "_view_count": null,
            "flex_flow": null,
            "width": null,
            "min_width": null,
            "border": null,
            "align_items": null,
            "bottom": null,
            "_model_module": "@jupyter-widgets/base",
            "top": null,
            "grid_column": null,
            "overflow_y": null,
            "overflow_x": null,
            "grid_auto_flow": null,
            "grid_area": null,
            "grid_template_columns": null,
            "flex": null,
            "_model_name": "LayoutModel",
            "justify_items": null,
            "grid_row": null,
            "max_height": null,
            "align_content": null,
            "visibility": null,
            "align_self": null,
            "height": null,
            "min_height": null,
            "padding": null,
            "grid_auto_rows": null,
            "grid_gap": null,
            "max_width": null,
            "order": null,
            "_view_module_version": "1.2.0",
            "grid_template_areas": null,
            "object_position": null,
            "object_fit": null,
            "grid_auto_columns": null,
            "margin": null,
            "display": null,
            "left": null
          }
        },
        "99ed7f49a8f740c4b134bf9dc5abe8b3": {
          "model_module": "@jupyter-widgets/controls",
          "model_name": "FloatProgressModel",
          "state": {
            "_view_name": "ProgressView",
            "style": "IPY_MODEL_2273ebc83aea4cd28145705ecf6dc28b",
            "_dom_classes": [],
            "description": "100%",
            "_model_name": "FloatProgressModel",
            "bar_style": "success",
            "max": 1875,
            "_view_module": "@jupyter-widgets/controls",
            "_model_module_version": "1.5.0",
            "value": 1875,
            "_view_count": null,
            "_view_module_version": "1.5.0",
            "orientation": "horizontal",
            "min": 0,
            "description_tooltip": null,
            "_model_module": "@jupyter-widgets/controls",
            "layout": "IPY_MODEL_e7bc037d48604737937c331b47555ca9"
          }
        },
        "19bd954e0d044fdc80b7e32810fd2627": {
          "model_module": "@jupyter-widgets/controls",
          "model_name": "HTMLModel",
          "state": {
            "_view_name": "HTMLView",
            "style": "IPY_MODEL_a898fc3c341a4f0089eab545ed8684df",
            "_dom_classes": [],
            "description": "",
            "_model_name": "HTMLModel",
            "placeholder": "​",
            "_view_module": "@jupyter-widgets/controls",
            "_model_module_version": "1.5.0",
            "value": " 1875/1875.0 [01:15&lt;00:00, 24.69it/s]",
            "_view_count": null,
            "_view_module_version": "1.5.0",
            "description_tooltip": null,
            "_model_module": "@jupyter-widgets/controls",
            "layout": "IPY_MODEL_9c0e3ac0061742039d1f117e7de4e96f"
          }
        },
        "2273ebc83aea4cd28145705ecf6dc28b": {
          "model_module": "@jupyter-widgets/controls",
          "model_name": "ProgressStyleModel",
          "state": {
            "_view_name": "StyleView",
            "_model_name": "ProgressStyleModel",
            "description_width": "initial",
            "_view_module": "@jupyter-widgets/base",
            "_model_module_version": "1.5.0",
            "_view_count": null,
            "_view_module_version": "1.2.0",
            "bar_color": null,
            "_model_module": "@jupyter-widgets/controls"
          }
        },
        "e7bc037d48604737937c331b47555ca9": {
          "model_module": "@jupyter-widgets/base",
          "model_name": "LayoutModel",
          "state": {
            "_view_name": "LayoutView",
            "grid_template_rows": null,
            "right": null,
            "justify_content": null,
            "_view_module": "@jupyter-widgets/base",
            "overflow": null,
            "_model_module_version": "1.2.0",
            "_view_count": null,
            "flex_flow": null,
            "width": null,
            "min_width": null,
            "border": null,
            "align_items": null,
            "bottom": null,
            "_model_module": "@jupyter-widgets/base",
            "top": null,
            "grid_column": null,
            "overflow_y": null,
            "overflow_x": null,
            "grid_auto_flow": null,
            "grid_area": null,
            "grid_template_columns": null,
            "flex": null,
            "_model_name": "LayoutModel",
            "justify_items": null,
            "grid_row": null,
            "max_height": null,
            "align_content": null,
            "visibility": null,
            "align_self": null,
            "height": null,
            "min_height": null,
            "padding": null,
            "grid_auto_rows": null,
            "grid_gap": null,
            "max_width": null,
            "order": null,
            "_view_module_version": "1.2.0",
            "grid_template_areas": null,
            "object_position": null,
            "object_fit": null,
            "grid_auto_columns": null,
            "margin": null,
            "display": null,
            "left": null
          }
        },
        "a898fc3c341a4f0089eab545ed8684df": {
          "model_module": "@jupyter-widgets/controls",
          "model_name": "DescriptionStyleModel",
          "state": {
            "_view_name": "StyleView",
            "_model_name": "DescriptionStyleModel",
            "description_width": "",
            "_view_module": "@jupyter-widgets/base",
            "_model_module_version": "1.5.0",
            "_view_count": null,
            "_view_module_version": "1.2.0",
            "_model_module": "@jupyter-widgets/controls"
          }
        },
        "9c0e3ac0061742039d1f117e7de4e96f": {
          "model_module": "@jupyter-widgets/base",
          "model_name": "LayoutModel",
          "state": {
            "_view_name": "LayoutView",
            "grid_template_rows": null,
            "right": null,
            "justify_content": null,
            "_view_module": "@jupyter-widgets/base",
            "overflow": null,
            "_model_module_version": "1.2.0",
            "_view_count": null,
            "flex_flow": null,
            "width": null,
            "min_width": null,
            "border": null,
            "align_items": null,
            "bottom": null,
            "_model_module": "@jupyter-widgets/base",
            "top": null,
            "grid_column": null,
            "overflow_y": null,
            "overflow_x": null,
            "grid_auto_flow": null,
            "grid_area": null,
            "grid_template_columns": null,
            "flex": null,
            "_model_name": "LayoutModel",
            "justify_items": null,
            "grid_row": null,
            "max_height": null,
            "align_content": null,
            "visibility": null,
            "align_self": null,
            "height": null,
            "min_height": null,
            "padding": null,
            "grid_auto_rows": null,
            "grid_gap": null,
            "max_width": null,
            "order": null,
            "_view_module_version": "1.2.0",
            "grid_template_areas": null,
            "object_position": null,
            "object_fit": null,
            "grid_auto_columns": null,
            "margin": null,
            "display": null,
            "left": null
          }
        },
        "66d48024b20a44bca27a7607a7ba00c2": {
          "model_module": "@jupyter-widgets/controls",
          "model_name": "HBoxModel",
          "state": {
            "_view_name": "HBoxView",
            "_dom_classes": [],
            "_model_name": "HBoxModel",
            "_view_module": "@jupyter-widgets/controls",
            "_model_module_version": "1.5.0",
            "_view_count": null,
            "_view_module_version": "1.5.0",
            "box_style": "",
            "layout": "IPY_MODEL_dc5e3c691d0e45dd9e0752f501ac1664",
            "_model_module": "@jupyter-widgets/controls",
            "children": [
              "IPY_MODEL_23e2391045834104b23dccd523c4f810",
              "IPY_MODEL_2371b4b01deb45e3a302ff379831fde6"
            ]
          }
        },
        "dc5e3c691d0e45dd9e0752f501ac1664": {
          "model_module": "@jupyter-widgets/base",
          "model_name": "LayoutModel",
          "state": {
            "_view_name": "LayoutView",
            "grid_template_rows": null,
            "right": null,
            "justify_content": null,
            "_view_module": "@jupyter-widgets/base",
            "overflow": null,
            "_model_module_version": "1.2.0",
            "_view_count": null,
            "flex_flow": null,
            "width": null,
            "min_width": null,
            "border": null,
            "align_items": null,
            "bottom": null,
            "_model_module": "@jupyter-widgets/base",
            "top": null,
            "grid_column": null,
            "overflow_y": null,
            "overflow_x": null,
            "grid_auto_flow": null,
            "grid_area": null,
            "grid_template_columns": null,
            "flex": null,
            "_model_name": "LayoutModel",
            "justify_items": null,
            "grid_row": null,
            "max_height": null,
            "align_content": null,
            "visibility": null,
            "align_self": null,
            "height": null,
            "min_height": null,
            "padding": null,
            "grid_auto_rows": null,
            "grid_gap": null,
            "max_width": null,
            "order": null,
            "_view_module_version": "1.2.0",
            "grid_template_areas": null,
            "object_position": null,
            "object_fit": null,
            "grid_auto_columns": null,
            "margin": null,
            "display": null,
            "left": null
          }
        },
        "23e2391045834104b23dccd523c4f810": {
          "model_module": "@jupyter-widgets/controls",
          "model_name": "FloatProgressModel",
          "state": {
            "_view_name": "ProgressView",
            "style": "IPY_MODEL_42f05feaf47e46a48b6644ed9f935562",
            "_dom_classes": [],
            "description": "",
            "_model_name": "FloatProgressModel",
            "bar_style": "success",
            "max": 312.5,
            "_view_module": "@jupyter-widgets/controls",
            "_model_module_version": "1.5.0",
            "value": 312.5,
            "_view_count": null,
            "_view_module_version": "1.5.0",
            "orientation": "horizontal",
            "min": 0,
            "description_tooltip": null,
            "_model_module": "@jupyter-widgets/controls",
            "layout": "IPY_MODEL_38ae5137f928406cbdfe2f0caaa887d2"
          }
        },
        "2371b4b01deb45e3a302ff379831fde6": {
          "model_module": "@jupyter-widgets/controls",
          "model_name": "HTMLModel",
          "state": {
            "_view_name": "HTMLView",
            "style": "IPY_MODEL_300a8d4b76ed42e8913e5c46536b5d1c",
            "_dom_classes": [],
            "description": "",
            "_model_name": "HTMLModel",
            "placeholder": "​",
            "_view_module": "@jupyter-widgets/controls",
            "_model_module_version": "1.5.0",
            "value": " 313/? [01:05&lt;00:00,  4.78it/s]",
            "_view_count": null,
            "_view_module_version": "1.5.0",
            "description_tooltip": null,
            "_model_module": "@jupyter-widgets/controls",
            "layout": "IPY_MODEL_fce517e74dde483ca159b7cffe7ecd65"
          }
        },
        "42f05feaf47e46a48b6644ed9f935562": {
          "model_module": "@jupyter-widgets/controls",
          "model_name": "ProgressStyleModel",
          "state": {
            "_view_name": "StyleView",
            "_model_name": "ProgressStyleModel",
            "description_width": "initial",
            "_view_module": "@jupyter-widgets/base",
            "_model_module_version": "1.5.0",
            "_view_count": null,
            "_view_module_version": "1.2.0",
            "bar_color": null,
            "_model_module": "@jupyter-widgets/controls"
          }
        },
        "38ae5137f928406cbdfe2f0caaa887d2": {
          "model_module": "@jupyter-widgets/base",
          "model_name": "LayoutModel",
          "state": {
            "_view_name": "LayoutView",
            "grid_template_rows": null,
            "right": null,
            "justify_content": null,
            "_view_module": "@jupyter-widgets/base",
            "overflow": null,
            "_model_module_version": "1.2.0",
            "_view_count": null,
            "flex_flow": null,
            "width": null,
            "min_width": null,
            "border": null,
            "align_items": null,
            "bottom": null,
            "_model_module": "@jupyter-widgets/base",
            "top": null,
            "grid_column": null,
            "overflow_y": null,
            "overflow_x": null,
            "grid_auto_flow": null,
            "grid_area": null,
            "grid_template_columns": null,
            "flex": null,
            "_model_name": "LayoutModel",
            "justify_items": null,
            "grid_row": null,
            "max_height": null,
            "align_content": null,
            "visibility": null,
            "align_self": null,
            "height": null,
            "min_height": null,
            "padding": null,
            "grid_auto_rows": null,
            "grid_gap": null,
            "max_width": null,
            "order": null,
            "_view_module_version": "1.2.0",
            "grid_template_areas": null,
            "object_position": null,
            "object_fit": null,
            "grid_auto_columns": null,
            "margin": null,
            "display": null,
            "left": null
          }
        },
        "300a8d4b76ed42e8913e5c46536b5d1c": {
          "model_module": "@jupyter-widgets/controls",
          "model_name": "DescriptionStyleModel",
          "state": {
            "_view_name": "StyleView",
            "_model_name": "DescriptionStyleModel",
            "description_width": "",
            "_view_module": "@jupyter-widgets/base",
            "_model_module_version": "1.5.0",
            "_view_count": null,
            "_view_module_version": "1.2.0",
            "_model_module": "@jupyter-widgets/controls"
          }
        },
        "fce517e74dde483ca159b7cffe7ecd65": {
          "model_module": "@jupyter-widgets/base",
          "model_name": "LayoutModel",
          "state": {
            "_view_name": "LayoutView",
            "grid_template_rows": null,
            "right": null,
            "justify_content": null,
            "_view_module": "@jupyter-widgets/base",
            "overflow": null,
            "_model_module_version": "1.2.0",
            "_view_count": null,
            "flex_flow": null,
            "width": null,
            "min_width": null,
            "border": null,
            "align_items": null,
            "bottom": null,
            "_model_module": "@jupyter-widgets/base",
            "top": null,
            "grid_column": null,
            "overflow_y": null,
            "overflow_x": null,
            "grid_auto_flow": null,
            "grid_area": null,
            "grid_template_columns": null,
            "flex": null,
            "_model_name": "LayoutModel",
            "justify_items": null,
            "grid_row": null,
            "max_height": null,
            "align_content": null,
            "visibility": null,
            "align_self": null,
            "height": null,
            "min_height": null,
            "padding": null,
            "grid_auto_rows": null,
            "grid_gap": null,
            "max_width": null,
            "order": null,
            "_view_module_version": "1.2.0",
            "grid_template_areas": null,
            "object_position": null,
            "object_fit": null,
            "grid_auto_columns": null,
            "margin": null,
            "display": null,
            "left": null
          }
        },
        "2f75887f53b14b079e8a12f8d502a2b5": {
          "model_module": "@jupyter-widgets/controls",
          "model_name": "HBoxModel",
          "state": {
            "_view_name": "HBoxView",
            "_dom_classes": [],
            "_model_name": "HBoxModel",
            "_view_module": "@jupyter-widgets/controls",
            "_model_module_version": "1.5.0",
            "_view_count": null,
            "_view_module_version": "1.5.0",
            "box_style": "",
            "layout": "IPY_MODEL_109408121b7c4a048ed60a073d04be2f",
            "_model_module": "@jupyter-widgets/controls",
            "children": [
              "IPY_MODEL_6418eb24b5394c3f8088220976f4dc9f",
              "IPY_MODEL_256f8fb64b7a46259a944d6d27b3f1ec"
            ]
          }
        },
        "109408121b7c4a048ed60a073d04be2f": {
          "model_module": "@jupyter-widgets/base",
          "model_name": "LayoutModel",
          "state": {
            "_view_name": "LayoutView",
            "grid_template_rows": null,
            "right": null,
            "justify_content": null,
            "_view_module": "@jupyter-widgets/base",
            "overflow": null,
            "_model_module_version": "1.2.0",
            "_view_count": null,
            "flex_flow": null,
            "width": null,
            "min_width": null,
            "border": null,
            "align_items": null,
            "bottom": null,
            "_model_module": "@jupyter-widgets/base",
            "top": null,
            "grid_column": null,
            "overflow_y": null,
            "overflow_x": null,
            "grid_auto_flow": null,
            "grid_area": null,
            "grid_template_columns": null,
            "flex": null,
            "_model_name": "LayoutModel",
            "justify_items": null,
            "grid_row": null,
            "max_height": null,
            "align_content": null,
            "visibility": null,
            "align_self": null,
            "height": null,
            "min_height": null,
            "padding": null,
            "grid_auto_rows": null,
            "grid_gap": null,
            "max_width": null,
            "order": null,
            "_view_module_version": "1.2.0",
            "grid_template_areas": null,
            "object_position": null,
            "object_fit": null,
            "grid_auto_columns": null,
            "margin": null,
            "display": null,
            "left": null
          }
        },
        "6418eb24b5394c3f8088220976f4dc9f": {
          "model_module": "@jupyter-widgets/controls",
          "model_name": "FloatProgressModel",
          "state": {
            "_view_name": "ProgressView",
            "style": "IPY_MODEL_f77e296d8d174000b1bdd6956d5cb4c6",
            "_dom_classes": [],
            "description": "100%",
            "_model_name": "FloatProgressModel",
            "bar_style": "success",
            "max": 1875,
            "_view_module": "@jupyter-widgets/controls",
            "_model_module_version": "1.5.0",
            "value": 1875,
            "_view_count": null,
            "_view_module_version": "1.5.0",
            "orientation": "horizontal",
            "min": 0,
            "description_tooltip": null,
            "_model_module": "@jupyter-widgets/controls",
            "layout": "IPY_MODEL_c80cb8f3488e43f4bb513c23abcaee7e"
          }
        },
        "256f8fb64b7a46259a944d6d27b3f1ec": {
          "model_module": "@jupyter-widgets/controls",
          "model_name": "HTMLModel",
          "state": {
            "_view_name": "HTMLView",
            "style": "IPY_MODEL_59479be0bdb0479fb648277b59ad0fcb",
            "_dom_classes": [],
            "description": "",
            "_model_name": "HTMLModel",
            "placeholder": "​",
            "_view_module": "@jupyter-widgets/controls",
            "_model_module_version": "1.5.0",
            "value": " 1875/1875.0 [01:03&lt;00:00, 29.44it/s]",
            "_view_count": null,
            "_view_module_version": "1.5.0",
            "description_tooltip": null,
            "_model_module": "@jupyter-widgets/controls",
            "layout": "IPY_MODEL_10d4397c15974d3d86a4d8d70e8a571c"
          }
        },
        "f77e296d8d174000b1bdd6956d5cb4c6": {
          "model_module": "@jupyter-widgets/controls",
          "model_name": "ProgressStyleModel",
          "state": {
            "_view_name": "StyleView",
            "_model_name": "ProgressStyleModel",
            "description_width": "initial",
            "_view_module": "@jupyter-widgets/base",
            "_model_module_version": "1.5.0",
            "_view_count": null,
            "_view_module_version": "1.2.0",
            "bar_color": null,
            "_model_module": "@jupyter-widgets/controls"
          }
        },
        "c80cb8f3488e43f4bb513c23abcaee7e": {
          "model_module": "@jupyter-widgets/base",
          "model_name": "LayoutModel",
          "state": {
            "_view_name": "LayoutView",
            "grid_template_rows": null,
            "right": null,
            "justify_content": null,
            "_view_module": "@jupyter-widgets/base",
            "overflow": null,
            "_model_module_version": "1.2.0",
            "_view_count": null,
            "flex_flow": null,
            "width": null,
            "min_width": null,
            "border": null,
            "align_items": null,
            "bottom": null,
            "_model_module": "@jupyter-widgets/base",
            "top": null,
            "grid_column": null,
            "overflow_y": null,
            "overflow_x": null,
            "grid_auto_flow": null,
            "grid_area": null,
            "grid_template_columns": null,
            "flex": null,
            "_model_name": "LayoutModel",
            "justify_items": null,
            "grid_row": null,
            "max_height": null,
            "align_content": null,
            "visibility": null,
            "align_self": null,
            "height": null,
            "min_height": null,
            "padding": null,
            "grid_auto_rows": null,
            "grid_gap": null,
            "max_width": null,
            "order": null,
            "_view_module_version": "1.2.0",
            "grid_template_areas": null,
            "object_position": null,
            "object_fit": null,
            "grid_auto_columns": null,
            "margin": null,
            "display": null,
            "left": null
          }
        },
        "59479be0bdb0479fb648277b59ad0fcb": {
          "model_module": "@jupyter-widgets/controls",
          "model_name": "DescriptionStyleModel",
          "state": {
            "_view_name": "StyleView",
            "_model_name": "DescriptionStyleModel",
            "description_width": "",
            "_view_module": "@jupyter-widgets/base",
            "_model_module_version": "1.5.0",
            "_view_count": null,
            "_view_module_version": "1.2.0",
            "_model_module": "@jupyter-widgets/controls"
          }
        },
        "10d4397c15974d3d86a4d8d70e8a571c": {
          "model_module": "@jupyter-widgets/base",
          "model_name": "LayoutModel",
          "state": {
            "_view_name": "LayoutView",
            "grid_template_rows": null,
            "right": null,
            "justify_content": null,
            "_view_module": "@jupyter-widgets/base",
            "overflow": null,
            "_model_module_version": "1.2.0",
            "_view_count": null,
            "flex_flow": null,
            "width": null,
            "min_width": null,
            "border": null,
            "align_items": null,
            "bottom": null,
            "_model_module": "@jupyter-widgets/base",
            "top": null,
            "grid_column": null,
            "overflow_y": null,
            "overflow_x": null,
            "grid_auto_flow": null,
            "grid_area": null,
            "grid_template_columns": null,
            "flex": null,
            "_model_name": "LayoutModel",
            "justify_items": null,
            "grid_row": null,
            "max_height": null,
            "align_content": null,
            "visibility": null,
            "align_self": null,
            "height": null,
            "min_height": null,
            "padding": null,
            "grid_auto_rows": null,
            "grid_gap": null,
            "max_width": null,
            "order": null,
            "_view_module_version": "1.2.0",
            "grid_template_areas": null,
            "object_position": null,
            "object_fit": null,
            "grid_auto_columns": null,
            "margin": null,
            "display": null,
            "left": null
          }
        },
        "a614747c1ded408cae0c42f2b918a215": {
          "model_module": "@jupyter-widgets/controls",
          "model_name": "HBoxModel",
          "state": {
            "_view_name": "HBoxView",
            "_dom_classes": [],
            "_model_name": "HBoxModel",
            "_view_module": "@jupyter-widgets/controls",
            "_model_module_version": "1.5.0",
            "_view_count": null,
            "_view_module_version": "1.5.0",
            "box_style": "",
            "layout": "IPY_MODEL_f00fb1cfc0b940fb9255308ea25be165",
            "_model_module": "@jupyter-widgets/controls",
            "children": [
              "IPY_MODEL_83070e37b5644a7882fdf4c6e54bb0e2",
              "IPY_MODEL_b8be587ba0724ddf98ff5b582cf52f5f"
            ]
          }
        },
        "f00fb1cfc0b940fb9255308ea25be165": {
          "model_module": "@jupyter-widgets/base",
          "model_name": "LayoutModel",
          "state": {
            "_view_name": "LayoutView",
            "grid_template_rows": null,
            "right": null,
            "justify_content": null,
            "_view_module": "@jupyter-widgets/base",
            "overflow": null,
            "_model_module_version": "1.2.0",
            "_view_count": null,
            "flex_flow": null,
            "width": null,
            "min_width": null,
            "border": null,
            "align_items": null,
            "bottom": null,
            "_model_module": "@jupyter-widgets/base",
            "top": null,
            "grid_column": null,
            "overflow_y": null,
            "overflow_x": null,
            "grid_auto_flow": null,
            "grid_area": null,
            "grid_template_columns": null,
            "flex": null,
            "_model_name": "LayoutModel",
            "justify_items": null,
            "grid_row": null,
            "max_height": null,
            "align_content": null,
            "visibility": null,
            "align_self": null,
            "height": null,
            "min_height": null,
            "padding": null,
            "grid_auto_rows": null,
            "grid_gap": null,
            "max_width": null,
            "order": null,
            "_view_module_version": "1.2.0",
            "grid_template_areas": null,
            "object_position": null,
            "object_fit": null,
            "grid_auto_columns": null,
            "margin": null,
            "display": null,
            "left": null
          }
        },
        "83070e37b5644a7882fdf4c6e54bb0e2": {
          "model_module": "@jupyter-widgets/controls",
          "model_name": "FloatProgressModel",
          "state": {
            "_view_name": "ProgressView",
            "style": "IPY_MODEL_1e0f06e4acdf4130b39adb0eae921515",
            "_dom_classes": [],
            "description": "",
            "_model_name": "FloatProgressModel",
            "bar_style": "success",
            "max": 312.5,
            "_view_module": "@jupyter-widgets/controls",
            "_model_module_version": "1.5.0",
            "value": 312.5,
            "_view_count": null,
            "_view_module_version": "1.5.0",
            "orientation": "horizontal",
            "min": 0,
            "description_tooltip": null,
            "_model_module": "@jupyter-widgets/controls",
            "layout": "IPY_MODEL_60ce00e0a86e4c729e1da3e69567c933"
          }
        },
        "b8be587ba0724ddf98ff5b582cf52f5f": {
          "model_module": "@jupyter-widgets/controls",
          "model_name": "HTMLModel",
          "state": {
            "_view_name": "HTMLView",
            "style": "IPY_MODEL_e121d9efd63b4685b9ef3bb78d68d842",
            "_dom_classes": [],
            "description": "",
            "_model_name": "HTMLModel",
            "placeholder": "​",
            "_view_module": "@jupyter-widgets/controls",
            "_model_module_version": "1.5.0",
            "value": " 313/? [00:01&lt;00:00, 190.55it/s]",
            "_view_count": null,
            "_view_module_version": "1.5.0",
            "description_tooltip": null,
            "_model_module": "@jupyter-widgets/controls",
            "layout": "IPY_MODEL_eea79b86ea214bc3ab7d6e20e220bcdb"
          }
        },
        "1e0f06e4acdf4130b39adb0eae921515": {
          "model_module": "@jupyter-widgets/controls",
          "model_name": "ProgressStyleModel",
          "state": {
            "_view_name": "StyleView",
            "_model_name": "ProgressStyleModel",
            "description_width": "initial",
            "_view_module": "@jupyter-widgets/base",
            "_model_module_version": "1.5.0",
            "_view_count": null,
            "_view_module_version": "1.2.0",
            "bar_color": null,
            "_model_module": "@jupyter-widgets/controls"
          }
        },
        "60ce00e0a86e4c729e1da3e69567c933": {
          "model_module": "@jupyter-widgets/base",
          "model_name": "LayoutModel",
          "state": {
            "_view_name": "LayoutView",
            "grid_template_rows": null,
            "right": null,
            "justify_content": null,
            "_view_module": "@jupyter-widgets/base",
            "overflow": null,
            "_model_module_version": "1.2.0",
            "_view_count": null,
            "flex_flow": null,
            "width": null,
            "min_width": null,
            "border": null,
            "align_items": null,
            "bottom": null,
            "_model_module": "@jupyter-widgets/base",
            "top": null,
            "grid_column": null,
            "overflow_y": null,
            "overflow_x": null,
            "grid_auto_flow": null,
            "grid_area": null,
            "grid_template_columns": null,
            "flex": null,
            "_model_name": "LayoutModel",
            "justify_items": null,
            "grid_row": null,
            "max_height": null,
            "align_content": null,
            "visibility": null,
            "align_self": null,
            "height": null,
            "min_height": null,
            "padding": null,
            "grid_auto_rows": null,
            "grid_gap": null,
            "max_width": null,
            "order": null,
            "_view_module_version": "1.2.0",
            "grid_template_areas": null,
            "object_position": null,
            "object_fit": null,
            "grid_auto_columns": null,
            "margin": null,
            "display": null,
            "left": null
          }
        },
        "e121d9efd63b4685b9ef3bb78d68d842": {
          "model_module": "@jupyter-widgets/controls",
          "model_name": "DescriptionStyleModel",
          "state": {
            "_view_name": "StyleView",
            "_model_name": "DescriptionStyleModel",
            "description_width": "",
            "_view_module": "@jupyter-widgets/base",
            "_model_module_version": "1.5.0",
            "_view_count": null,
            "_view_module_version": "1.2.0",
            "_model_module": "@jupyter-widgets/controls"
          }
        },
        "eea79b86ea214bc3ab7d6e20e220bcdb": {
          "model_module": "@jupyter-widgets/base",
          "model_name": "LayoutModel",
          "state": {
            "_view_name": "LayoutView",
            "grid_template_rows": null,
            "right": null,
            "justify_content": null,
            "_view_module": "@jupyter-widgets/base",
            "overflow": null,
            "_model_module_version": "1.2.0",
            "_view_count": null,
            "flex_flow": null,
            "width": null,
            "min_width": null,
            "border": null,
            "align_items": null,
            "bottom": null,
            "_model_module": "@jupyter-widgets/base",
            "top": null,
            "grid_column": null,
            "overflow_y": null,
            "overflow_x": null,
            "grid_auto_flow": null,
            "grid_area": null,
            "grid_template_columns": null,
            "flex": null,
            "_model_name": "LayoutModel",
            "justify_items": null,
            "grid_row": null,
            "max_height": null,
            "align_content": null,
            "visibility": null,
            "align_self": null,
            "height": null,
            "min_height": null,
            "padding": null,
            "grid_auto_rows": null,
            "grid_gap": null,
            "max_width": null,
            "order": null,
            "_view_module_version": "1.2.0",
            "grid_template_areas": null,
            "object_position": null,
            "object_fit": null,
            "grid_auto_columns": null,
            "margin": null,
            "display": null,
            "left": null
          }
        }
      }
    }
  },
  "cells": [
    {
      "cell_type": "markdown",
      "metadata": {
        "id": "view-in-github",
        "colab_type": "text"
      },
      "source": [
        "<a href=\"https://colab.research.google.com/github/DL-ECE/tp2-deeplearningonimages-GuilhemCouvin17/blob/master/convolution.ipynb\" target=\"_parent\"><img src=\"https://colab.research.google.com/assets/colab-badge.svg\" alt=\"Open In Colab\"/></a>"
      ]
    },
    {
      "cell_type": "markdown",
      "metadata": {
        "id": "NeT-9bRdonUj"
      },
      "source": [
        "# TP-2 Deep Learning on Images"
      ]
    },
    {
      "cell_type": "markdown",
      "metadata": {
        "id": "Ll9cmbS4QIjW"
      },
      "source": [
        "## Clothes images classification using Fashion-MNIST dataset\n",
        "\n",
        "In this notebook you will train your second and even third neural network. \n",
        "\n",
        "Feel free to look back at the Lecture-2 slides to complete the cells below.\n",
        "\n",
        "\n",
        "\n",
        "All the dependencies are installed. Below we import them and will be using them in all our notebooks.\n",
        "Please feel free to look arround and look at their API.\n",
        "The student should be limited to these imports to complete this work.\n"
      ]
    },
    {
      "cell_type": "code",
      "metadata": {
        "id": "l8HwsnlpWABC"
      },
      "source": [
        "# Import the different module we will need in this notebook\n",
        "import os\n",
        "\n",
        "# To read and compute on Images: imageio [imageio doc](https://imageio.readthedocs.io/en/stable/)\n",
        "# To create some plot and figures: matplolib [matplotlib doc](https://matplotlib.org/)\n",
        "# To do computation on matrix and vectors: numpy [numpy doc](https://numpy.org/)\n",
        "import imageio\n",
        "import matplotlib.pyplot as plt\n",
        "import numpy as np\n",
        "\n",
        "# To do computation on matrix and vectors and automatic differenciation: pytorch [torch doc](https://pytorch.org/docs/stable/index.html)\n",
        "import torch\n",
        "import torch.nn as nn\n",
        "import torch.optim as optim\n",
        "from torch.nn import functional as F\n",
        "from torch.utils.data import DataLoader\n",
        "\n",
        "# To do some computation on images with pytorch direclty on the GPU [torchvision doc](https://pytorch.org/vision)\n",
        "from torchvision import transforms\n",
        "from torchvision.datasets import MNIST, FashionMNIST\n",
        "import random\n",
        "import tqdm.notebook as tq\n",
        "\n",
        "# To get the same data as TP1 \n",
        "from sklearn.datasets import fetch_openml\n",
        "from sklearn.model_selection import train_test_split\n",
        "# enable tpu computation\n",
        "# !curl https://raw.githubusercontent.com/pytorch/xla/master/contrib/scripts/env-setup.py -o pytorch-xla-env-setup.py\n",
        "# !python pytorch-xla-env-setup.py --version nightly --apt-packages libomp5 libopenblas-dev"
      ],
      "execution_count": 4,
      "outputs": []
    },
    {
      "cell_type": "code",
      "metadata": {
        "id": "O6hnJJcPSJcu"
      },
      "source": [
        "# In order to have some reproducable results and easier debugging \n",
        "# we fix the seed of random.\n",
        "random.seed(1342)\n",
        "np.random.seed(1342)\n",
        "torch.manual_seed(1342)\n",
        "torch.cuda.manual_seed_all(1342)\n",
        "\n",
        "import builtins as __builtin__\n",
        "def print(*args, **kwargs):\n",
        "    \"\"\"My custom print() function.\"\"\"\n",
        "    return __builtin__.print(*args, **kwargs, end='\\n\\n')"
      ],
      "execution_count": 5,
      "outputs": []
    },
    {
      "cell_type": "markdown",
      "metadata": {
        "id": "R2JALA0rnGE1"
      },
      "source": [
        "## Refresh on numpy and images"
      ]
    },
    {
      "cell_type": "code",
      "metadata": {
        "id": "a_6UGR8EUgqi",
        "outputId": "510ec820-5054-4793-951f-91d93657a359",
        "colab": {
          "base_uri": "https://localhost:8080/"
        }
      },
      "source": [
        "# Let's do again basics of numpy \n",
        "mat_numpy = np.arange(15).reshape(3, 5)\n",
        "print(mat_numpy) # Create a vector from 0 to 14 and reshape it into a Matrix 3X5\n",
        "\n",
        "print(mat_numpy.shape) # Return the size of the matrix (3, 5)\n",
        "\n",
        "print(mat_numpy[0]) # Return the first row of the matrix \n",
        "\n",
        "print(mat_numpy[0,3]) # Return first row and 4th column  element \n",
        "\n",
        "# Also interesting with higher dimension \n",
        "# Below can be though of 2 3X4 matrix \n",
        "tensor = np.zeros((2,3,4))   # Create an tensor of shape [2,2,2] of all zeros\n",
        "print(tensor)                # Prints [[[0. 0. 0. 0.]\n",
        "                             #          [0. 0. 0. 0.]\n",
        "                             #          [0. 0. 0. 0.]]\n",
        "                             #        [[0. 0. 0. 0.]\n",
        "                             #         [0. 0. 0. 0.]\n",
        "                             #         [0. 0. 0. 0.]]]"
      ],
      "execution_count": 6,
      "outputs": [
        {
          "output_type": "stream",
          "text": [
            "[[ 0  1  2  3  4]\n",
            " [ 5  6  7  8  9]\n",
            " [10 11 12 13 14]]\n",
            "\n",
            "(3, 5)\n",
            "\n",
            "[0 1 2 3 4]\n",
            "\n",
            "3\n",
            "\n",
            "[[[0. 0. 0. 0.]\n",
            "  [0. 0. 0. 0.]\n",
            "  [0. 0. 0. 0.]]\n",
            "\n",
            " [[0. 0. 0. 0.]\n",
            "  [0. 0. 0. 0.]\n",
            "  [0. 0. 0. 0.]]]\n",
            "\n"
          ],
          "name": "stdout"
        }
      ]
    },
    {
      "cell_type": "markdown",
      "metadata": {
        "id": "RHj2OBNMw5VA"
      },
      "source": [
        "Now it's your turn create a function that return a tensor of shape \n",
        "n_rowsxn_columsxn_channels that contains a default value every where"
      ]
    },
    {
      "cell_type": "code",
      "metadata": {
        "id": "WR0fNMzPwtem"
      },
      "source": [
        "def build_image_like_tensor(n_rows:int, n_colums: int, n_channels:int, default_value: int)-> np.ndarray:\n",
        "  \"\"\"Create a tensor of 3 dimension. \n",
        "     It should have a shape similar to (n_rows, n_colums, n_channels)\n",
        "     It should be containing the default value set by default_value\n",
        "  \"\"\"\n",
        "  # YOUR CODE HERE\n",
        "  tensor = np.full((n_rows,n_colums,n_channels),default_value)\n",
        "  return tensor\n"
      ],
      "execution_count": 7,
      "outputs": []
    },
    {
      "cell_type": "code",
      "metadata": {
        "id": "LYPMAOSdxi8S"
      },
      "source": [
        "# Create 3 different tensors with the above function containing different value between [0,255]\n",
        "# Uncomment the 3 line below and complete with your answer \n",
        "\n",
        "white_like = build_image_like_tensor(240,320,3,255)\n",
        "gray_like = build_image_like_tensor(240,320,3,125)\n",
        "black_like = build_image_like_tensor(240,320,3,1)\n"
      ],
      "execution_count": 8,
      "outputs": []
    },
    {
      "cell_type": "code",
      "metadata": {
        "id": "wI1sR5lWyTvG"
      },
      "source": [
        "# Each of the tensor that you have created can be seen as an image. Use here is the way to display it using matplotlib imshow:\n",
        "def plot_one_tensor(image_tensor: np.array):\n",
        "    \"\"\"Function to plot the image tensor\"\"\"\n",
        "    plt.imshow(image_tensor, cmap='gray')"
      ],
      "execution_count": 9,
      "outputs": []
    },
    {
      "cell_type": "code",
      "metadata": {
        "id": "RMKHtF-FnGFP",
        "outputId": "ce07a511-40eb-4b11-9fae-303a0993b67e",
        "colab": {
          "base_uri": "https://localhost:8080/",
          "height": 269
        }
      },
      "source": [
        "plot_one_tensor(white_like)"
      ],
      "execution_count": 10,
      "outputs": [
        {
          "output_type": "display_data",
          "data": {
            "image/png": "[encoded data removed]",
            "text/plain": [
              "<Figure size 432x288 with 1 Axes>"
            ]
          },
          "metadata": {
            "tags": [],
            "needs_background": "light"
          }
        }
      ]
    },
    {
      "cell_type": "code",
      "metadata": {
        "id": "v8nnjpziXJyo",
        "outputId": "ca8a7b1f-cc07-4898-a14a-29ca19ebcdb2",
        "colab": {
          "base_uri": "https://localhost:8080/",
          "height": 269
        }
      },
      "source": [
        "plot_one_tensor(gray_like)"
      ],
      "execution_count": 11,
      "outputs": [
        {
          "output_type": "display_data",
          "data": {
            "image/png": "[encoded data removed]",
            "text/plain": [
              "<Figure size 432x288 with 1 Axes>"
            ]
          },
          "metadata": {
            "tags": [],
            "needs_background": "light"
          }
        }
      ]
    },
    {
      "cell_type": "code",
      "metadata": {
        "id": "nJ6-IuvlnGFW",
        "outputId": "10f4d4d7-a13b-4099-c8fc-b94a9a71e8a9",
        "colab": {
          "base_uri": "https://localhost:8080/",
          "height": 269
        }
      },
      "source": [
        "plot_one_tensor(black_like)"
      ],
      "execution_count": 12,
      "outputs": [
        {
          "output_type": "display_data",
          "data": {
            "image/png": "[encoded data removed]",
            "text/plain": [
              "<Figure size 432x288 with 1 Axes>"
            ]
          },
          "metadata": {
            "tags": [],
            "needs_background": "light"
          }
        }
      ]
    },
    {
      "cell_type": "markdown",
      "metadata": {
        "id": "ncTl3AjcnGFb"
      },
      "source": [
        "We saw that an digital image is the combination of a 3 channel tensor RGB. \n",
        "Each channel represent respectively the R red componant, G greed componant, B blue componant. "
      ]
    },
    {
      "cell_type": "code",
      "metadata": {
        "id": "hUtptCwanGFc"
      },
      "source": [
        "# Create again 3 image tensors with your function\n",
        "# Then change them to be representing a red, a green, a blue image\n",
        "# Uncomment the 3 line below and complete with your answer \n",
        "\n",
        "\n",
        "red_like = build_image_like_tensor(240,320,3,255)\n",
        "red_like[:,:,1]=0\n",
        "red_like[:,:,2]=0\n",
        "\n",
        "green_like = build_image_like_tensor(240,320,3,255)\n",
        "green_like[:,:,0]=0\n",
        "green_like[:,:,2]=0\n",
        "\n",
        "blue_like = build_image_like_tensor(240,320,3,255)\n",
        "blue_like[:,:,1]=0\n",
        "blue_like[:,:,0]=0\n"
      ],
      "execution_count": 13,
      "outputs": []
    },
    {
      "cell_type": "code",
      "metadata": {
        "id": "-jXLgMmfnGFh",
        "outputId": "e595219f-269b-4baa-d854-3ae65685b2a4",
        "colab": {
          "base_uri": "https://localhost:8080/",
          "height": 269
        }
      },
      "source": [
        "plot_one_tensor(red_like)"
      ],
      "execution_count": 14,
      "outputs": [
        {
          "output_type": "display_data",
          "data": {
            "image/png": "[encoded data removed]",
            "text/plain": [
              "<Figure size 432x288 with 1 Axes>"
            ]
          },
          "metadata": {
            "tags": [],
            "needs_background": "light"
          }
        }
      ]
    },
    {
      "cell_type": "code",
      "metadata": {
        "id": "DL0iMGb6nGFl",
        "outputId": "f6fbf6a3-be67-41a2-9528-23f798052138",
        "colab": {
          "base_uri": "https://localhost:8080/",
          "height": 269
        }
      },
      "source": [
        "plot_one_tensor(green_like)"
      ],
      "execution_count": 15,
      "outputs": [
        {
          "output_type": "display_data",
          "data": {
            "image/png": "[encoded data removed]",
            "text/plain": [
              "<Figure size 432x288 with 1 Axes>"
            ]
          },
          "metadata": {
            "tags": [],
            "needs_background": "light"
          }
        }
      ]
    },
    {
      "cell_type": "code",
      "metadata": {
        "id": "iOtqQNcCnGFp",
        "outputId": "16b9dc40-4db6-4f81-e000-e9b0113044f2",
        "colab": {
          "base_uri": "https://localhost:8080/",
          "height": 269
        }
      },
      "source": [
        "plot_one_tensor(blue_like)"
      ],
      "execution_count": 16,
      "outputs": [
        {
          "output_type": "display_data",
          "data": {
            "image/png": "[encoded data removed]",
            "text/plain": [
              "<Figure size 432x288 with 1 Axes>"
            ]
          },
          "metadata": {
            "tags": [],
            "needs_background": "light"
          }
        }
      ]
    },
    {
      "cell_type": "markdown",
      "metadata": {
        "id": "q7Ucg7xRQDwn"
      },
      "source": [
        "## What Pytorch can do\n",
        "\n",
        "*   Similar functions to Numpy on GPU\n",
        "*   Calculate automatically gradient on the neural network\n",
        "*   Some neural networks layers are already coded : dense, convolution, pooling, etc\n",
        "*   Calculate automatically the weights update\n",
        "*   Provide optimizer to compute gradient descent \n",
        "\n"
      ]
    },
    {
      "cell_type": "code",
      "metadata": {
        "id": "UjeKBFJHXYl8",
        "outputId": "fdf04d69-16be-4f06-de31-f3983e0aa9d3",
        "colab": {
          "base_uri": "https://localhost:8080/"
        }
      },
      "source": [
        "mat_torch = torch.arange(15).reshape(3,5)\n",
        "\n",
        "print(mat_torch) # Create a vector from 0 to 14 and reshape it into a Matrix 3X5\n",
        "print(mat_torch.shape) # Return the size of the matrix (3, 5)\n",
        "print(mat_torch[0]) # Return the first row of the matrix \n",
        "print(mat_torch[0,3]) # Return first row and 4th column element \n",
        "# This was easy but everything was on the CPU so it's the same as Numpy \n",
        "# To do computation on the GPU (graphic card calculation can be 50x faster)"
      ],
      "execution_count": 17,
      "outputs": [
        {
          "output_type": "stream",
          "text": [
            "tensor([[ 0,  1,  2,  3,  4],\n",
            "        [ 5,  6,  7,  8,  9],\n",
            "        [10, 11, 12, 13, 14]])\n",
            "\n",
            "torch.Size([3, 5])\n",
            "\n",
            "tensor([0, 1, 2, 3, 4])\n",
            "\n",
            "tensor(3)\n",
            "\n"
          ],
          "name": "stdout"
        }
      ]
    },
    {
      "cell_type": "code",
      "metadata": {
        "id": "S4fBZlMHYMqI",
        "outputId": "f8614176-4d63-4efa-ac6b-c3b7f9519868",
        "colab": {
          "base_uri": "https://localhost:8080/"
        }
      },
      "source": [
        "# What is the GPU on this machine ? \n",
        "# !nvidia-smi\n",
        "device = torch.device(\"cuda\" if torch.cuda.is_available() else \"cpu\")\n",
        "device"
      ],
      "execution_count": 18,
      "outputs": [
        {
          "output_type": "execute_result",
          "data": {
            "text/plain": [
              "device(type='cuda')"
            ]
          },
          "metadata": {
            "tags": []
          },
          "execution_count": 18
        }
      ]
    },
    {
      "cell_type": "code",
      "metadata": {
        "id": "ujP5e7pGYLCh",
        "outputId": "0bcac46c-1e71-4829-b828-2c58096b97dc",
        "colab": {
          "base_uri": "https://localhost:8080/"
        }
      },
      "source": [
        "mat_torch = torch.arange(15, device=device).reshape(3,5)\n",
        "print(mat_torch) # Create a vector from 0 to 14 and reshape it into a Matrix 3X5\n",
        "print(mat_torch.shape) # Return the size of the matrix (3, 5)\n",
        "print(mat_torch[0]) # Return the first row of the matrix \n",
        "print(mat_torch[0,3]) # Return first row and 4th column element "
      ],
      "execution_count": 19,
      "outputs": [
        {
          "output_type": "stream",
          "text": [
            "tensor([[ 0,  1,  2,  3,  4],\n",
            "        [ 5,  6,  7,  8,  9],\n",
            "        [10, 11, 12, 13, 14]], device='cuda:0')\n",
            "\n",
            "torch.Size([3, 5])\n",
            "\n",
            "tensor([0, 1, 2, 3, 4], device='cuda:0')\n",
            "\n",
            "tensor(3, device='cuda:0')\n",
            "\n"
          ],
          "name": "stdout"
        }
      ]
    },
    {
      "cell_type": "markdown",
      "metadata": {
        "id": "-YQO8LsGZ8iq"
      },
      "source": [
        "Let's say we want a faster sigmoid and softmax. \n",
        "We can use the same function from TP-1"
      ]
    },
    {
      "cell_type": "code",
      "metadata": {
        "id": "g0bUELpAYn0O"
      },
      "source": [
        "def normalize_tensor(input_tensor: torch.Tensor) -> torch.Tensor:\n",
        "    \"\"\"Apply a normalization to the tensor\"\"\"\n",
        "    # YOUR CODE HERE\n",
        "    return input_tensor/255\n",
        "   \n",
        "\n",
        "def sigmoid(input_tensor: torch.Tensor) -> torch.Tensor:\n",
        "    \"\"\"Apply a sigmoid to the input Tensor\"\"\"\n",
        "    # YOUR CODE HERE\n",
        "    f = 1/(1+torch.exp(-input_tensor))\n",
        "    # CODE FROM TP1\n",
        "    # f = 1/(1+np.exp(-input_tensor))\n",
        "    return f\n",
        "\n",
        "def softmax(input_tensor: torch.Tensor)-> torch.Tensor:\n",
        "    \"\"\"Apply a softmax to the input tensor\"\"\"\n",
        "    # YOUR CODE HERE (TORCH)\n",
        "    exp = torch.exp(input_tensor)\n",
        "    sum_exp = torch.sum(torch.exp(input_tensor),axis=1).reshape(-1,1)\n",
        "    return exp/sum_exp\n",
        "    # CODE FROM TP1 (NUMPY)\n",
        "    # X_exp=np.exp(input_tensor)\n",
        "    # X_sum=np.sum(X_exp,axis=1).reshape(-1,1)\n",
        "    # m_softmax=X_exp/X_sum\n",
        "    # return m_softmax\n",
        "\n",
        "def target_to_one_hot(target: torch.Tensor,num_classes=10) -> torch.Tensor:\n",
        "    \"\"\"Create the one hot representation of the target\"\"\" \n",
        "    # YOUR CODE HERE \n",
        "    one_hot_matrix = torch.zeros((target.shape[0],num_classes))\n",
        "    for i in range(0,target.shape[0]):\n",
        "        one_hot_matrix[i,int(target[i])] = 1\n",
        "    return one_hot_matrix\n"
      ],
      "execution_count": 20,
      "outputs": []
    },
    {
      "cell_type": "code",
      "metadata": {
        "id": "E3Je20wNZuj0"
      },
      "source": [
        "# However as mention above pytorch already has some built-ins function \n",
        "\n",
        "# sigmoid function [sigmoid doc](https://pytorch.org/docs/stable/generated/torch.nn.Sigmoid.html?highlight=sigmoid#torch.nn.Sigmoid)\n",
        "# softmax function [softmax doc](https://pytorch.org/docs/stable/generated/torch.nn.Softmax.html?highlight=softmax#torch.nn.Softmax) \n"
      ],
      "execution_count": 21,
      "outputs": []
    },
    {
      "cell_type": "code",
      "metadata": {
        "id": "zXpmI-kTbq4T",
        "outputId": "b454ea52-8ada-47cd-fa59-a6a29454c0b8",
        "colab": {
          "base_uri": "https://localhost:8080/"
        }
      },
      "source": [
        "mat_torch = torch.arange(15, dtype=torch.float64, device=device).reshape(3,5)\n",
        "# Uncomment the line bellow to check if your implementation is correct\n",
        "\n",
        "assert torch.allclose(sigmoid(mat_torch), torch.sigmoid(mat_torch))\n",
        "print(sigmoid(mat_torch))\n",
        "print(torch.sigmoid(mat_torch))\n",
        "\n",
        "assert torch.allclose(softmax(mat_torch),torch.softmax(mat_torch, dim=1))\n",
        "print(softmax(mat_torch))\n",
        "print(torch.softmax(mat_torch, dim=1))"
      ],
      "execution_count": 22,
      "outputs": [
        {
          "output_type": "stream",
          "text": [
            "tensor([[0.5000, 0.7311, 0.8808, 0.9526, 0.9820],\n",
            "        [0.9933, 0.9975, 0.9991, 0.9997, 0.9999],\n",
            "        [1.0000, 1.0000, 1.0000, 1.0000, 1.0000]], device='cuda:0',\n",
            "       dtype=torch.float64)\n",
            "\n",
            "tensor([[0.5000, 0.7311, 0.8808, 0.9526, 0.9820],\n",
            "        [0.9933, 0.9975, 0.9991, 0.9997, 0.9999],\n",
            "        [1.0000, 1.0000, 1.0000, 1.0000, 1.0000]], device='cuda:0',\n",
            "       dtype=torch.float64)\n",
            "\n",
            "tensor([[0.0117, 0.0317, 0.0861, 0.2341, 0.6364],\n",
            "        [0.0117, 0.0317, 0.0861, 0.2341, 0.6364],\n",
            "        [0.0117, 0.0317, 0.0861, 0.2341, 0.6364]], device='cuda:0',\n",
            "       dtype=torch.float64)\n",
            "\n",
            "tensor([[0.0117, 0.0317, 0.0861, 0.2341, 0.6364],\n",
            "        [0.0117, 0.0317, 0.0861, 0.2341, 0.6364],\n",
            "        [0.0117, 0.0317, 0.0861, 0.2341, 0.6364]], device='cuda:0',\n",
            "       dtype=torch.float64)\n",
            "\n"
          ],
          "name": "stdout"
        }
      ]
    },
    {
      "cell_type": "markdown",
      "metadata": {
        "id": "Mp405FXquGqz"
      },
      "source": [
        "## Transforming our Neural network from TP1"
      ]
    },
    {
      "cell_type": "code",
      "metadata": {
        "id": "mCnZAR7x2yUl"
      },
      "source": [
        "if __name__ == \"__main__\":\n",
        "    # Downloading again the same MNIST dataset \n",
        "\n",
        "    mnist_data, mnist_target = fetch_openml('mnist_784', version=1, return_X_y=True)\n",
        "    X_train, X_test, y_train, y_test = train_test_split(mnist_data, mnist_target, test_size=0.33, random_state=1342)\n",
        "    # Change the input data to be normalize and target data to be correctly encoded \n",
        "\n",
        "    X_train = normalize_tensor(X_train)\n",
        "    X_train = torch.from_numpy(X_train.astype(np.float32))\n",
        "\n",
        "    X_test = normalize_tensor(X_test)\n",
        "    X_test = torch.from_numpy(X_test.astype(np.float32))\n",
        "\n",
        "    y_train = target_to_one_hot(y_train)\n",
        "    # y_train = torch.from_numpy(y_train.astype(np.int32))\n",
        "\n",
        "    y_test = target_to_one_hot(y_test)\n",
        "    # y_test = torch.from_numpy(y_test.astype(np.int32))"
      ],
      "execution_count": 23,
      "outputs": []
    },
    {
      "cell_type": "markdown",
      "metadata": {
        "id": "iYxuYKhUuT6U"
      },
      "source": [
        "Your remember the famous `class FFNN` from **TP1** ?? \n",
        "\n",
        "Here we will create the same version but with pytorch and we will see the power of this framework. \n",
        "\n",
        "Auto calculation of the backward pass and auto update of the weights 🎉 "
      ]
    },
    {
      "cell_type": "markdown",
      "metadata": {
        "id": "x677wA4zvtMR"
      },
      "source": [
        "In pytorch a dense layer similar to our `Class Layer` is a called **Linear Layer**\n",
        "\n",
        "[linear layer documentation] -> https://pytorch.org/docs/stable/generated/torch.nn.Linear.html#torch.nn.Linear"
      ]
    },
    {
      "cell_type": "code",
      "metadata": {
        "id": "QlBuCmXNxIRY"
      },
      "source": [
        "class FFNN(nn.Module):\n",
        "    def __init__(self, config, device, minibatch_size=100, learning_rate=0.01, momentum=0):\n",
        "        super().__init__()\n",
        "        self.layers = []\n",
        "        self.nlayers = len(config)\n",
        "        self.minibatch_size = minibatch_size\n",
        "        self.learning_rate = learning_rate\n",
        "        self.momentum = momentum\n",
        "        self.device = device \n",
        "\n",
        "        # We use the built-in activation functions\n",
        "        # TODO: Maybe try with another activation function ! \n",
        "        # self.activation = torch.nn.Sigmoid()\n",
        "        self.activation = torch.nn.ReLU()\n",
        "\n",
        "\n",
        "        self.last_activation = torch.nn.Softmax(dim=1)\n",
        "\n",
        "        # First difference we don't need a special Input layer 😃\n",
        "        # Second one we can declare them more easely\n",
        "        for i in range(1,len(config)):\n",
        "          layer = nn.Linear(config[i-1], config[i])\n",
        "          self.layers.append(layer)\n",
        "          self.layers.append(self.activation)\n",
        "\n",
        "        self.layers[-1]= self.last_activation\n",
        "        self.model = nn.Sequential(*self.layers)\n",
        "\n",
        "        # We use the built-in function to compute the loss\n",
        "\n",
        "        # TODO: Maybe try with another loss function ! \n",
        "        # self.loss_function = torch.nn.MSELoss()\n",
        "        self.loss_function = torch.nn.CrossEntropyLoss()\n",
        "\n",
        "        #TODO: Maybe try with another optimizer ! \n",
        "        # We use the built-in function to update the model weights\n",
        "        self.optimizer = optim.SGD(self.model.parameters(), lr=self.learning_rate, momentum=self.momentum)\n",
        "\n",
        "    # Here we see the power of Pytorch\n",
        "    # The forward is just giving the input to our model\n",
        "    def forward(self, input_tensor: torch.Tensor) -> torch.Tensor:\n",
        "      y_pred = self.model(input_tensor)\n",
        "      return y_pred\n",
        "\n",
        "    def compute_loss(self, y_pred: torch.Tensor, y_true) -> torch.Tensor:\n",
        "        y_true = torch.argmax(y_true, dim=1)\n",
        "        loss = self.loss_function(y_pred.float(), y_true)\n",
        "        # looking at what the loss looks like\n",
        "        # print(loss)\n",
        "        return loss\n",
        "\n",
        "    # Even more powerful no need to code all the derivative of the different function\n",
        "    def backward_pass(self, loss: torch.tensor) -> None:\n",
        "        loss.backward()\n",
        "        return\n",
        "\n",
        "    # The previoulsy hard function to update the weight become also easy\n",
        "    def update_all_weights(self):\n",
        "      # Using pytorch\n",
        "      self.optimizer.step()\n",
        "\n",
        "\n",
        "    def get_error(self, y_pred, y_true) -> float:\n",
        "      y_pred = torch.argmax(y_pred, dim=1)\n",
        "      y_true = torch.argmax(y_true, dim=1)\n",
        "      return (y_pred == y_true).float().mean()\n",
        "\n",
        "    def get_test_error(self, X_test, y_test) -> float:\n",
        "      nbatch = X_test.shape[0]\n",
        "      error_sum = 0.0\n",
        "      for i in range(0, nbatch):\n",
        "          X_batch = X_test[i,:,:].reshape(self.minibatch_size, -1)\n",
        "          y_batch = y_test[i,:,:].reshape(self.minibatch_size, -1)\n",
        "          y_pred = self.model(X_batch)\n",
        "          error_sum += self.get_error(y_pred, y_batch)\n",
        "      return error_sum / nbatch\n",
        "\n",
        "    def train(self, n_epochs: int, X_train: torch.Tensor, y_train: torch.Tensor, X_test: torch.Tensor, y_test: torch.Tensor):\n",
        "      X_train = X_train.reshape(-1, self.minibatch_size, 784).to(self.device)\n",
        "      y_train = y_train.reshape(-1, self.minibatch_size, 10).to(self.device)\n",
        "\n",
        "      X_test = X_test.reshape(-1, self.minibatch_size, 784).to(self.device)\n",
        "      y_test = y_test.reshape(-1, self.minibatch_size, 10).to(self.device)\n",
        "\n",
        "      \n",
        "      self.model = self.model.to(device)\n",
        "      nbatch = X_train.shape[0]\n",
        "      error_test = 0.0\n",
        "      for epoch in range(n_epochs): \n",
        "        error_sum_train = 0.0\n",
        "        for i in range(0, nbatch):\n",
        "          X_batch = X_train[i,:, :]\n",
        "          y_batch = y_train[i,:, :]\n",
        "          # In order to have the correct derivative we remove the one from before \n",
        "          self.optimizer.zero_grad()\n",
        "          # Then we do a pass forward \n",
        "          y_pred = self.model(X_batch)\n",
        "          # We compute the loss \n",
        "          loss = self.compute_loss(y_pred, y_batch)\n",
        "          # And calculate the backward pass\n",
        "          self.backward_pass(loss=loss)\n",
        "          # To finally update the weights using stochastic gradient descent \n",
        "          self.update_all_weights()\n",
        "          error_sum_train += self.get_error(y_pred, y_batch)\n",
        "        error_test = self.get_test_error(X_test, y_test)\n",
        "        \n",
        "        print(f\"Training Loss: {loss:.3f}, Training accuracy: {error_sum_train / nbatch:.3f}, Test accuracy: {error_test:.3f}\")\n",
        "      return loss, error_test"
      ],
      "execution_count": 24,
      "outputs": []
    },
    {
      "cell_type": "code",
      "metadata": {
        "id": "LAzW9AJMzyOq",
        "tags": [],
        "outputId": "2188dfc6-7e81-4cfa-9813-b790e3d175a6",
        "colab": {
          "base_uri": "https://localhost:8080/"
        }
      },
      "source": [
        "if __name__ == \"__main__\":\n",
        "    minibatch_size = 28\n",
        "    nepoch = 50\n",
        "    learning_rate = 0.1\n",
        "    ffnn = FFNN(config=[784, 256, 128, 10], device=device, minibatch_size=minibatch_size, learning_rate=learning_rate)\n",
        "    print(ffnn)\n",
        "    loss, err = ffnn.train(nepoch, X_train, y_train, X_test, y_test)"
      ],
      "execution_count": 25,
      "outputs": [
        {
          "output_type": "stream",
          "text": [
            "FFNN(\n",
            "  (activation): ReLU()\n",
            "  (last_activation): Softmax(dim=1)\n",
            "  (model): Sequential(\n",
            "    (0): Linear(in_features=784, out_features=256, bias=True)\n",
            "    (1): ReLU()\n",
            "    (2): Linear(in_features=256, out_features=128, bias=True)\n",
            "    (3): ReLU()\n",
            "    (4): Linear(in_features=128, out_features=10, bias=True)\n",
            "    (5): Softmax(dim=1)\n",
            "  )\n",
            "  (loss_function): CrossEntropyLoss()\n",
            ")\n",
            "\n",
            "Training Loss: 1.530, Training accuracy: 0.652, Test accuracy: 0.835\n",
            "\n",
            "Training Loss: 1.504, Training accuracy: 0.842, Test accuracy: 0.849\n",
            "\n",
            "Training Loss: 1.501, Training accuracy: 0.851, Test accuracy: 0.857\n",
            "\n",
            "Training Loss: 1.466, Training accuracy: 0.864, Test accuracy: 0.913\n",
            "\n",
            "Training Loss: 1.466, Training accuracy: 0.927, Test accuracy: 0.932\n",
            "\n",
            "Training Loss: 1.466, Training accuracy: 0.940, Test accuracy: 0.943\n",
            "\n",
            "Training Loss: 1.468, Training accuracy: 0.949, Test accuracy: 0.950\n",
            "\n",
            "Training Loss: 1.466, Training accuracy: 0.955, Test accuracy: 0.952\n",
            "\n",
            "Training Loss: 1.465, Training accuracy: 0.961, Test accuracy: 0.957\n",
            "\n",
            "Training Loss: 1.468, Training accuracy: 0.965, Test accuracy: 0.959\n",
            "\n",
            "Training Loss: 1.463, Training accuracy: 0.969, Test accuracy: 0.961\n",
            "\n",
            "Training Loss: 1.463, Training accuracy: 0.971, Test accuracy: 0.963\n",
            "\n",
            "Training Loss: 1.462, Training accuracy: 0.974, Test accuracy: 0.965\n",
            "\n",
            "Training Loss: 1.462, Training accuracy: 0.976, Test accuracy: 0.966\n",
            "\n",
            "Training Loss: 1.463, Training accuracy: 0.978, Test accuracy: 0.967\n",
            "\n",
            "Training Loss: 1.464, Training accuracy: 0.980, Test accuracy: 0.968\n",
            "\n",
            "Training Loss: 1.464, Training accuracy: 0.981, Test accuracy: 0.969\n",
            "\n",
            "Training Loss: 1.463, Training accuracy: 0.982, Test accuracy: 0.969\n",
            "\n",
            "Training Loss: 1.464, Training accuracy: 0.983, Test accuracy: 0.970\n",
            "\n",
            "Training Loss: 1.464, Training accuracy: 0.984, Test accuracy: 0.971\n",
            "\n",
            "Training Loss: 1.462, Training accuracy: 0.985, Test accuracy: 0.971\n",
            "\n",
            "Training Loss: 1.462, Training accuracy: 0.985, Test accuracy: 0.971\n",
            "\n",
            "Training Loss: 1.462, Training accuracy: 0.986, Test accuracy: 0.972\n",
            "\n",
            "Training Loss: 1.462, Training accuracy: 0.987, Test accuracy: 0.971\n",
            "\n",
            "Training Loss: 1.461, Training accuracy: 0.987, Test accuracy: 0.971\n",
            "\n",
            "Training Loss: 1.462, Training accuracy: 0.987, Test accuracy: 0.973\n",
            "\n",
            "Training Loss: 1.461, Training accuracy: 0.988, Test accuracy: 0.973\n",
            "\n",
            "Training Loss: 1.462, Training accuracy: 0.988, Test accuracy: 0.973\n",
            "\n",
            "Training Loss: 1.462, Training accuracy: 0.989, Test accuracy: 0.973\n",
            "\n",
            "Training Loss: 1.463, Training accuracy: 0.989, Test accuracy: 0.974\n",
            "\n",
            "Training Loss: 1.462, Training accuracy: 0.989, Test accuracy: 0.974\n",
            "\n",
            "Training Loss: 1.464, Training accuracy: 0.989, Test accuracy: 0.975\n",
            "\n",
            "Training Loss: 1.462, Training accuracy: 0.990, Test accuracy: 0.975\n",
            "\n",
            "Training Loss: 1.462, Training accuracy: 0.990, Test accuracy: 0.975\n",
            "\n",
            "Training Loss: 1.461, Training accuracy: 0.990, Test accuracy: 0.975\n",
            "\n",
            "Training Loss: 1.461, Training accuracy: 0.990, Test accuracy: 0.975\n",
            "\n",
            "Training Loss: 1.461, Training accuracy: 0.990, Test accuracy: 0.975\n",
            "\n",
            "Training Loss: 1.461, Training accuracy: 0.990, Test accuracy: 0.975\n",
            "\n",
            "Training Loss: 1.461, Training accuracy: 0.990, Test accuracy: 0.974\n",
            "\n",
            "Training Loss: 1.461, Training accuracy: 0.990, Test accuracy: 0.976\n",
            "\n",
            "Training Loss: 1.461, Training accuracy: 0.991, Test accuracy: 0.976\n",
            "\n",
            "Training Loss: 1.461, Training accuracy: 0.991, Test accuracy: 0.975\n",
            "\n",
            "Training Loss: 1.461, Training accuracy: 0.991, Test accuracy: 0.975\n",
            "\n",
            "Training Loss: 1.461, Training accuracy: 0.991, Test accuracy: 0.975\n",
            "\n",
            "Training Loss: 1.461, Training accuracy: 0.991, Test accuracy: 0.975\n",
            "\n",
            "Training Loss: 1.461, Training accuracy: 0.991, Test accuracy: 0.976\n",
            "\n",
            "Training Loss: 1.461, Training accuracy: 0.991, Test accuracy: 0.976\n",
            "\n",
            "Training Loss: 1.461, Training accuracy: 0.991, Test accuracy: 0.976\n",
            "\n",
            "Training Loss: 1.461, Training accuracy: 0.992, Test accuracy: 0.976\n",
            "\n",
            "Training Loss: 1.461, Training accuracy: 0.992, Test accuracy: 0.976\n",
            "\n"
          ],
          "name": "stdout"
        }
      ]
    },
    {
      "cell_type": "markdown",
      "metadata": {
        "id": "dTQ_8e8gK3RA"
      },
      "source": [
        "In pytorch a very convinient way to load data in batch is to use the data loader. \n",
        "\n",
        "Let's update the class to use it, we are also going to use dataset available in pytorch vision."
      ]
    },
    {
      "cell_type": "code",
      "metadata": {
        "id": "ei5R8mqlxOZi"
      },
      "source": [
        "class FFNNModel(nn.Module):\n",
        "    def __init__(self, classes=10):\n",
        "        super().__init__()\n",
        "        # not the best model...\n",
        "        self.l1 = torch.nn.Linear(784, 256)\n",
        "        self.l2 = torch.nn.Linear(256, 128)\n",
        "        self.l3 = torch.nn.Linear(128, classes)\n",
        "        self.activation = torch.nn.ReLU()\n",
        "        self.last_activation = torch.nn.Softmax(dim=1)\n",
        "\n",
        "    def forward(self, input):\n",
        "        input = input.reshape(input.size(0), -1)\n",
        "        x = self.l1(input)\n",
        "        x = self.activation(x)\n",
        "        x = self.l2(x)\n",
        "        x = self.activation(x)\n",
        "        x = self.l3(x)\n",
        "        y = self.last_activation(x)\n",
        "        return y\n",
        "\n",
        "def train_one_epoch(model, device, data_loader, optimizer):\n",
        "    train_loss = 0\n",
        "    correct = 0\n",
        "    for num, (data, target) in tq.tqdm(enumerate(data_loader), total=len(data_loader.dataset)/data_loader.batch_size):\n",
        "        data, target = data.to(device), target.to(device)\n",
        "        optimizer.zero_grad()\n",
        "        output = model(data)\n",
        "\n",
        "        loss = F.cross_entropy(output, target)\n",
        "        loss.backward()\n",
        "        train_loss += loss.item()\n",
        "        optimizer.step()\n",
        "\n",
        "        prediction = output.argmax(dim=1)\n",
        "        correct += torch.sum(prediction.eq(target)).item()\n",
        "\n",
        "    result = {'loss': train_loss / len(data_loader.dataset),\n",
        "              'accuracy': correct / len(data_loader.dataset)\n",
        "              }\n",
        "    return result   \n",
        " \n",
        "def evaluation(model, device, data_loader):\n",
        "    eval_loss = 0\n",
        "    correct = 0\n",
        "\n",
        "    for num, (data, target) in tq.tqdm(enumerate(data_loader), total=len(data_loader.dataset)/data_loader.batch_size):\n",
        "        data, target = data.to(device), target.to(device)\n",
        "        output = model(data)\n",
        "        eval_loss += F.cross_entropy(output, target).item()\n",
        "        prediction = output.argmax(dim=1)\n",
        "        correct += torch.sum(prediction.eq(target)).item()\n",
        "    result = {'loss': eval_loss / len(data_loader.dataset),\n",
        "              'accuracy': correct / len(data_loader.dataset)\n",
        "              }\n",
        "    return result"
      ],
      "execution_count": 26,
      "outputs": []
    },
    {
      "cell_type": "code",
      "metadata": {
        "id": "Hcj3lBVPgeIN",
        "outputId": "aa351739-455a-4271-a5b2-067ba0810312",
        "colab": {
          "base_uri": "https://localhost:8080/",
          "height": 1000,
          "referenced_widgets": [
            "a6ea760dc7bb449cb71ebb0da5afc624",
            "f588511acb074851a8118db7e5839961",
            "816ab005a5ef441baad58f230d449e3c",
            "d8f78b9b70d4426bbbff4bceda826c65",
            "85c7500ec73446d1a0fca6458e3ee802",
            "89576db90e134b27b2bcaa699af8e9e7",
            "fa6cc6c77d2247139a4ab99098385f6d",
            "9c7664921ec74662be78862e9c40e977",
            "142516ee9f1c4bdd85d1b9dd8420971f",
            "67991610869b41cda3c69451504d55d6",
            "07dd650a0e1c495fae9acb515ba98016",
            "494615eb12f74932a1ab40af853f91f9",
            "fc52f0b1ee8c4516b2a74d83facf0804",
            "9da0008a56a3454aaf13c2a2d4e8a5e6",
            "d1cc9fbee8b044cc960ade3957d4d34a",
            "d292ba441e0c4fe4b8d0b53d09711536",
            "82c794259a1c4cf38628226082b2c717",
            "c51960e603514495938a94a2a0f1e902",
            "6f50405974454f678f5a6565e09971f1",
            "34a2f4c6929f4230b5d915076b38af31",
            "b80ead7fd4d545ae8db33c748effd97f",
            "d35127233904470893ee29b83a7acab5",
            "0bbbc14bb2d44b9f99279483d2f449ff",
            "e8cb91d2fcd84c3992f43fd1e539a9e0",
            "d181bd0c1b3848c087846d1040c99a1d",
            "c741db60685b49c5a8b1d5d9165948b7",
            "1bb0663c8d0047838e8c9431e50e3d51",
            "65751414a6ef47c886bedb35b9d2b1bd",
            "18de14a497af45329a2d9d3bd054b194",
            "be5b672640824860a7af22566f33b007",
            "156194f36e77405eba5aa42422e2d454",
            "66b40b1c76d54f8bb0ec819a06214a49",
            "29648fedebae434e8699361b27b161f6",
            "c6295614b3a24376ab19bcab5ec4cc96",
            "b747a6c4200e4b8a90c8e0f0c96ba6fd",
            "0cd9630234034cb3825a7f40acbafff8",
            "7e5c21885e89495290d0ba0354f8f099",
            "9e99322ec66f4b07ada6ae2cc1266a6b",
            "55e546d932e74e18ad9efa19e7b5b8ea",
            "fbd9d0b6184f4395ac37e32a10ed9426",
            "150ca9574bcb47d49facf687ede8b4bb",
            "ca595fa28d9841939f40e4187647ea39",
            "17df1c6b61024c81aa6591a56334669d",
            "94e030f7b07745eeb39e1a02ac84db25",
            "8d56ad8684004fa6b6faa1c3594874f7",
            "540ceb7a229e40799ddd1e7c362333c9",
            "af0cc310ef774f7bb25cd27e12918ea5",
            "e72abb2c350e417e97f5fbfe7bc3a81f",
            "57ce21376da34ab3a6df6fc3357f1cdd",
            "3e036eeae5344d318601d992c3ebb486",
            "02a317bfaf65489890278d9d27084f80",
            "1508b484ff8a493ea90184912f8485cc",
            "9b51cb1d4ae0412ebc8c12fbb9607997",
            "c61a524b6b1b475fb13c1423dc47a27b",
            "288abbbcd0084d6b817e50a8a9e10379",
            "21ae3087b4904ea6a07f00268d22d619",
            "83de009ea0b44688a59bd53c6fbfe681",
            "efbeb6212d3844adb7621d1f39316a24",
            "15703781494a4404b00b077856b9a4a6",
            "cabdaaf7ebf64c18963413ed60da54a3",
            "53c3c0bff3b84ffb9f11f94a286fefde",
            "d749f48c62ec41e191737503d22d3137",
            "e039b868a16e4cfb87cfa849dbebafcb",
            "8ab4c2f4f988453d934b2e0727ad772f",
            "3d06e93941ef4e2ca77990dffbf96f58",
            "0e999d37f3f64bdeaeef95f58634c026",
            "cf3e8f16bfda421b9d904a9c05935848",
            "104f5ec4533a44b4af30a7c9a64ae65e",
            "5d54f2425d1846339658040ce038aee2",
            "eeb75bf5b6ea4d4c98e6a15255d2d437",
            "a0196c0607eb4b1db77e74cbee8d5fe9",
            "cf9a5a1290ca4d7495d84556f440f315",
            "c03c5e9a3e01403fa02f6fe5a26f5a36",
            "cc90da98468a4d77b91cceb5ef6c2307",
            "7c4038aa23be4428ae99d595a0a56d22",
            "66a0e5a90f264514b522e10570a511e6",
            "f8ee0f266f674faf9357a1c916baab08",
            "af43ba8512374ee2b5e392cbe828249a",
            "38a9bea573be495c96d8c9118d9a02bd",
            "1f107fc6cb36402fbc04545ed8e328e1",
            "857fd4e3fe2b46fd8315b5f31db9eb99",
            "642451ee5d004e28b08538e7547bdf9f",
            "8a512856c09d4af68fe83932208769a3",
            "0f0e092b17e24548bc53eb443ba09286",
            "6029fffb130d4f05a7df8ee7b45d14f2",
            "78d79230a2924fe48041d10b02f48af3",
            "4291ee24211b48799f7aa52256b241ab",
            "02160f355c17478b90966a8bb9d2a417",
            "4b7a6125380e485690983ec8bb9c5e08",
            "f5c2f731d3124b638c261b4cd5afe137",
            "7d2db77cd49541aab16fa48905680a9e",
            "d028a5213605471ca0213fb6f242997e",
            "fd943350affe4407ba9756a725dd1883",
            "eff5ff14e4fb47fbbd77a6b1e5dd9768",
            "4ca4269851394af7a5adb82c138fed86",
            "6b6b66f287f34996809fcaea75e58ed6",
            "f688494665a74b1285e39517f58d585b",
            "30e2c50d263a4cfb843f600ab79ed5bc",
            "8f50f4100e1946c488b2d4ebfba3cfcf",
            "db060f9c233a460d8e43ad97fd2e9188",
            "14061d7c8d224dba8cc27f12bab4a55b",
            "ae37777227ef42d7a3579a299d36229f",
            "02c2f6ee69c548b996882425340cc2c0",
            "78f9fb39ffe34cda852d8c3681dcc254",
            "44ba9926715e41ef8db4819fe8c98ffe",
            "7a6538f6d8494a369871af9513b11551",
            "411a392e2fa843e4bc3bb07364f31c9f",
            "d61e70156a04499698b1ba2a10b5139a",
            "8b4525d261b8434691c47b2f73bb7a19",
            "2f208fe95079411b844d98f64c65acc0",
            "f308b351c5c943c2b3207e8af04a4c26",
            "0383b2ff6e3e4cff90d177d147563522",
            "4640b913ebaf434fb7ab63a6a473e84d",
            "26bdafdffde943d6879ae6689f2c15b8",
            "359329cd48ce42bc97ea2e23f9f944da",
            "681cbcef9c9547f0853603d0011c2bb6",
            "f45403c16d134f1d9f5d769bab81b8e4",
            "ddaf3865e1594d178424f01916762fb4",
            "c6205c37ef784dcb9235caaad4f45234",
            "f8ceabbd1afc49dcb297a5a4f9cebf7b",
            "5699891374274d5aa6db224618ed9104",
            "6ee4cbcf498f40a48073ad55a6f2e20f",
            "f8fe409bdde1437fb56025945a0058b0",
            "d7ca9ecf218e4d63ba6c085546910868",
            "ce09962a1f7e48e3bd1e5154dd746e42",
            "f8bffe4a3aa14b0f90d508d6543b41c8",
            "116ea98e50e547af8acc30b23136737d",
            "2dc02f2877fd4e26ac9d706107068172",
            "21878697fa4d484688a9c3a6a24e95fc",
            "89e534e8c754445fb07a7c683b3d382f",
            "70b0e790f2eb432bb8632b2526095665",
            "a5614401bb354af0a035161bb1777e8d",
            "c6271241a39c46c0a204489cf3fbf66b",
            "9c725c2fd74e4169ad2a641a63c4f38f",
            "21579b61e6064f95935b8d32277bdf91",
            "e247aee8af3d432d9f70c97e2efc32b6",
            "cadb8f0c6d3d427888b457c42e1cd2cb",
            "719486e6095141fab22d5d1d4a89849c",
            "9d9ba9a8c3534437ad31757511fdf698",
            "b8333804f2c5497592df6e3b9f82a636",
            "8d510c857bf440a3937e2fe3c850b4b2",
            "3f68282ec5a144078c195736f0483461",
            "1f9aa8b633dc42efb352f8d19b743cda",
            "aece8147ae404a0ebb9567e0578683cb",
            "c5e9321c690740b6b9be7b1cd10518da",
            "9e10ace8d52042d682172e78b7c497f5",
            "9cb66c6969c744a09adec0a2d75b5617",
            "e9e7bd47e48b4c0890bc1a380f768b6d",
            "f758ba5c641f4a8ab2ddb9d0d1489162",
            "32820aa4a4084beeb6e36adcf2814203",
            "571e7c31611b49f99011cd6739133906",
            "9d40ee1a3a8f42f7ba2efd10433a8a1e",
            "357f36c9255d4f33926619923f3b6432",
            "a2ab23d1a39d44abbc014530aa61d991",
            "99ed7f49a8f740c4b134bf9dc5abe8b3",
            "19bd954e0d044fdc80b7e32810fd2627",
            "2273ebc83aea4cd28145705ecf6dc28b",
            "e7bc037d48604737937c331b47555ca9",
            "a898fc3c341a4f0089eab545ed8684df",
            "9c0e3ac0061742039d1f117e7de4e96f",
            "66d48024b20a44bca27a7607a7ba00c2",
            "dc5e3c691d0e45dd9e0752f501ac1664",
            "23e2391045834104b23dccd523c4f810",
            "2371b4b01deb45e3a302ff379831fde6",
            "42f05feaf47e46a48b6644ed9f935562",
            "38ae5137f928406cbdfe2f0caaa887d2",
            "300a8d4b76ed42e8913e5c46536b5d1c",
            "fce517e74dde483ca159b7cffe7ecd65",
            "2f75887f53b14b079e8a12f8d502a2b5",
            "109408121b7c4a048ed60a073d04be2f",
            "6418eb24b5394c3f8088220976f4dc9f",
            "256f8fb64b7a46259a944d6d27b3f1ec",
            "f77e296d8d174000b1bdd6956d5cb4c6",
            "c80cb8f3488e43f4bb513c23abcaee7e",
            "59479be0bdb0479fb648277b59ad0fcb",
            "10d4397c15974d3d86a4d8d70e8a571c",
            "a614747c1ded408cae0c42f2b918a215",
            "f00fb1cfc0b940fb9255308ea25be165",
            "83070e37b5644a7882fdf4c6e54bb0e2",
            "b8be587ba0724ddf98ff5b582cf52f5f",
            "1e0f06e4acdf4130b39adb0eae921515",
            "60ce00e0a86e4c729e1da3e69567c933",
            "e121d9efd63b4685b9ef3bb78d68d842",
            "eea79b86ea214bc3ab7d6e20e220bcdb"
          ]
        }
      },
      "source": [
        "\n",
        "if __name__ == \"__main__\":\n",
        "    \n",
        "    # Network Hyperparameters \n",
        "    minibatch_size = 28\n",
        "    nepoch = 10\n",
        "    learning_rate = 0.1\n",
        "    momentum = 0 \n",
        "    model = FFNNModel()\n",
        "    model.to(device)\n",
        "    optimizer = optim.SGD(model.parameters(), lr=learning_rate, momentum=momentum)\n",
        "\n",
        "    # Retrieve the data with the pytorch dataloader \n",
        "    mnist_train = MNIST(os.getcwd(), train=True, download=True, transform=transforms.ToTensor())\n",
        "    mnist_train = DataLoader(mnist_train, batch_size=32, num_workers=4, pin_memory=True)\n",
        "    mnist_val = MNIST(os.getcwd(), train=False, download=True, transform=transforms.ToTensor())\n",
        "    mnist_val = DataLoader(mnist_val, batch_size=32, num_workers=4,  pin_memory=True)\n",
        "\n",
        "    # Train for an number of epoch \n",
        "    for epoch in range(nepoch):\n",
        "      print(f\"training Epoch: {epoch}\")\n",
        "      if epoch > 0:\n",
        "        train_result = train_one_epoch(model, device, mnist_train, optimizer)\n",
        "        print(f\"Result Training dataset {train_result}\")\n",
        "\n",
        "      eval_result = evaluation(model, device, mnist_val)\n",
        "      print(f\"Result Test dataset {eval_result}\")\n",
        "\n"
      ],
      "execution_count": 27,
      "outputs": [
        {
          "output_type": "stream",
          "text": [
            "Downloading http://yann.lecun.com/exdb/mnist/train-images-idx3-ubyte.gz to /content/MNIST/raw/train-images-idx3-ubyte.gz\n"
          ],
          "name": "stdout"
        },
        {
          "output_type": "display_data",
          "data": {
            "application/vnd.jupyter.widget-view+json": {
              "model_id": "a6ea760dc7bb449cb71ebb0da5afc624",
              "version_minor": 0,
              "version_major": 2
            },
            "text/plain": [
              "HBox(children=(FloatProgress(value=1.0, bar_style='info', max=1.0), HTML(value='')))"
            ]
          },
          "metadata": {
            "tags": []
          }
        },
        {
          "output_type": "stream",
          "text": [
            "Extracting /content/MNIST/raw/train-images-idx3-ubyte.gz to /content/MNIST/raw\n",
            "Downloading http://yann.lecun.com/exdb/mnist/train-labels-idx1-ubyte.gz to /content/MNIST/raw/train-labels-idx1-ubyte.gz\n"
          ],
          "name": "stdout"
        },
        {
          "output_type": "display_data",
          "data": {
            "application/vnd.jupyter.widget-view+json": {
              "model_id": "142516ee9f1c4bdd85d1b9dd8420971f",
              "version_minor": 0,
              "version_major": 2
            },
            "text/plain": [
              "HBox(children=(FloatProgress(value=1.0, bar_style='info', max=1.0), HTML(value='')))"
            ]
          },
          "metadata": {
            "tags": []
          }
        },
        {
          "output_type": "stream",
          "text": [
            "Extracting /content/MNIST/raw/train-labels-idx1-ubyte.gz to /content/MNIST/raw\n",
            "Downloading http://yann.lecun.com/exdb/mnist/t10k-images-idx3-ubyte.gz to /content/MNIST/raw/t10k-images-idx3-ubyte.gz\n"
          ],
          "name": "stdout"
        },
        {
          "output_type": "display_data",
          "data": {
            "application/vnd.jupyter.widget-view+json": {
              "model_id": "82c794259a1c4cf38628226082b2c717",
              "version_minor": 0,
              "version_major": 2
            },
            "text/plain": [
              "HBox(children=(FloatProgress(value=1.0, bar_style='info', max=1.0), HTML(value='')))"
            ]
          },
          "metadata": {
            "tags": []
          }
        },
        {
          "output_type": "stream",
          "text": [
            "Extracting /content/MNIST/raw/t10k-images-idx3-ubyte.gz to /content/MNIST/raw\n",
            "Downloading http://yann.lecun.com/exdb/mnist/t10k-labels-idx1-ubyte.gz to /content/MNIST/raw/t10k-labels-idx1-ubyte.gz\n"
          ],
          "name": "stdout"
        },
        {
          "output_type": "display_data",
          "data": {
            "application/vnd.jupyter.widget-view+json": {
              "model_id": "d181bd0c1b3848c087846d1040c99a1d",
              "version_minor": 0,
              "version_major": 2
            },
            "text/plain": [
              "HBox(children=(FloatProgress(value=1.0, bar_style='info', max=1.0), HTML(value='')))"
            ]
          },
          "metadata": {
            "tags": []
          }
        },
        {
          "output_type": "stream",
          "text": [
            "Extracting /content/MNIST/raw/t10k-labels-idx1-ubyte.gz to /content/MNIST/raw\n",
            "Processing...\n",
            "Done!\n",
            "training Epoch: 0\n",
            "\n",
            "\n",
            "\n",
            "\n"
          ],
          "name": "stdout"
        },
        {
          "output_type": "stream",
          "text": [
            "/usr/local/lib/python3.6/dist-packages/torchvision/datasets/mnist.py:480: UserWarning: The given NumPy array is not writeable, and PyTorch does not support non-writeable tensors. This means you can write to the underlying (supposedly non-writeable) NumPy array using the tensor. You may want to copy the array to protect its data or make it writeable before converting it to a tensor. This type of warning will be suppressed for the rest of this program. (Triggered internally at  /pytorch/torch/csrc/utils/tensor_numpy.cpp:141.)\n",
            "  return torch.from_numpy(parsed.astype(m[2], copy=False)).view(*s)\n"
          ],
          "name": "stderr"
        },
        {
          "output_type": "display_data",
          "data": {
            "application/vnd.jupyter.widget-view+json": {
              "model_id": "29648fedebae434e8699361b27b161f6",
              "version_minor": 0,
              "version_major": 2
            },
            "text/plain": [
              "HBox(children=(FloatProgress(value=0.0, max=312.5), HTML(value='')))"
            ]
          },
          "metadata": {
            "tags": []
          }
        },
        {
          "output_type": "stream",
          "text": [
            "\n",
            "Result Test dataset {'loss': 0.07207407481670379, 'accuracy': 0.1073}\n",
            "\n",
            "training Epoch: 1\n",
            "\n"
          ],
          "name": "stdout"
        },
        {
          "output_type": "display_data",
          "data": {
            "application/vnd.jupyter.widget-view+json": {
              "model_id": "150ca9574bcb47d49facf687ede8b4bb",
              "version_minor": 0,
              "version_major": 2
            },
            "text/plain": [
              "HBox(children=(FloatProgress(value=0.0, max=1875.0), HTML(value='')))"
            ]
          },
          "metadata": {
            "tags": []
          }
        },
        {
          "output_type": "stream",
          "text": [
            "\n",
            "Result Training dataset {'loss': 0.059505303355058034, 'accuracy': 0.6259}\n",
            "\n"
          ],
          "name": "stdout"
        },
        {
          "output_type": "display_data",
          "data": {
            "application/vnd.jupyter.widget-view+json": {
              "model_id": "57ce21376da34ab3a6df6fc3357f1cdd",
              "version_minor": 0,
              "version_major": 2
            },
            "text/plain": [
              "HBox(children=(FloatProgress(value=0.0, max=312.5), HTML(value='')))"
            ]
          },
          "metadata": {
            "tags": []
          }
        },
        {
          "output_type": "stream",
          "text": [
            "\n",
            "Result Test dataset {'loss': 0.052068591248989105, 'accuracy': 0.8178}\n",
            "\n",
            "training Epoch: 2\n",
            "\n"
          ],
          "name": "stdout"
        },
        {
          "output_type": "display_data",
          "data": {
            "application/vnd.jupyter.widget-view+json": {
              "model_id": "83de009ea0b44688a59bd53c6fbfe681",
              "version_minor": 0,
              "version_major": 2
            },
            "text/plain": [
              "HBox(children=(FloatProgress(value=0.0, max=1875.0), HTML(value='')))"
            ]
          },
          "metadata": {
            "tags": []
          }
        },
        {
          "output_type": "stream",
          "text": [
            "\n",
            "Result Training dataset {'loss': 0.05104524713953336, 'accuracy': 0.8353833333333334}\n",
            "\n"
          ],
          "name": "stdout"
        },
        {
          "output_type": "display_data",
          "data": {
            "application/vnd.jupyter.widget-view+json": {
              "model_id": "3d06e93941ef4e2ca77990dffbf96f58",
              "version_minor": 0,
              "version_major": 2
            },
            "text/plain": [
              "HBox(children=(FloatProgress(value=0.0, max=312.5), HTML(value='')))"
            ]
          },
          "metadata": {
            "tags": []
          }
        },
        {
          "output_type": "stream",
          "text": [
            "\n",
            "Result Test dataset {'loss': 0.05078759477138519, 'accuracy': 0.8432}\n",
            "\n",
            "training Epoch: 3\n",
            "\n"
          ],
          "name": "stdout"
        },
        {
          "output_type": "display_data",
          "data": {
            "application/vnd.jupyter.widget-view+json": {
              "model_id": "c03c5e9a3e01403fa02f6fe5a26f5a36",
              "version_minor": 0,
              "version_major": 2
            },
            "text/plain": [
              "HBox(children=(FloatProgress(value=0.0, max=1875.0), HTML(value='')))"
            ]
          },
          "metadata": {
            "tags": []
          }
        },
        {
          "output_type": "stream",
          "text": [
            "\n",
            "Result Training dataset {'loss': 0.05006516743103663, 'accuracy': 0.8639}\n",
            "\n"
          ],
          "name": "stdout"
        },
        {
          "output_type": "display_data",
          "data": {
            "application/vnd.jupyter.widget-view+json": {
              "model_id": "857fd4e3fe2b46fd8315b5f31db9eb99",
              "version_minor": 0,
              "version_major": 2
            },
            "text/plain": [
              "HBox(children=(FloatProgress(value=0.0, max=312.5), HTML(value='')))"
            ]
          },
          "metadata": {
            "tags": []
          }
        },
        {
          "output_type": "stream",
          "text": [
            "\n",
            "Result Test dataset {'loss': 0.04869766182899475, 'accuracy': 0.9117}\n",
            "\n",
            "training Epoch: 4\n",
            "\n"
          ],
          "name": "stdout"
        },
        {
          "output_type": "display_data",
          "data": {
            "application/vnd.jupyter.widget-view+json": {
              "model_id": "4b7a6125380e485690983ec8bb9c5e08",
              "version_minor": 0,
              "version_major": 2
            },
            "text/plain": [
              "HBox(children=(FloatProgress(value=0.0, max=1875.0), HTML(value='')))"
            ]
          },
          "metadata": {
            "tags": []
          }
        },
        {
          "output_type": "stream",
          "text": [
            "\n",
            "Result Training dataset {'loss': 0.04812807259360949, 'accuracy': 0.9279}\n",
            "\n"
          ],
          "name": "stdout"
        },
        {
          "output_type": "display_data",
          "data": {
            "application/vnd.jupyter.widget-view+json": {
              "model_id": "f688494665a74b1285e39517f58d585b",
              "version_minor": 0,
              "version_major": 2
            },
            "text/plain": [
              "HBox(children=(FloatProgress(value=0.0, max=312.5), HTML(value='')))"
            ]
          },
          "metadata": {
            "tags": []
          }
        },
        {
          "output_type": "stream",
          "text": [
            "\n",
            "Result Test dataset {'loss': 0.047966019797325135, 'accuracy': 0.9332}\n",
            "\n",
            "training Epoch: 5\n",
            "\n"
          ],
          "name": "stdout"
        },
        {
          "output_type": "display_data",
          "data": {
            "application/vnd.jupyter.widget-view+json": {
              "model_id": "44ba9926715e41ef8db4819fe8c98ffe",
              "version_minor": 0,
              "version_major": 2
            },
            "text/plain": [
              "HBox(children=(FloatProgress(value=0.0, max=1875.0), HTML(value='')))"
            ]
          },
          "metadata": {
            "tags": []
          }
        },
        {
          "output_type": "stream",
          "text": [
            "\n",
            "Result Training dataset {'loss': 0.047619749148686726, 'accuracy': 0.94235}\n",
            "\n"
          ],
          "name": "stdout"
        },
        {
          "output_type": "display_data",
          "data": {
            "application/vnd.jupyter.widget-view+json": {
              "model_id": "4640b913ebaf434fb7ab63a6a473e84d",
              "version_minor": 0,
              "version_major": 2
            },
            "text/plain": [
              "HBox(children=(FloatProgress(value=0.0, max=312.5), HTML(value='')))"
            ]
          },
          "metadata": {
            "tags": []
          }
        },
        {
          "output_type": "stream",
          "text": [
            "\n",
            "Result Test dataset {'loss': 0.047602860963344575, 'accuracy': 0.9438}\n",
            "\n",
            "training Epoch: 6\n",
            "\n"
          ],
          "name": "stdout"
        },
        {
          "output_type": "display_data",
          "data": {
            "application/vnd.jupyter.widget-view+json": {
              "model_id": "5699891374274d5aa6db224618ed9104",
              "version_minor": 0,
              "version_major": 2
            },
            "text/plain": [
              "HBox(children=(FloatProgress(value=0.0, max=1875.0), HTML(value='')))"
            ]
          },
          "metadata": {
            "tags": []
          }
        },
        {
          "output_type": "stream",
          "text": [
            "\n",
            "Result Training dataset {'loss': 0.04732808235883713, 'accuracy': 0.9509333333333333}\n",
            "\n"
          ],
          "name": "stdout"
        },
        {
          "output_type": "display_data",
          "data": {
            "application/vnd.jupyter.widget-view+json": {
              "model_id": "21878697fa4d484688a9c3a6a24e95fc",
              "version_minor": 0,
              "version_major": 2
            },
            "text/plain": [
              "HBox(children=(FloatProgress(value=0.0, max=312.5), HTML(value='')))"
            ]
          },
          "metadata": {
            "tags": []
          }
        },
        {
          "output_type": "stream",
          "text": [
            "\n",
            "Result Test dataset {'loss': 0.0473987962603569, 'accuracy': 0.9491}\n",
            "\n",
            "training Epoch: 7\n",
            "\n"
          ],
          "name": "stdout"
        },
        {
          "output_type": "display_data",
          "data": {
            "application/vnd.jupyter.widget-view+json": {
              "model_id": "cadb8f0c6d3d427888b457c42e1cd2cb",
              "version_minor": 0,
              "version_major": 2
            },
            "text/plain": [
              "HBox(children=(FloatProgress(value=0.0, max=1875.0), HTML(value='')))"
            ]
          },
          "metadata": {
            "tags": []
          }
        },
        {
          "output_type": "stream",
          "text": [
            "\n",
            "Result Training dataset {'loss': 0.04710458229581515, 'accuracy': 0.9575}\n",
            "\n"
          ],
          "name": "stdout"
        },
        {
          "output_type": "display_data",
          "data": {
            "application/vnd.jupyter.widget-view+json": {
              "model_id": "c5e9321c690740b6b9be7b1cd10518da",
              "version_minor": 0,
              "version_major": 2
            },
            "text/plain": [
              "HBox(children=(FloatProgress(value=0.0, max=312.5), HTML(value='')))"
            ]
          },
          "metadata": {
            "tags": []
          }
        },
        {
          "output_type": "stream",
          "text": [
            "\n",
            "Result Test dataset {'loss': 0.04725181463956833, 'accuracy': 0.954}\n",
            "\n",
            "training Epoch: 8\n",
            "\n"
          ],
          "name": "stdout"
        },
        {
          "output_type": "display_data",
          "data": {
            "application/vnd.jupyter.widget-view+json": {
              "model_id": "357f36c9255d4f33926619923f3b6432",
              "version_minor": 0,
              "version_major": 2
            },
            "text/plain": [
              "HBox(children=(FloatProgress(value=0.0, max=1875.0), HTML(value='')))"
            ]
          },
          "metadata": {
            "tags": []
          }
        },
        {
          "output_type": "stream",
          "text": [
            "\n",
            "Result Training dataset {'loss': 0.04692169992129008, 'accuracy': 0.9636666666666667}\n",
            "\n"
          ],
          "name": "stdout"
        },
        {
          "output_type": "display_data",
          "data": {
            "application/vnd.jupyter.widget-view+json": {
              "model_id": "66d48024b20a44bca27a7607a7ba00c2",
              "version_minor": 0,
              "version_major": 2
            },
            "text/plain": [
              "HBox(children=(FloatProgress(value=0.0, max=312.5), HTML(value='')))"
            ]
          },
          "metadata": {
            "tags": []
          }
        },
        {
          "output_type": "stream",
          "text": [
            "\n",
            "Result Test dataset {'loss': 0.04707754421234131, 'accuracy': 0.9586}\n",
            "\n",
            "training Epoch: 9\n",
            "\n"
          ],
          "name": "stdout"
        },
        {
          "output_type": "display_data",
          "data": {
            "application/vnd.jupyter.widget-view+json": {
              "model_id": "2f75887f53b14b079e8a12f8d502a2b5",
              "version_minor": 0,
              "version_major": 2
            },
            "text/plain": [
              "HBox(children=(FloatProgress(value=0.0, max=1875.0), HTML(value='')))"
            ]
          },
          "metadata": {
            "tags": []
          }
        },
        {
          "output_type": "stream",
          "text": [
            "\n",
            "Result Training dataset {'loss': 0.04677304334044456, 'accuracy': 0.9677333333333333}\n",
            "\n"
          ],
          "name": "stdout"
        },
        {
          "output_type": "display_data",
          "data": {
            "application/vnd.jupyter.widget-view+json": {
              "model_id": "a614747c1ded408cae0c42f2b918a215",
              "version_minor": 0,
              "version_major": 2
            },
            "text/plain": [
              "HBox(children=(FloatProgress(value=0.0, max=312.5), HTML(value='')))"
            ]
          },
          "metadata": {
            "tags": []
          }
        },
        {
          "output_type": "stream",
          "text": [
            "\n",
            "Result Test dataset {'loss': 0.047044487810134886, 'accuracy': 0.96}\n",
            "\n"
          ],
          "name": "stdout"
        }
      ]
    },
    {
      "cell_type": "markdown",
      "metadata": {
        "id": "rR0RUMI0WABc"
      },
      "source": [
        "# Part 1: What is a convolution ?\n",
        "\n",
        "\n"
      ]
    },
    {
      "cell_type": "markdown",
      "metadata": {
        "id": "Q06D0V9KnzJv"
      },
      "source": [
        "In this section you will implement 2D convolution operation using:\n",
        "\n",
        "Starting with a simple example and manual computation like in Lecture 2\n",
        "\n",
        "1) Introduction: manual computation\n",
        "\n",
        "- you have as input an image of 5x5 pixels\n",
        "\n",
        "$I = \\begin{bmatrix}I_{1, 1} & ... & I_{1, 5} \\\\ \\vdots & \\ddots & \\vdots \\\\ I_{5, 1}& ... & I_{5,5}\\end{bmatrix}$\n",
        "\n",
        "Your task is to compute the result of a convolution operation between this image and a 3x3 kernel\n",
        "\n",
        "$ K = \\begin{bmatrix}a & b & c \\\\d & e & f \\\\ g& h& i\\end{bmatrix}$\n",
        "\n",
        "We are considering padding with 0 and using the SAME convolution. \n",
        "Meaning that arround the I matrix consider there is the value 0.\n",
        "\n",
        "Tips: the result of the convolution is a 5x5 matrix"
      ]
    },
    {
      "cell_type": "code",
      "metadata": {
        "id": "Sfvn5c9yWABe",
        "outputId": "47d29c40-7404-4a23-b6e9-0e9caebe3f5e",
        "colab": {
          "base_uri": "https://localhost:8080/"
        }
      },
      "source": [
        "I = np.array([[252,  49, 113,  11, 137],\n",
        "                [ 18, 237, 163, 119,  53],\n",
        "                [ 90,  89, 178,  75, 247],\n",
        "                [209, 216,  48, 135, 232],\n",
        "                [229, 53, 107, 106, 222]])\n",
        "print(f\"I =\")\n",
        "print(I)\n",
        "print(f\"I with padding =\")\n",
        "print(np.pad(I, 1, mode='constant'))"
      ],
      "execution_count": 28,
      "outputs": [
        {
          "output_type": "stream",
          "text": [
            "I =\n",
            "\n",
            "[[252  49 113  11 137]\n",
            " [ 18 237 163 119  53]\n",
            " [ 90  89 178  75 247]\n",
            " [209 216  48 135 232]\n",
            " [229  53 107 106 222]]\n",
            "\n",
            "I with padding =\n",
            "\n",
            "[[  0   0   0   0   0   0   0]\n",
            " [  0 252  49 113  11 137   0]\n",
            " [  0  18 237 163 119  53   0]\n",
            " [  0  90  89 178  75 247   0]\n",
            " [  0 209 216  48 135 232   0]\n",
            " [  0 229  53 107 106 222   0]\n",
            " [  0   0   0   0   0   0   0]]\n",
            "\n"
          ],
          "name": "stdout"
        }
      ]
    },
    {
      "cell_type": "code",
      "metadata": {
        "id": "bDhH5cxzWABl",
        "outputId": "7599fe06-59b5-4735-e49f-b34103f19553",
        "colab": {
          "base_uri": "https://localhost:8080/"
        }
      },
      "source": [
        "K_0 = np.array([[0, 1, 0], [0, 0, 0], [0, 0, 0]])\n",
        "print(f\"K_0 =\")\n",
        "print(K_0)\n",
        "\n",
        "K_1 = np.array([[1, 1, 1], [0, 5, 0], [-1, -1, -1]])\n",
        "print(f\"K_1 =\")\n",
        "print(K_1)\n"
      ],
      "execution_count": 29,
      "outputs": [
        {
          "output_type": "stream",
          "text": [
            "K_0 =\n",
            "\n",
            "[[0 1 0]\n",
            " [0 0 0]\n",
            " [0 0 0]]\n",
            "\n",
            "K_1 =\n",
            "\n",
            "[[ 1  1  1]\n",
            " [ 0  5  0]\n",
            " [-1 -1 -1]]\n",
            "\n"
          ],
          "name": "stdout"
        }
      ]
    },
    {
      "cell_type": "markdown",
      "metadata": {
        "id": "cqaSC3rTWABq"
      },
      "source": [
        "What is the result of convolution of $ I_0 \\ast K_0 $\n"
      ]
    },
    {
      "cell_type": "code",
      "metadata": {
        "id": "WidbhmkRWABr"
      },
      "source": [
        "# put your answer here\n",
        "R_0 = np.array([[  0,   0,   0,   0,   0],\n",
        "                [252,  49, 113,  11, 137],\n",
        "                [ 18, 237, 163, 119,  53],\n",
        "                [ 90,  89, 178,  75, 247],\n",
        "                [209, 216,  48, 135, 232]])\n"
      ],
      "execution_count": 30,
      "outputs": []
    },
    {
      "cell_type": "markdown",
      "metadata": {
        "id": "Wfi2u2yVWABw"
      },
      "source": [
        "What is the result of convolution of $ I_0 \\ast K_1 $\n"
      ]
    },
    {
      "cell_type": "code",
      "metadata": {
        "id": "4XKt_u-wWABx"
      },
      "source": [
        "# put your answer here\n",
        "R_1 = np.array([[1005, -173,   46, -280,  513],\n",
        "                [ 212, 1242,  646,  356,   91],\n",
        "                [ 280,  390, 1010,  295, 1040],\n",
        "                [ 942, 1048,  316,  740, 1154],\n",
        "                [1570,  738,  934,  945, 1477]])"
      ],
      "execution_count": 31,
      "outputs": []
    },
    {
      "cell_type": "markdown",
      "metadata": {
        "id": "Hu-2xPRZWAB0"
      },
      "source": [
        "## 2) Computation using __numpy__\n",
        "\n",
        "Now using the numpy implement the convolution operation.\n"
      ]
    },
    {
      "cell_type": "code",
      "metadata": {
        "lines_to_next_cell": 0,
        "id": "gP7fnMBHetJg"
      },
      "source": [
        "def convolution_forward_numpy(image, kernel):\n",
        "    # YOUR CODE HERE \n",
        "    iH, iW = image.shape[:2]\n",
        "    kH, kW = kernel.shape[:2]\n",
        "    pad=1\n",
        "\n",
        "    output = np.zeros((iH, iW), dtype=\"float32\")\n",
        "    image = np.pad(image, pad, mode='constant')\n",
        "\n",
        "    # for y in range(0,image.shape[0]-2*pad):\n",
        "    for y in range(pad,iH+pad):\n",
        "        # for x in range(0,image.shape[1]-2*pad):\n",
        "        for x in range(pad,iW+pad):\n",
        "            # output[y,x]=np.sum(np.multiply(image[y:y+3,x:x+3], kernel))\n",
        "            # output[y-pad,x-pad]=np.sum(np.multiply(image[y-pad:y+pad+1,x-pad:x+pad+1], kernel))\n",
        "            extract = image[y-pad:y+pad+1,x-pad:x+pad+1]\n",
        "            output[y-pad,x-pad]=np.sum(np.multiply(extract, kernel))\n",
        "    return output\n",
        "    # return ((output/np.max(output))*255).astype(\"uint8\")"
      ],
      "execution_count": 32,
      "outputs": []
    },
    {
      "cell_type": "code",
      "metadata": {
        "id": "5pvclBfvdnbv",
        "outputId": "8bb592b3-3afe-4173-9706-bbe52a884f06",
        "colab": {
          "base_uri": "https://localhost:8080/"
        }
      },
      "source": [
        "print(((convolution_forward_numpy(I,K_0)/np.max(convolution_forward_numpy(I,K_0)))*255).astype(\"uint8\"))\n",
        "print(((convolution_forward_numpy(I,K_1)/np.max(convolution_forward_numpy(I,K_1)))*255).astype(\"uint8\"))\n",
        "\n",
        "print(convolution_forward_numpy(I,K_0))\n",
        "print(convolution_forward_numpy(I,K_1))"
      ],
      "execution_count": 33,
      "outputs": [
        {
          "output_type": "stream",
          "text": [
            "[[  0   0   0   0   0]\n",
            " [255  49 114  11 138]\n",
            " [ 18 239 164 120  53]\n",
            " [ 91  90 180  75 249]\n",
            " [211 218  48 136 234]]\n",
            "\n",
            "[[163 228   7 211  83]\n",
            " [ 34 201 104  57  14]\n",
            " [ 45  63 164  47 168]\n",
            " [153 170  51 120 187]\n",
            " [255 119 151 153 239]]\n",
            "\n",
            "[[  0.   0.   0.   0.   0.]\n",
            " [252.  49. 113.  11. 137.]\n",
            " [ 18. 237. 163. 119.  53.]\n",
            " [ 90.  89. 178.  75. 247.]\n",
            " [209. 216.  48. 135. 232.]]\n",
            "\n",
            "[[1005. -173.   46. -280.  513.]\n",
            " [ 212. 1242.  646.  356.   91.]\n",
            " [ 280.  390. 1010.  295. 1040.]\n",
            " [ 942. 1048.  316.  740. 1154.]\n",
            " [1570.  738.  934.  945. 1477.]]\n",
            "\n"
          ],
          "name": "stdout"
        }
      ]
    },
    {
      "cell_type": "markdown",
      "metadata": {
        "id": "5OGXKtyVetJm"
      },
      "source": [
        "Test your implementation on the two previous example and compare the results to the result manually computed."
      ]
    },
    {
      "cell_type": "code",
      "metadata": {
        "id": "iRubH1y6WAB1",
        "lines_to_next_cell": 2,
        "outputId": "59a5dc9f-cd72-45ff-a8b6-3e087007c7b5",
        "colab": {
          "base_uri": "https://localhost:8080/"
        }
      },
      "source": [
        "print(np.array_equal(convolution_forward_numpy(I, K_0), R_0))\n",
        "\n",
        "assert np.array_equal(convolution_forward_numpy(I, K_0), R_0)\n",
        "# assert convolution_forward_numpy(I, K_0) == R_0\n",
        "assert np.array_equal(convolution_forward_numpy(I, K_1), R_1)\n",
        "# assert convolution_forward_numpy(I, K_1) == R_1"
      ],
      "execution_count": 34,
      "outputs": [
        {
          "output_type": "stream",
          "text": [
            "True\n",
            "\n"
          ],
          "name": "stdout"
        }
      ]
    },
    {
      "cell_type": "markdown",
      "metadata": {
        "id": "9Lmj8tf3WACI"
      },
      "source": [
        "Display the result image of the convolution"
      ]
    },
    {
      "cell_type": "code",
      "metadata": {
        "id": "eoEYVPzFWACR",
        "lines_to_next_cell": 2,
        "outputId": "6d34d76e-b4c8-43da-b338-3d3ca3ce6e30",
        "colab": {
          "base_uri": "https://localhost:8080/",
          "height": 304
        }
      },
      "source": [
        "# Load image from url, you can use an other image if you want\n",
        "image_url = \"https://upload.wikimedia.org/wikipedia/commons/4/4f/ECE_Paris_Lyon.jpg\"\n",
        "image = imageio.imread(image_url)\n",
        "\n",
        "\n",
        "# simple function to display image\n",
        "def display_image(img):\n",
        "    plt.imshow(img)\n",
        "\n",
        "# display the image\n",
        "display_image(image)\n",
        "# display_image(np.pad(image[0:10,0:10,1],1,mode=\"constant\"))\n",
        "\n",
        "print(image.shape)\n",
        "# print(image[0:10,0:10,0])\n",
        "\n",
        "# Do the convolution operation and display the resulting image\n",
        "\n",
        "# YOUR CODE HERE\n",
        "kernel = K_0\n",
        "output_image = np.empty(image.shape)\n",
        "output_image[...,0]=(convolution_forward_numpy(image[:,:,0], kernel)/255)\n",
        "output_image[...,1]=(convolution_forward_numpy(image[:,:,1], kernel)/255)\n",
        "output_image[...,2]=(convolution_forward_numpy(image[:,:,2], kernel)/255)\n",
        "display_image(output_image)"
      ],
      "execution_count": 35,
      "outputs": [
        {
          "output_type": "stream",
          "text": [
            "(1638, 1638, 3)\n",
            "\n"
          ],
          "name": "stdout"
        },
        {
          "output_type": "display_data",
          "data": {
            "image/png": "[encoded data removed]",
            "text/plain": [
              "<Figure size 432x288 with 1 Axes>"
            ]
          },
          "metadata": {
            "tags": [],
            "needs_background": "light"
          }
        }
      ]
    },
    {
      "cell_type": "code",
      "metadata": {
        "id": "nsEMpPERB6BO",
        "outputId": "9055eed1-6eb2-44b7-d607-62bada0bc712",
        "colab": {
          "base_uri": "https://localhost:8080/",
          "height": 265
        }
      },
      "source": [
        "# print(image[0:10,0:10,1])\n",
        "# print(output_image[0:10,0:10,1].astype(\"uint8\"))\n",
        "\n",
        "# output_image.astype(np.int32)\n",
        "display_image(output_image[0:10,0:10,:])"
      ],
      "execution_count": 36,
      "outputs": [
        {
          "output_type": "display_data",
          "data": {
            "image/png": "[encoded data removed]",
            "text/plain": [
              "<Figure size 432x288 with 1 Axes>"
            ]
          },
          "metadata": {
            "tags": [],
            "needs_background": "light"
          }
        }
      ]
    },
    {
      "cell_type": "markdown",
      "metadata": {
        "id": "v7z9q-rtWACQ"
      },
      "source": [
        "## 3) Computation using __pytorch__\n",
        "\n",
        "Now let's use pytorch convolution layer to do the forward pass. Use the documentation available at: https://pytorch.org/docs/stable/nn.html"
      ]
    },
    {
      "cell_type": "code",
      "metadata": {
        "id": "APrsywDVo_EN"
      },
      "source": [
        "tensor_I = torch.tensor([[252,  49, 113,  11, 137],\n",
        "                         [ 18, 237, 163, 119,  53],\n",
        "                         [ 90,  89, 178,  75, 247],\n",
        "                         [209, 216,  48, 135, 232],\n",
        "                         [229,  53, 107, 106, 222]])\n",
        "\n",
        "tensor_K_0 = torch.tensor([[0, 1, 0], [0, 0, 0], [0, 0, 0]])\n",
        "\n",
        "tensor_K_1 = torch.tensor([[1, 1, 1], [0, 5, 0], [-1, -1, -1]])\n",
        "\n",
        "tensor_R_0 = torch.tensor([[  0,   0,   0,   0,   0],\n",
        "                         [252,  49, 113,  11, 137],\n",
        "                         [ 18, 237, 163, 119,  53],\n",
        "                         [ 90,  89, 178,  75, 247],\n",
        "                         [209, 216,  48, 135, 232]])\n",
        "\n",
        "tensor_R_1 = torch.tensor([[1005, -173,   46, -280,  513],\n",
        "                         [ 212, 1242,  646,  356,   91],\n",
        "                         [ 280,  390, 1010,  295, 1040],\n",
        "                         [ 942, 1048,  316,  740, 1154],\n",
        "                         [1570,  738,  934,  945, 1477]])"
      ],
      "execution_count": 46,
      "outputs": []
    },
    {
      "cell_type": "code",
      "metadata": {
        "id": "2ZboYqQCWACW",
        "lines_to_next_cell": 2
      },
      "source": [
        "def convolution_forward_torch(image, kernel):\n",
        "    # YOUR CODE HERE \n",
        "    iH, iW = image.shape[:2]\n",
        "    kH, kW = kernel.shape[:2]\n",
        "    pad=1\n",
        "\n",
        "    output = torch.zeros((iH, iW))\n",
        "    # image = torch.pad(image, pad, mode='constant')\n",
        "    padding = nn.ConstantPad2d(1, 0)\n",
        "    image = padding(image)\n",
        "\n",
        "    # for y in range(0,image.shape[0]-2*pad):\n",
        "    for y in range(pad,iH+pad):\n",
        "        # for x in range(0,image.shape[1]-2*pad):\n",
        "        for x in range(pad,iW+pad):\n",
        "            extract = image[y-pad:y+pad+1,x-pad:x+pad+1]\n",
        "            output[y-pad,x-pad]=torch.sum(torch.multiply(extract, kernel))\n",
        "    return output\n",
        "    # return ((output/np.max(output))*255).astype(\"uint8\")"
      ],
      "execution_count": 55,
      "outputs": []
    },
    {
      "cell_type": "code",
      "metadata": {
        "id": "7rfMML-nmXhR"
      },
      "source": [
        "# print(torch.all(tensor_R_0.eq(convolution_forward_torch(tensor_I,tensor_K_0))))\n",
        "# print(torch.all(tensor_R_1.eq(convolution_forward_torch(tensor_I,tensor_K_1))))\n",
        "\n",
        "assert torch.all(tensor_R_0.eq(convolution_forward_torch(tensor_I,tensor_K_0)))\n",
        "assert torch.all(tensor_R_1.eq(convolution_forward_torch(tensor_I,tensor_K_1)))"
      ],
      "execution_count": 59,
      "outputs": []
    },
    {
      "cell_type": "markdown",
      "metadata": {
        "id": "x9XtW00JWACZ"
      },
      "source": [
        "In pytorch you can also access other layer like convolution2D, pooling layers, for example in the following cell use the __torch.nn.MaxPool2d__ to redduce the image size."
      ]
    },
    {
      "cell_type": "markdown",
      "metadata": {
        "id": "b5aVluRsoVMC"
      },
      "source": [
        "# Part 2: Using convolution neural network to recognize digits"
      ]
    },
    {
      "cell_type": "markdown",
      "metadata": {
        "id": "7YkGWHXIWACi"
      },
      "source": [
        "In this section you will implement 2D convolution neural network and train it on fashion mnist dataset\n",
        "\n",
        "https://github.com/zalandoresearch/fashion-mnist\n",
        "\n",
        "\n",
        "![Image of fashion mnist](https://raw.githubusercontent.com/zalandoresearch/fashion-mnist/master/doc/img/fashion-mnist-sprite.png)\n",
        "\n",
        "##  First let's look at the data."
      ]
    },
    {
      "cell_type": "code",
      "metadata": {
        "id": "BfBxOSnDIwle"
      },
      "source": [
        "if __name__ == \"__main__\" :\n",
        "\n",
        "  fmnist_train = FashionMNIST(os.getcwd(), train=True, download=True, transform=transforms.ToTensor())\n",
        "  fmnist_train = DataLoader(fmnist_train, batch_size=32, num_workers=4, pin_memory=True)\n",
        "  fmnist_val = FashionMNIST(os.getcwd(), train=False, download=True, transform=transforms.ToTensor())\n",
        "  fmnist_val = DataLoader(fmnist_val, batch_size=32, num_workers=4,  pin_memory=True)"
      ],
      "execution_count": null,
      "outputs": []
    },
    {
      "cell_type": "markdown",
      "metadata": {
        "id": "wWhl5or3WACl"
      },
      "source": [
        "Display the 10 image from train set and 10 images from validation set, print their ground truth"
      ]
    },
    {
      "cell_type": "code",
      "metadata": {
        "id": "_ebAaL_xK7g4"
      },
      "source": [
        "def display_10_images(dataset):\n",
        "    # YOUR CODE HERE \n",
        "    NotImplemented\n",
        "pass"
      ],
      "execution_count": null,
      "outputs": []
    },
    {
      "cell_type": "markdown",
      "metadata": {
        "id": "HNl2tW4OWACm"
      },
      "source": [
        "What is the shape of each images\n",
        "How many images do we have\n",
        "What are the different classes"
      ]
    },
    {
      "cell_type": "code",
      "metadata": {
        "id": "4Ex3UohlH0o6"
      },
      "source": [
        "def fashion_mnist_dataset_answer():\n",
        "    shape = None  # replace None with the value you found\n",
        "    number_of_images_in_train_set = None\n",
        "    number_of_images_in_test_set = None\n",
        "    number_of_classes = None\n",
        "    return {'shape': shape, 'nb_in_train_set': number_of_images_in_train_set, 'nb_in_test_set': number_of_images_in_test_set, 'number_of_classes': number_of_classes}"
      ],
      "execution_count": null,
      "outputs": []
    },
    {
      "cell_type": "code",
      "metadata": {
        "id": "TCt97SpbI7pO"
      },
      "source": [
        "# Plot an image and the target  "
      ],
      "execution_count": null,
      "outputs": []
    },
    {
      "cell_type": "markdown",
      "metadata": {
        "id": "gHK65RunWADA"
      },
      "source": [
        "## Create a convolutional neural network\n",
        "\n",
        "Now it's your turn to create a convolutional neural network and to train your model on the fashion mnist dataset.\n",
        "\n",
        "Classical machine learning approach manage to get a 89% accuracy on fashion mnist, your objective is to use deep learning (and convolution neural network) to get more than 90%\n",
        "\n",
        "You can first start with this simple convolution network and improve it by adding/modifying the layers used:\n",
        "\n",
        "```\n",
        "convolutional layer 3x3\n",
        "convolutional layer 3x3\n",
        "max-pooling\n",
        "convolutional layer 3x3\n",
        "convolutional layer 3x3\n",
        "max-pooling\n",
        "flatten\n",
        "fully-connected layer (dense layer)\n",
        "fully-connected layer (dense layer)\n",
        "fully-connected layer (dense layer)\n",
        "Softmax\n",
        "```\n"
      ]
    },
    {
      "cell_type": "code",
      "metadata": {
        "id": "1W7t-is0WADA",
        "lines_to_next_cell": 2
      },
      "source": [
        "class CNNModel(nn.Module):\n",
        "    def __init__(self, classes=10):\n",
        "        super().__init__()\n",
        "        # YOUR CODE HERE \n",
        "        self.conv1 = NotImplemented\n",
        "\n",
        "    def forward(self, input):\n",
        "        x = self.conv1(input)\n",
        "        # YOUR CODE HERE \n",
        "        y = NotImplemented\n",
        "        return y\n",
        "\n",
        "def train_one_epoch(model, device, data_loader, optimizer):\n",
        "    train_loss = 0\n",
        "    correct = 0\n",
        "    for num, (data, target) in tq.tqdm(enumerate(data_loader), total=len(data_loader.dataset)/data_loader.batch_size):\n",
        "        data, target = data.to(device), target.to(device)\n",
        "        optimizer.zero_grad()\n",
        "        output = model(data)\n",
        "\n",
        "        # YOUR CODE HERE \n",
        "        loss = NotImplemented\n",
        "        loss.backward()\n",
        "        train_loss += loss.item()\n",
        "        optimizer.step()\n",
        "\n",
        "        prediction = output.argmax(dim=1)\n",
        "        correct += torch.sum(prediction.eq(target)).item()\n",
        "\n",
        "    result = {'loss': train_loss / len(data_loader.dataset),\n",
        "              'accuracy': correct / len(data_loader.dataset)\n",
        "              }\n",
        "    return result   \n",
        " \n",
        "def evaluation(model, device, data_loader):\n",
        "    eval_loss = 0\n",
        "    correct = 0\n",
        "\n",
        "    for num, (data, target) in tq.tqdm(enumerate(data_loader), total=len(data_loader.dataset)/data_loader.batch_size):\n",
        "        data, target = data.to(device), target.to(device)\n",
        "        output = model(data)\n",
        "        # YOUR CODE HERE \n",
        "        eval_loss = NotImplemented\n",
        "        prediction = output.argmax(dim=1)\n",
        "        correct += torch.sum(prediction.eq(target)).item()\n",
        "    result = {'loss': eval_loss / len(data_loader.dataset),\n",
        "              'accuracy': correct / len(data_loader.dataset)\n",
        "              }\n",
        "    return result\n",
        "    \n",
        "if __name__ == \"__main__\":\n",
        "    \n",
        "    # Network Hyperparameters \n",
        "    # YOUR CODE HERE \n",
        "    minibatch_size = NotImplemented\n",
        "    nepoch = NotImplemented\n",
        "    learning_rate = NotImplemented\n",
        "    momentum = NotImplemented\n",
        "\n",
        "\n",
        "    model = CNNModel()\n",
        "    model.to(device)\n",
        "\n",
        "    # YOUR CODE HERE \n",
        "    optimizer = NotImplemented\n",
        "\n",
        "    # Train for an number of epoch \n",
        "    for epoch in range(nepoch):\n",
        "      print(f\"training Epoch: {epoch}\")\n",
        "      if epoch > 0:\n",
        "        train_result = train_one_epoch(model, device, fmnist_train, optimizer)\n",
        "        print(f\"Result Training dataset {train_result}\")\n",
        "\n",
        "      eval_result = evaluation(model, device, fmnist_val)\n",
        "      print(f\"Result Test dataset {eval_result}\")\n",
        "\n",
        "pass"
      ],
      "execution_count": null,
      "outputs": []
    },
    {
      "cell_type": "markdown",
      "metadata": {
        "id": "a7l17seRK7hC"
      },
      "source": [
        "## Open Analysis\n",
        "Same as TP 1 please write a short description of your experiment"
      ]
    },
    {
      "cell_type": "markdown",
      "metadata": {
        "id": "QdsLombKK7hC"
      },
      "source": [
        "# BONUS \n",
        "\n",
        "Use some already trained CNN to segment YOUR image. \n",
        "\n",
        "In the cell below your can load a image to the notebook and use the given network to have the segmentation mask and plot it. "
      ]
    },
    {
      "cell_type": "code",
      "metadata": {
        "id": "GA2UO-kcK7hD"
      },
      "source": [
        "if __name__ == \"__main__\" :\n",
        "    \n",
        "    # TODO HERE: Upload an image to the notebook in the navigation bar on the left\n",
        "    # `File` `Load File`and load an image to the notebook. \n",
        "    \n",
        "    filename = \"\" \n",
        "    # Loading a already trained network in pytorch \n",
        "    model = torch.hub.load('pytorch/vision:v0.6.0', 'deeplabv3_resnet101', pretrained=True)\n",
        "    model.eval()\n",
        "\n",
        "    from PIL import Image\n",
        "    from torchvision import transforms\n",
        "\n",
        "    input_image = Image.open(filename)\n",
        "    preprocess = transforms.Compose([\n",
        "        transforms.ToTensor(),\n",
        "        transforms.Normalize(mean=[0.485, 0.456, 0.406], std=[0.229, 0.224, 0.225]),\n",
        "    ])\n",
        "\n",
        "    input_tensor = preprocess(input_image)\n",
        "    input_batch = input_tensor.unsqueeze(0) # create a mini-batch as expected by the model\n",
        "\n",
        "    # move the input and model to GPU for speed if available\n",
        "    if torch.cuda.is_available():\n",
        "        input_batch = input_batch.to('cuda')\n",
        "        model.to('cuda')\n",
        "\n",
        "    with torch.no_grad():\n",
        "        output = model(input_batch)['out'][0]\n",
        "    output_predictions = output.argmax(0)\n",
        "\n",
        "pass"
      ],
      "execution_count": null,
      "outputs": []
    },
    {
      "cell_type": "code",
      "metadata": {
        "id": "I4McVCbwK7hF"
      },
      "source": [
        "pass"
      ],
      "execution_count": null,
      "outputs": []
    }
  ]
}